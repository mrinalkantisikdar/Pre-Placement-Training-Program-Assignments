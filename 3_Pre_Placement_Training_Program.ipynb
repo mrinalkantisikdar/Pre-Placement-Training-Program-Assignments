{
  "nbformat": 4,
  "nbformat_minor": 0,
  "metadata": {
    "colab": {
      "provenance": []
    },
    "kernelspec": {
      "name": "python3",
      "display_name": "Python 3"
    },
    "language_info": {
      "name": "python"
    }
  },
  "cells": [
    {
      "cell_type": "markdown",
      "source": [
        "Question 1\n",
        "Given an integer array nums of length n and an integer target, find three integers\n",
        "in nums such that the sum is closest to the target.\n",
        "Return the sum of the three integers.\n",
        "\n",
        "You may assume that each input would have exactly one solution.\n",
        "\n",
        "Example 1:\n",
        "Input: nums = [-1,2,1,-4], target = 1\n",
        "Output: 2\n",
        "\n",
        "Explanation: The sum that is closest to the target is 2. (-1 + 2 + 1 = 2)."
      ],
      "metadata": {
        "id": "VWoHnL-5-ixU"
      }
    },
    {
      "cell_type": "code",
      "execution_count": 1,
      "metadata": {
        "id": "eNbdrvQc-ge3"
      },
      "outputs": [],
      "source": [
        "def threeSumClosest(nums: list[int], target: int) -> int:\n",
        "    # Sort the given array\n",
        "    nums.sort()\n",
        "    # Length of the array\n",
        "    n = len(nums)\n",
        "    # Closest value\n",
        "    closest = nums[0] + nums[1] + nums[n - 1]\n",
        "    # Loop for each element of the array\n",
        "    for i in range(0, n - 2):\n",
        "        # Left and right pointers\n",
        "        j = i + 1\n",
        "        k = n - 1\n",
        "        # Loop for all other pairs\n",
        "        while j < k:\n",
        "            current_sum = nums[i] + nums[j] + nums[k]\n",
        "            if current_sum <= target:\n",
        "                j += 1\n",
        "            else:\n",
        "                k -= 1\n",
        "            if abs(closest - target) > abs(current_sum - target):\n",
        "                closest = current_sum\n",
        "    return closest"
      ]
    },
    {
      "cell_type": "code",
      "source": [
        "threeSumClosest(nums = [-1,2,1,-4], target = 1)"
      ],
      "metadata": {
        "colab": {
          "base_uri": "https://localhost:8080/"
        },
        "id": "is8UGhgNLfLn",
        "outputId": "84d975c6-6af6-40d1-c08b-e28617cf8f5e"
      },
      "execution_count": 2,
      "outputs": [
        {
          "output_type": "execute_result",
          "data": {
            "text/plain": [
              "2"
            ]
          },
          "metadata": {},
          "execution_count": 2
        }
      ]
    },
    {
      "cell_type": "markdown",
      "source": [
        "Question 2\n",
        "Given an array nums of n integers, return an array of all the unique quadruplets\n",
        "[nums[a], nums[b], nums[c], nums[d]] such that:\n",
        "           ● 0 <= a, b, c, d < n\n",
        "           ● a, b, c, and d are distinct.\n",
        "           ● nums[a] + nums[b] + nums[c] + nums[d] == target\n",
        "\n",
        "You may return the answer in any order.\n",
        "\n",
        "Example 1:\n",
        "Input: nums = [1,0,-1,0,-2,2], target = 0\n",
        "Output: [[-2,-1,1,2],[-2,0,0,2],[-1,0,0,1]]"
      ],
      "metadata": {
        "id": "updaVi9FLoeA"
      }
    },
    {
      "cell_type": "code",
      "source": [
        "# Store the pair of indices\n",
        "class Pair:\n",
        "\tdef __init__(self, x, y):\n",
        "\t\tself.index1 = x\n",
        "\t\tself.index2 = y\n",
        "\n",
        "# Function to find the all the unique quadruplets\n",
        "# with the elements at different indices\n",
        "def GetQuadruplets(nums, target):\n",
        "\t# Store the sum mapped to a list of pair indices\n",
        "\tmap = {}\n",
        "\n",
        "\t# Generate all possible pairs for the map\n",
        "\tfor i in range(len(nums) - 1):\n",
        "\t\tfor j in range(i + 1, len(nums)):\n",
        "\t\t\t# Find the sum of pairs of elements\n",
        "\t\t\tsum = nums[i] + nums[j]\n",
        "\n",
        "\t\t\t# If the sum doesn't exist then update with the new pairs\n",
        "\t\t\tif sum not in map:\n",
        "\t\t\t\tmap[sum] = [Pair(i, j)]\n",
        "\t\t\t# Otherwise, add the new pair of indices to the current sum\n",
        "\t\t\telse:\n",
        "\t\t\t\tmap[sum].append(Pair(i, j))\n",
        "\n",
        "\t# Store all the Quadruplets\n",
        "\tans = set()\n",
        "\n",
        "\tfor i in range(len(nums) - 1):\n",
        "\t\tfor j in range(i + 1, len(nums)):\n",
        "\t\t\tlookUp = target - (nums[i] + nums[j])\n",
        "\n",
        "\t\t\t# If the sum with value (K - sum) exists\n",
        "\t\t\tif lookUp in map:\n",
        "\t\t\t\t# Get the pair of indices of sum\n",
        "\t\t\t\ttemp = map[lookUp]\n",
        "\n",
        "\t\t\t\tfor pair in temp:\n",
        "\t\t\t\t\t# Check if i, j, k and l are distinct or not\n",
        "\t\t\t\t\tif pair.index1 != i and pair.index1 != j and pair.index2 != i and pair.index2 != j:\n",
        "\t\t\t\t\t\tl1 = [nums[pair.index1], nums[pair.index2], nums[i], nums[j]]\n",
        "\t\t\t\t\t\t\n",
        "\t\t\t\t\t\t# Sort the list to avoid duplicacy\n",
        "\t\t\t\t\t\tl1.sort()\n",
        "\t\t\t\t\t\t\n",
        "\t\t\t\t\t\t# Update the set\n",
        "\t\t\t\t\t\tans.add(tuple(l1))\n",
        "\n",
        "\t# Print all the Quadruplets\n",
        "\tprint(*reversed(list(ans)), sep = '\\n')\n",
        "\n",
        "# Driver Code\n",
        "arr = [1, 0, -1, 0, -2, 2]\n",
        "K = 0\n",
        "GetQuadruplets(arr, K)\n",
        "\n",
        "\n"
      ],
      "metadata": {
        "colab": {
          "base_uri": "https://localhost:8080/"
        },
        "id": "uybt74rFLo68",
        "outputId": "ed9d6353-3eed-4613-9eaf-bd8427bb8fa2"
      },
      "execution_count": 3,
      "outputs": [
        {
          "output_type": "stream",
          "name": "stdout",
          "text": [
            "(-2, 0, 0, 2)\n",
            "(-1, 0, 0, 1)\n",
            "(-2, -1, 1, 2)\n"
          ]
        }
      ]
    },
    {
      "cell_type": "markdown",
      "source": [
        "<aside>\n",
        "💡 **Question 3**\n",
        "A permutation of an array of integers is an arrangement of its members into a\n",
        "sequence or linear order.\n",
        "\n",
        "For example, for arr = [1,2,3], the following are all the permutations of arr:\n",
        "[1,2,3], [1,3,2], [2, 1, 3], [2, 3, 1], [3,1,2], [3,2,1].\n",
        "\n",
        "The next permutation of an array of integers is the next lexicographically greater\n",
        "permutation of its integer. More formally, if all the permutations of the array are\n",
        "sorted in one container according to their lexicographical order, then the next\n",
        "permutation of that array is the permutation that follows it in the sorted container.\n",
        "\n",
        "If such an arrangement is not possible, the array must be rearranged as the\n",
        "lowest possible order (i.e., sorted in ascending order).\n",
        "\n",
        "● For example, the next permutation of arr = [1,2,3] is [1,3,2].\n",
        "● Similarly, the next permutation of arr = [2,3,1] is [3,1,2].\n",
        "● While the next permutation of arr = [3,2,1] is [1,2,3] because [3,2,1] does not\n",
        "have a lexicographical larger rearrangement.\n",
        "\n",
        "Given an array of integers nums, find the next permutation of nums.\n",
        "The replacement must be in place and use only constant extra memory.\n",
        "\n",
        "**Example 1:**\n",
        "Input: nums = [1,2,3]\n",
        "Output: [1,3,2]\n",
        "\n",
        "</aside>"
      ],
      "metadata": {
        "id": "Pm9fN1bgL6M3"
      }
    },
    {
      "cell_type": "code",
      "source": [
        "# Python code to implement the above approach\n",
        "def swapPositions(list, pos1, pos2):\n",
        "\tlist[pos1], list[pos2] = list[pos2], list[pos1]\n",
        "\treturn list\n",
        "\n",
        "# Function to find the next permutation\n",
        "def nextPermutation(arr):\n",
        "\tn = len(arr)\n",
        "\ti = 0\n",
        "\tj = 0\n",
        "\t\n",
        "\t# Find for the pivot element.\n",
        "\t# A pivot is the first element from\n",
        "\t# end of sequencewhich doesn't follow\n",
        "\t# property of non-increasing suffix\n",
        "\tfor i in range(n-2, -1, -1):\n",
        "\t\tif (arr[i] < arr[i + 1]):\n",
        "\t\t\tbreak\n",
        "\t\t\t\n",
        "\t# Check if pivot is not found\n",
        "\tif (i < 0):\n",
        "\t\tarr.reverse()\n",
        "\n",
        "\t# if pivot is found\n",
        "\telse:\n",
        "\t\t# Find for the successor of pivot in suffix\n",
        "\t\tfor j in range(n-1, i, -1):\n",
        "\t\t\tif (arr[j] > arr[i]):\n",
        "\t\t\t\tbreak\n",
        "\n",
        "\t\t# Swap the pivot and successor\n",
        "\t\tswapPositions(arr, i, j)\n",
        "\t\t\n",
        "\t\t# Minimise the suffix part\n",
        "\t\t# initializing range\n",
        "\t\tstrt, end = i+1, len(arr)\n",
        "\n",
        "\t\t# Third arg. of split with -1 performs reverse\n",
        "\t\tarr[strt:end] = arr[strt:end][::-1]\n",
        "\n",
        "# Driver code\n",
        "if __name__ == \"__main__\":\n",
        "\tarr = [1, 2, 3]\n",
        "\t\n",
        "\t# Function call\n",
        "\tnextPermutation(arr)\n",
        "\t\n",
        "\t# Printing the answer\n",
        "\tfor i in arr:\n",
        "\t\tprint(i, end=\" \")\n",
        "\n",
        "\n"
      ],
      "metadata": {
        "colab": {
          "base_uri": "https://localhost:8080/"
        },
        "id": "hwiaqpD_MsrQ",
        "outputId": "98a719f9-82d1-4768-bcf3-f12e03da7eb4"
      },
      "execution_count": 4,
      "outputs": [
        {
          "output_type": "stream",
          "name": "stdout",
          "text": [
            "1 3 2 "
          ]
        }
      ]
    },
    {
      "cell_type": "markdown",
      "source": [
        "Question 4\n",
        "Given a sorted array of distinct integers and a target value, return the index if the\n",
        "target is found. If not, return the index where it would be if it were inserted in\n",
        "order.\n",
        "\n",
        "You must write an algorithm with O(log n) runtime complexity.\n",
        "\n",
        "Example 1:\n",
        "Input: nums = [1,3,5,6], target = 5\n",
        "Output: 2"
      ],
      "metadata": {
        "id": "lbiWF4PyM5__"
      }
    },
    {
      "cell_type": "code",
      "source": [
        "# Function to find insert position of K\n",
        "def find_index(arr, n, K):\n",
        "\t\n",
        "\t# Traverse the array\n",
        "\tfor i in range(n):\n",
        "\t\t\n",
        "\t\t# If K is found\n",
        "\t\tif arr[i] == K:\n",
        "\t\t\treturn i\n",
        "\t\t\t\n",
        "\t\t# If arr[i] exceeds K\n",
        "\t\telif arr[i] > K:\n",
        "\t\t\treturn i\n",
        "\t\t\t\n",
        "\t# If all array elements are smaller\n",
        "\treturn n\n",
        "\n",
        "# Driver Code\n",
        "arr = [1, 3, 5, 6]\n",
        "n = len(arr)\n",
        "K = 5\n",
        "print(find_index(arr, n, K))\n"
      ],
      "metadata": {
        "colab": {
          "base_uri": "https://localhost:8080/"
        },
        "id": "s8TgjLXBM6nc",
        "outputId": "ea911d46-034e-44c2-a96d-6f5ccb0d4bf5"
      },
      "execution_count": 12,
      "outputs": [
        {
          "output_type": "stream",
          "name": "stdout",
          "text": [
            "2\n"
          ]
        }
      ]
    },
    {
      "cell_type": "markdown",
      "source": [
        "<aside>\n",
        "💡 **Question 5**\n",
        "You are given a large integer represented as an integer array digits, where each\n",
        "digits[i] is the ith digit of the integer. The digits are ordered from most significant\n",
        "to least significant in left-to-right order. The large integer does not contain any\n",
        "leading 0's.\n",
        "\n",
        "Increment the large integer by one and return the resulting array of digits.\n",
        "\n",
        "**Example 1:**\n",
        "Input: digits = [1,2,3]\n",
        "Output: [1,2,4]\n",
        "\n",
        "**Explanation:** The array represents the integer 123.\n",
        "Incrementing by one gives 123 + 1 = 124.\n",
        "Thus, the result should be [1,2,4].\n",
        "\n",
        "</aside>"
      ],
      "metadata": {
        "id": "lG8q8fz-OXLK"
      }
    },
    {
      "cell_type": "code",
      "source": [
        "def plusOne(digits):\n",
        "    \"\"\"\n",
        "    :type digits: List[int]\n",
        "    :rtype: List[int]\n",
        "    \"\"\"\n",
        "    digit_length = len(digits)\n",
        "    \n",
        "    i = digit_length - 1\n",
        "    \n",
        "    while digits[i] == 9 and i >= 0:\n",
        "        i -= 1\n",
        "    \n",
        "    if i == -1:\n",
        "        results = [0]*(digit_length + 1)\n",
        "        results[0] = 1\n",
        "        return results\n",
        "    \n",
        "    results = [0]*(digit_length)\n",
        "    \n",
        "    results[i] = digits[i] + 1\n",
        "    \n",
        "    for j in range(i-1, -1, -1):\n",
        "        results[j] = digits[j]\n",
        "    \n",
        "    return results"
      ],
      "metadata": {
        "id": "EJQdL1IxOYri"
      },
      "execution_count": 13,
      "outputs": []
    },
    {
      "cell_type": "code",
      "source": [
        "plusOne(digits = [1,2,3])"
      ],
      "metadata": {
        "colab": {
          "base_uri": "https://localhost:8080/"
        },
        "id": "IJ1Z-vk3OpQ6",
        "outputId": "e9f4e101-86ad-411b-c3b0-e34e9fdd0a98"
      },
      "execution_count": 14,
      "outputs": [
        {
          "output_type": "execute_result",
          "data": {
            "text/plain": [
              "[1, 2, 4]"
            ]
          },
          "metadata": {},
          "execution_count": 14
        }
      ]
    },
    {
      "cell_type": "markdown",
      "source": [
        "Question 6\n",
        "Given a non-empty array of integers nums, every element appears twice except\n",
        "for one. Find that single one.\n",
        "\n",
        "You must implement a solution with a linear runtime complexity and use only\n",
        "constant extra space.\n",
        "\n",
        "Example 1:\n",
        "Input: nums = [2,2,1]\n",
        "Output: 1"
      ],
      "metadata": {
        "id": "Czd8-O3zOxMZ"
      }
    },
    {
      "cell_type": "code",
      "source": [
        "# Function to find the array\n",
        "# element that appears only once\n",
        "def findSingle(A, ar_size):\n",
        "\t\n",
        "\t# iterate over every element\n",
        "\tfor i in range(ar_size):\n",
        "\t\t\n",
        "\t\t# Initialize count to 0\n",
        "\t\tcount = 0\n",
        "\t\tfor j in range(ar_size):\n",
        "\t\t\t\n",
        "\t\t\t# Count the frequency\n",
        "\t\t\t# of the element\n",
        "\t\t\tif(A[i] == A[j]):\n",
        "\t\t\t\tcount += 1\n",
        "\n",
        "\t\t# If the frequency of\n",
        "\t\t# the element is one\n",
        "\t\tif(count == 1):\n",
        "\t\t\treturn A[i]\n",
        "\t\t\t\n",
        "\t# If no element exist\n",
        "\t# at most once\n",
        "\treturn -1\n",
        "\n",
        "ar =  [2,2,1]\n",
        "n = len(ar)\n",
        "# Function call\n",
        "print(\"Element occurring once is\", findSingle(ar, n))\n",
        "\n"
      ],
      "metadata": {
        "colab": {
          "base_uri": "https://localhost:8080/"
        },
        "id": "tcyFJj5KOzs9",
        "outputId": "5284bffb-8595-4bdc-cf3c-a061c134efb8"
      },
      "execution_count": 16,
      "outputs": [
        {
          "output_type": "stream",
          "name": "stdout",
          "text": [
            "Element occurring once is 1\n"
          ]
        }
      ]
    },
    {
      "cell_type": "markdown",
      "source": [
        "Question 7\n",
        "You are given an inclusive range [lower, upper] and a sorted unique integer array\n",
        "nums, where all elements are within the inclusive range.\n",
        "\n",
        "A number x is considered missing if x is in the range [lower, upper] and x is not in\n",
        "nums.\n",
        "\n",
        "Return the shortest sorted list of ranges that exactly covers all the missing\n",
        "numbers. That is, no element of nums is included in any of the ranges, and each\n",
        "missing number is covered by one of the ranges.\n",
        "\n",
        "Example 1:\n",
        "Input: nums = [0,1,3,50,75], lower = 0, upper = 99\n",
        "Output: [[2,2],[4,49],[51,74],[76,99]]\n",
        "\n",
        "Explanation: The ranges are:\n",
        "[2,2]\n",
        "[4,49]\n",
        "[51,74]\n",
        "[76,99]"
      ],
      "metadata": {
        "id": "fN2X2aLaPQCT"
      }
    },
    {
      "cell_type": "code",
      "source": [
        "def findMissingRanges(nums, lower, upper):\n",
        "  \"\"\"\n",
        "  :type nums: List[int]\n",
        "  :type lower: int\n",
        "  :type upper: int\n",
        "  :rtype: List[str]\n",
        "  \"\"\"\n",
        "  ranges = []\n",
        "  prev = lower - 1\n",
        "  for i in range(len(nums) + 1):\n",
        "      if i == len(nums):\n",
        "          curr = upper + 1\n",
        "      else:\n",
        "          curr = nums[i]\n",
        "      if curr - prev > 2:\n",
        "          ranges.append(\"%d->%d\" % (prev + 1, curr - 1))\n",
        "      elif curr - prev == 2:\n",
        "          ranges.append(\"%d\" % (prev + 1))\n",
        "      prev = curr\n",
        "  return ranges"
      ],
      "metadata": {
        "id": "-w1RqgRVPQxV"
      },
      "execution_count": 17,
      "outputs": []
    },
    {
      "cell_type": "code",
      "source": [
        "findMissingRanges(nums = [0,1,3,50,75], lower = 0, upper = 99)"
      ],
      "metadata": {
        "colab": {
          "base_uri": "https://localhost:8080/"
        },
        "id": "CiJovQibPwxr",
        "outputId": "f78b85e7-01f1-4f9e-f396-ac0e6d2908f5"
      },
      "execution_count": 18,
      "outputs": [
        {
          "output_type": "execute_result",
          "data": {
            "text/plain": [
              "['2', '4->49', '51->74', '76->99']"
            ]
          },
          "metadata": {},
          "execution_count": 18
        }
      ]
    },
    {
      "cell_type": "markdown",
      "source": [
        "Question 8\n",
        "Given an array of meeting time intervals where intervals[i] = [starti, endi],\n",
        "determine if a person could attend all meetings.\n",
        "\n",
        "Example 1:\n",
        "Input: intervals = [[0,30],[5,10],[15,20]]\n",
        "Output: false"
      ],
      "metadata": {
        "id": "5gSDfK4XP5Cp"
      }
    },
    {
      "cell_type": "code",
      "source": [
        "def canAttendMeetings(intervals):\n",
        "        \n",
        "    intervals.sort(key=lambda a: a[0])\n",
        "    for i in range(len(intervals)-1):\n",
        "        if intervals[i][0] < intervals[i-1][1]:\n",
        "            return False\n",
        "    return True"
      ],
      "metadata": {
        "id": "M8LdHopYP5oC"
      },
      "execution_count": 32,
      "outputs": []
    },
    {
      "cell_type": "code",
      "source": [
        "canAttendMeetings(intervals=[[0,30],[5,10],[15,20]])"
      ],
      "metadata": {
        "colab": {
          "base_uri": "https://localhost:8080/"
        },
        "id": "_Hid1d6hQEM3",
        "outputId": "6e50ec20-1a48-42b7-91a9-cb4ff2d59404"
      },
      "execution_count": 33,
      "outputs": [
        {
          "output_type": "execute_result",
          "data": {
            "text/plain": [
              "False"
            ]
          },
          "metadata": {},
          "execution_count": 33
        }
      ]
    }
  ]
}