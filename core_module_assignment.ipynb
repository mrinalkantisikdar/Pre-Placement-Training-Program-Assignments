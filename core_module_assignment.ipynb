{
  "nbformat": 4,
  "nbformat_minor": 0,
  "metadata": {
    "colab": {
      "provenance": []
    },
    "kernelspec": {
      "name": "python3",
      "display_name": "Python 3"
    },
    "language_info": {
      "name": "python"
    }
  },
  "cells": [
    {
      "cell_type": "markdown",
      "source": [
        "1. Write a Python program to reverse a string without using any built-in string reversal functions.\n"
      ],
      "metadata": {
        "id": "7dT8gfyVLv5l"
      }
    },
    {
      "cell_type": "code",
      "execution_count": 19,
      "metadata": {
        "colab": {
          "base_uri": "https://localhost:8080/"
        },
        "id": "6LC_tH3LJTyZ",
        "outputId": "9287267e-e53a-40f4-d94a-015c9a342183"
      },
      "outputs": [
        {
          "output_type": "stream",
          "name": "stdout",
          "text": [
            "The original string is : Geeksforgeeks\n",
            "The reversed string(using loops) is : skeegrofskeeG\n"
          ]
        }
      ],
      "source": [
        "def reverse(s):\n",
        "\tstr = \"\"\n",
        "\tfor i in s:\n",
        "\t\tstr = i + str\n",
        "\treturn str\n",
        "\n",
        "s = \"Geeksforgeeks\"\n",
        "\n",
        "print(\"The original string is : \", end=\"\")\n",
        "print(s)\n",
        "\n",
        "print(\"The reversed string(using loops) is : \", end=\"\")\n",
        "print(reverse(s))\n"
      ]
    },
    {
      "cell_type": "markdown",
      "source": [
        "2. Implement a function to check if a given string is a palindrome.\n"
      ],
      "metadata": {
        "id": "HPTVZUfkL_zV"
      }
    },
    {
      "cell_type": "code",
      "source": [
        "# function which return reverse of a string\n",
        "\n",
        "def isPalindrome(s):\n",
        "\treturn s == s[::-1]\n",
        "\n",
        "\n",
        "# Driver code\n",
        "s = \"malayalam\"\n",
        "ans = isPalindrome(s)\n",
        "\n",
        "if ans:\n",
        "\tprint(\"Yes\")\n",
        "else:\n",
        "\tprint(\"No\")\n"
      ],
      "metadata": {
        "colab": {
          "base_uri": "https://localhost:8080/"
        },
        "id": "ZZhIz_hHKOy-",
        "outputId": "af5ac04b-9bc4-4ef0-f0f1-12dc411cc1b6"
      },
      "execution_count": 20,
      "outputs": [
        {
          "output_type": "stream",
          "name": "stdout",
          "text": [
            "Yes\n"
          ]
        }
      ]
    },
    {
      "cell_type": "markdown",
      "source": [
        "3. Write a program to find the largest element in a given list.\n"
      ],
      "metadata": {
        "id": "36wRV1AnMKuR"
      }
    },
    {
      "cell_type": "code",
      "source": [
        "# Python program to find largest\n",
        "# number in a list\n",
        "\n",
        "# list of numbers\n",
        "list1 = [10, 20, 4, 45, 99]\n",
        "\n",
        "# sorting the list\n",
        "list1.sort()\n",
        "\n",
        "# printing the last element\n",
        "print(\"Largest element is:\", list1[-1])\n"
      ],
      "metadata": {
        "colab": {
          "base_uri": "https://localhost:8080/"
        },
        "id": "5jQGngjMMLG4",
        "outputId": "8c054ad8-5012-47b1-a238-5fb07123706f"
      },
      "execution_count": 21,
      "outputs": [
        {
          "output_type": "stream",
          "name": "stdout",
          "text": [
            "Largest element is: 99\n"
          ]
        }
      ]
    },
    {
      "cell_type": "markdown",
      "source": [
        "4. Implement a function to count the occurrence of each element in a list.\n"
      ],
      "metadata": {
        "id": "MD7BxkM1MUJS"
      }
    },
    {
      "cell_type": "code",
      "source": [
        "# Python code to count the number of occurrences\n",
        "def countX(lst, x):\n",
        "\tcount = 0\n",
        "\tfor ele in lst:\n",
        "\t\tif (ele == x):\n",
        "\t\t\tcount = count + 1\n",
        "\treturn count\n",
        "\n",
        "\n",
        "# Driver Code\n",
        "lst = [8, 6, 8, 10, 8, 20, 10, 8, 8]\n",
        "x = 8\n",
        "print('{} has occurred {} times'.format(x,\n",
        "\t\t\t\t\t\t\t\t\t\tcountX(lst, x)))\n"
      ],
      "metadata": {
        "colab": {
          "base_uri": "https://localhost:8080/"
        },
        "id": "Z0lcMKnrMSJD",
        "outputId": "2833526b-37db-46d8-b752-94a0b8733a97"
      },
      "execution_count": 22,
      "outputs": [
        {
          "output_type": "stream",
          "name": "stdout",
          "text": [
            "8 has occurred 5 times\n"
          ]
        }
      ]
    },
    {
      "cell_type": "markdown",
      "source": [
        "5. Write a Python program to find the second largest number in a list.\n"
      ],
      "metadata": {
        "id": "FjUQoP-2MXSz"
      }
    },
    {
      "cell_type": "code",
      "source": [
        "# Python program to find second largest\n",
        "# number in a list\n",
        "\n",
        "# list of numbers - length of\n",
        "# list should be at least 2\n",
        "list1 = [10, 20, 4, 45, 99]\n",
        "\n",
        "mx = max(list1[0], list1[1])\n",
        "secondmax = min(list1[0], list1[1])\n",
        "n = len(list1)\n",
        "for i in range(2,n):\n",
        "\tif list1[i] > mx:\n",
        "\t\tsecondmax = mx\n",
        "\t\tmx = list1[i]\n",
        "\telif list1[i] > secondmax and \\\n",
        "\t\tmx != list1[i]:\n",
        "\t\tsecondmax = list1[i]\n",
        "\telif mx == secondmax and \\\n",
        "\t\tsecondmax != list1[i]:\n",
        "\t\tsecondmax = list1[i]\n",
        "\n",
        "print(\"Second highest number is : \",\\\n",
        "\tstr(secondmax))\n"
      ],
      "metadata": {
        "colab": {
          "base_uri": "https://localhost:8080/"
        },
        "id": "zGNR5KtJMaqr",
        "outputId": "632a08eb-a044-4cfe-91ff-15c8fba92965"
      },
      "execution_count": 23,
      "outputs": [
        {
          "output_type": "stream",
          "name": "stdout",
          "text": [
            "Second highest number is :  45\n"
          ]
        }
      ]
    },
    {
      "cell_type": "markdown",
      "source": [
        "6. Implement a function to remove duplicate elements from a list."
      ],
      "metadata": {
        "id": "TiPUMx2SMhBn"
      }
    },
    {
      "cell_type": "code",
      "source": [
        "# Python code to remove duplicate elements\n",
        "def Remove(duplicate):\n",
        "\tfinal_list = []\n",
        "\tfor num in duplicate:\n",
        "\t\tif num not in final_list:\n",
        "\t\t\tfinal_list.append(num)\n",
        "\treturn final_list\n",
        "\n",
        "# Driver Code\n",
        "duplicate = [2, 4, 10, 20, 5, 2, 20, 4]\n",
        "print(Remove(duplicate))\n"
      ],
      "metadata": {
        "colab": {
          "base_uri": "https://localhost:8080/"
        },
        "id": "4U4oJrrYMc60",
        "outputId": "81ae170c-8f36-49b7-ed29-a47fd25f25c9"
      },
      "execution_count": 24,
      "outputs": [
        {
          "output_type": "stream",
          "name": "stdout",
          "text": [
            "[2, 4, 10, 20, 5]\n"
          ]
        }
      ]
    },
    {
      "cell_type": "markdown",
      "source": [
        "7. Write a program to calculate the factorial of a given number.\n"
      ],
      "metadata": {
        "id": "w-HRAF-bMmgV"
      }
    },
    {
      "cell_type": "code",
      "source": [
        "# Python 3 program to find\n",
        "# factorial of given number\n",
        "def factorial(n):\n",
        "\n",
        "\t# single line to find factorial\n",
        "\treturn 1 if (n==1 or n==0) else n * factorial(n - 1)\n",
        "\n",
        "# Driver Code\n",
        "num = 5\n",
        "print(\"Factorial of\",num,\"is\",factorial(num))\n"
      ],
      "metadata": {
        "colab": {
          "base_uri": "https://localhost:8080/"
        },
        "id": "Elmv8ePLMso3",
        "outputId": "d79fcd1f-d6dd-4671-befb-b73ecc315da6"
      },
      "execution_count": 25,
      "outputs": [
        {
          "output_type": "stream",
          "name": "stdout",
          "text": [
            "Factorial of 5 is 120\n"
          ]
        }
      ]
    },
    {
      "cell_type": "markdown",
      "source": [
        "8. Implement a function to check if a given number is prime.\n"
      ],
      "metadata": {
        "id": "m0NVneh4M2Fp"
      }
    },
    {
      "cell_type": "code",
      "source": [
        "from math import sqrt\n",
        "# n is the number to be check whether it is prime or not\n",
        "n = 1\n",
        "\n",
        "# this flag maintains status whether the n is prime or not\n",
        "prime_flag = 0\n",
        "\n",
        "if(n > 1):\n",
        "\tfor i in range(2, int(sqrt(n)) + 1):\n",
        "\t\tif (n % i == 0):\n",
        "\t\t\tprime_flag = 1\n",
        "\t\t\tbreak\n",
        "\tif (prime_flag == 0):\n",
        "\t\tprint(\"True\")\n",
        "\telse:\n",
        "\t\tprint(\"False\")\n",
        "else:\n",
        "\tprint(\"False\")\n"
      ],
      "metadata": {
        "colab": {
          "base_uri": "https://localhost:8080/"
        },
        "id": "xW7n0aMvNAfK",
        "outputId": "368f72ab-fa1a-42da-c311-c20a128bd578"
      },
      "execution_count": 3,
      "outputs": [
        {
          "output_type": "stream",
          "name": "stdout",
          "text": [
            "False\n"
          ]
        }
      ]
    },
    {
      "cell_type": "markdown",
      "source": [
        "9. Write a Python program to sort a list of integers in ascending order.\n"
      ],
      "metadata": {
        "id": "n9vdflvMNgfm"
      }
    },
    {
      "cell_type": "code",
      "source": [
        "# Python program to demonstrate to\n",
        "# sorting numbers in Ascending Order\n",
        "\n",
        "numbers = [1, 3, 4, 2]\n",
        "# Sorting list of Integers in ascending\n",
        "print(numbers.sort()) # None\n",
        "print(numbers)\t\t # [1, 2, 3, 4]\n",
        "\n",
        "print(sorted(numbers)) # [1, 2, 3, 4]\n",
        "print(numbers)\t\t # [1, 3, 4, 2]\n",
        "\n",
        "\n"
      ],
      "metadata": {
        "colab": {
          "base_uri": "https://localhost:8080/"
        },
        "id": "RcDvuJ9dNnxP",
        "outputId": "16c1d75d-75ef-4a3c-8a3a-42bc3afbdbd3"
      },
      "execution_count": 4,
      "outputs": [
        {
          "output_type": "stream",
          "name": "stdout",
          "text": [
            "None\n",
            "[1, 2, 3, 4]\n",
            "[1, 2, 3, 4]\n",
            "[1, 2, 3, 4]\n"
          ]
        }
      ]
    },
    {
      "cell_type": "markdown",
      "source": [
        "10. Implement a function to find the sum of all numbers in a list.\n"
      ],
      "metadata": {
        "id": "krDMRUpGNqVr"
      }
    },
    {
      "cell_type": "code",
      "source": [
        "# Python program to find sum of elements in list\n",
        "\n",
        "total = 0\n",
        "\n",
        "# creating a list\n",
        "list1 = [11, 5, 17, 18, 23]\n",
        "\n",
        "# Iterate each element in list\n",
        "# and add them in variable total\n",
        "for ele in range(0, len(list1)):\n",
        "\ttotal = total + list1[ele]\n",
        "\n",
        "# printing total value\n",
        "print(\"Sum of all elements in given list: \", total)\n"
      ],
      "metadata": {
        "colab": {
          "base_uri": "https://localhost:8080/"
        },
        "id": "J2gTMdssNovi",
        "outputId": "24276633-5be0-45bd-8aff-fa57dd7db9ea"
      },
      "execution_count": 5,
      "outputs": [
        {
          "output_type": "stream",
          "name": "stdout",
          "text": [
            "Sum of all elements in given list:  74\n"
          ]
        }
      ]
    },
    {
      "cell_type": "markdown",
      "source": [
        "11. Write a program to find the common elements between two lists.\n"
      ],
      "metadata": {
        "id": "VTYRuudoNw_C"
      }
    },
    {
      "cell_type": "code",
      "source": [
        "# Python program to find the common elements\n",
        "# in two lists\n",
        "def common_member(a, b):\n",
        "\ta_set = set(a)\n",
        "\tb_set = set(b)\n",
        "\n",
        "\tif (a_set & b_set):\n",
        "\t\tprint(a_set & b_set)\n",
        "\telse:\n",
        "\t\tprint(\"No common elements\")\n",
        "\n",
        "\n",
        "a = [1, 2, 3, 4, 5]\n",
        "b = [5, 6, 7, 8, 9]\n",
        "common_member(a, b)\n",
        "\n",
        "a = [1, 2, 3, 4, 5]\n",
        "b = [6, 7, 8, 9]\n",
        "common_member(a, b)\n"
      ],
      "metadata": {
        "colab": {
          "base_uri": "https://localhost:8080/"
        },
        "id": "5jHe4qIyN2YU",
        "outputId": "c0df9eed-f4c4-469f-bef0-83213f9fd613"
      },
      "execution_count": 6,
      "outputs": [
        {
          "output_type": "stream",
          "name": "stdout",
          "text": [
            "{5}\n",
            "No common elements\n"
          ]
        }
      ]
    },
    {
      "cell_type": "markdown",
      "source": [
        "12. Implement a function to check if a given string is an anagram of another string.\n"
      ],
      "metadata": {
        "id": "6U0JWm81N6fZ"
      }
    },
    {
      "cell_type": "code",
      "source": [
        "# function to check if two strings are\n",
        "# anagram or not\n",
        "def check(s1, s2):\n",
        "\n",
        "\t# the sorted strings are checked\n",
        "\tif(sorted(s1)== sorted(s2)):\n",
        "\t\tprint(\"The strings are anagrams.\")\n",
        "\telse:\n",
        "\t\tprint(\"The strings aren't anagrams.\")\n",
        "\n",
        "# driver code\n",
        "s1 =\"listen\"\n",
        "s2 =\"silent\"\n",
        "check(s1, s2)\n"
      ],
      "metadata": {
        "colab": {
          "base_uri": "https://localhost:8080/"
        },
        "id": "4ZLUypKfN_Vi",
        "outputId": "8c5145e0-098e-4c0d-b128-5b99b195188f"
      },
      "execution_count": 7,
      "outputs": [
        {
          "output_type": "stream",
          "name": "stdout",
          "text": [
            "The strings are anagrams.\n"
          ]
        }
      ]
    },
    {
      "cell_type": "markdown",
      "source": [
        "13. Write a Python program to generate all permutations of a given string.\n"
      ],
      "metadata": {
        "id": "khg4BZXtOWAH"
      }
    },
    {
      "cell_type": "code",
      "source": [
        "# Python program to print all permutations\n",
        "# with duplicates allowed\n",
        "def toString(List):\n",
        "\treturn ''.join(List)\n",
        "\n",
        "# Function to print permutations\n",
        "# of string\n",
        "# This function takes three parameters:\n",
        "# 1. String\n",
        "# 2. Starting index of the string\n",
        "# 3. Ending index of the string.\n",
        "def permute(a, l, r):\n",
        "\tif l == r:\n",
        "\t\tprint (toString(a))\n",
        "\telse:\n",
        "\t\tfor i in range(l, r + 1):\n",
        "\t\t\ta[l], a[i] = a[i], a[l]\n",
        "\t\t\tpermute(a, l + 1, r)\n",
        "\n",
        "\t\t\t# backtrack\n",
        "\t\t\ta[l], a[i] = a[i], a[l]\n",
        "\n",
        "# Driver code\n",
        "string = \"ABC\"\n",
        "n = len(string)\n",
        "a = list(string)\n",
        "permute(a, 0, n-1)\n",
        "\n"
      ],
      "metadata": {
        "colab": {
          "base_uri": "https://localhost:8080/"
        },
        "id": "ZA4CCWn0Oa9U",
        "outputId": "9805f002-9622-42dc-cd44-685b5a22175a"
      },
      "execution_count": 8,
      "outputs": [
        {
          "output_type": "stream",
          "name": "stdout",
          "text": [
            "ABC\n",
            "ACB\n",
            "BAC\n",
            "BCA\n",
            "CBA\n",
            "CAB\n"
          ]
        }
      ]
    },
    {
      "cell_type": "markdown",
      "source": [
        "14. Implement a function to calculate the Fibonacci sequence up to a given number of terms.\n"
      ],
      "metadata": {
        "id": "YR2SSLnhOd9A"
      }
    },
    {
      "cell_type": "code",
      "source": [
        "n = int(input(\"Enter length of Fibonacci series: \"))\n",
        "num1 = 0\n",
        "num2 = 1\n",
        "next_number = 0\n",
        "count = 1\n",
        "\n",
        "while(count <= n):\n",
        "\tprint(next_number, end=\" \")\n",
        "\tcount += 1\n",
        "\tnum1 = num2\n",
        "\tnum2 = next_number\n",
        "\tnext_number = num1 + num2\n",
        "\tt_number = num1 + num2\n"
      ],
      "metadata": {
        "colab": {
          "base_uri": "https://localhost:8080/"
        },
        "id": "8zpvFOg6Ob-Z",
        "outputId": "756ca464-0aaf-4415-b5dc-6991a8581ec8"
      },
      "execution_count": 9,
      "outputs": [
        {
          "output_type": "stream",
          "name": "stdout",
          "text": [
            "Enter length of Fibonacci series: 10\n",
            "0 1 1 2 3 5 8 13 21 34 "
          ]
        }
      ]
    },
    {
      "cell_type": "markdown",
      "source": [
        "15. Write a program to find the median of a list of numbers.\n"
      ],
      "metadata": {
        "id": "20HwCsBkOogR"
      }
    },
    {
      "cell_type": "code",
      "source": [
        "# Python3 code to demonstrate working of\n",
        "# Median of list\n",
        "# Using statistics.median()\n",
        "import statistics\n",
        "\n",
        "# initializing list\n",
        "test_list = [4, 5, 8, 9, 10, 17]\n",
        "\n",
        "# printing list\n",
        "print(\"The original list : \" + str(test_list))\n",
        "\n",
        "# Median of list\n",
        "# Using statistics.median()\n",
        "res = statistics.median(test_list)\n",
        "\n",
        "# Printing result\n",
        "print(\"Median of list is : \" + str(res))\n"
      ],
      "metadata": {
        "colab": {
          "base_uri": "https://localhost:8080/"
        },
        "id": "gpn2x9wXOwCY",
        "outputId": "d498e40d-69e3-4bf6-93f8-a69555e36581"
      },
      "execution_count": 10,
      "outputs": [
        {
          "output_type": "stream",
          "name": "stdout",
          "text": [
            "The original list : [4, 5, 8, 9, 10, 17]\n",
            "Median of list is : 8.5\n"
          ]
        }
      ]
    },
    {
      "cell_type": "markdown",
      "source": [
        "16. Implement a function to check if a given list is sorted in non-decreasing order."
      ],
      "metadata": {
        "id": "-se4ML_-OyhI"
      }
    },
    {
      "cell_type": "code",
      "source": [
        "# Python3 code to demonstrate\n",
        "# to check if list is sorted\n",
        "# using naive method\n",
        "\n",
        "# initializing list\n",
        "test_list = [1, 4, 5, 8, 10]\n",
        "\n",
        "# printing original list\n",
        "print (\"Original list : \" + str(test_list))\n",
        "\n",
        "# using naive method to\n",
        "# check sorted list\n",
        "flag = 0\n",
        "i = 1\n",
        "while i < len(test_list):\n",
        "\tif(test_list[i] < test_list[i - 1]):\n",
        "\t\tflag = 1\n",
        "\ti += 1\n",
        "\n",
        "# printing result\n",
        "if (not flag) :\n",
        "\tprint (\"Yes, List is sorted.\")\n",
        "else :\n",
        "\tprint (\"No, List is not sorted.\")\n"
      ],
      "metadata": {
        "colab": {
          "base_uri": "https://localhost:8080/"
        },
        "id": "68kFJcoiO3eU",
        "outputId": "4de641af-a7bf-44cc-f4e1-e896b04f66c5"
      },
      "execution_count": 11,
      "outputs": [
        {
          "output_type": "stream",
          "name": "stdout",
          "text": [
            "Original list : [1, 4, 5, 8, 10]\n",
            "Yes, List is sorted.\n"
          ]
        }
      ]
    },
    {
      "cell_type": "markdown",
      "source": [
        "17. Write a Python program to find the intersection of two lists.\n"
      ],
      "metadata": {
        "id": "SI-r0Kw4O8nl"
      }
    },
    {
      "cell_type": "code",
      "source": [
        "# Python program to illustrate the intersection\n",
        "# of two lists in most simple way\n",
        "def intersection(lst1, lst2):\n",
        "\tlst3 = [value for value in lst1 if value in lst2]\n",
        "\treturn lst3\n",
        "\n",
        "# Driver Code\n",
        "lst1 = [4, 9, 1, 17, 11, 26, 28, 54, 69]\n",
        "lst2 = [9, 9, 74, 21, 45, 11, 63, 28, 26]\n",
        "print(intersection(lst1, lst2))\n"
      ],
      "metadata": {
        "colab": {
          "base_uri": "https://localhost:8080/"
        },
        "id": "vkyHWSGvPA2F",
        "outputId": "ec2550a9-33c3-499a-ff83-54ae31e0400b"
      },
      "execution_count": 12,
      "outputs": [
        {
          "output_type": "stream",
          "name": "stdout",
          "text": [
            "[9, 11, 26, 28]\n"
          ]
        }
      ]
    },
    {
      "cell_type": "markdown",
      "source": [
        "18. Implement a function to find the maximum subarray sum in a given list.\n"
      ],
      "metadata": {
        "id": "q9iav23dPDVE"
      }
    },
    {
      "cell_type": "code",
      "source": [
        "# Python program to find maximum contiguous subarray\n",
        "\n",
        "# Function to find the maximum contiguous subarray\n",
        "from math import inf\n",
        "maxint=inf\n",
        "def maxSubArraySum(a,size):\n",
        "\n",
        "\tmax_so_far = -maxint - 1\n",
        "\tmax_ending_here = 0\n",
        "\n",
        "\tfor i in range(0, size):\n",
        "\t\tmax_ending_here = max_ending_here + a[i]\n",
        "\t\tif (max_so_far < max_ending_here):\n",
        "\t\t\tmax_so_far = max_ending_here\n",
        "\n",
        "\t\tif max_ending_here < 0:\n",
        "\t\t\tmax_ending_here = 0\n",
        "\treturn max_so_far\n",
        "\n",
        "# Driver function to check the above function\n",
        "a = [-13, -3, -25, -20, -3, -16, -23, -12, -5, -22, -15, -4, -7]\n",
        "print (\"Maximum contiguous sum is\", maxSubArraySum(a,len(a)))\n",
        "\n"
      ],
      "metadata": {
        "colab": {
          "base_uri": "https://localhost:8080/"
        },
        "id": "uT60vuZYPK53",
        "outputId": "8681ca9e-ffeb-47d5-98b7-3cc325e98f8a"
      },
      "execution_count": 13,
      "outputs": [
        {
          "output_type": "stream",
          "name": "stdout",
          "text": [
            "Maximum contiguous sum is -3\n"
          ]
        }
      ]
    },
    {
      "cell_type": "markdown",
      "source": [
        "19. Write a program to remove all vowels from a given string.\n"
      ],
      "metadata": {
        "id": "dolelXP7PPGx"
      }
    },
    {
      "cell_type": "code",
      "source": [
        "# Python program to remove vowels from a string\n",
        "# Function to remove vowels\n",
        "def rem_vowel(string):\n",
        "\tvowels = ['a','e','i','o','u']\n",
        "\tresult = [letter for letter in string if letter.lower() not in vowels]\n",
        "\tresult = ''.join(result)\n",
        "\tprint(result)\n",
        "\n",
        "# Driver program\n",
        "string = \"GeeksforGeeks - A Computer Science Portal for Geeks\"\n",
        "rem_vowel(string)\n",
        "string = \"Loving Python LOL\"\n",
        "rem_vowel(string)\n"
      ],
      "metadata": {
        "colab": {
          "base_uri": "https://localhost:8080/"
        },
        "id": "FSsuiDFwPLtz",
        "outputId": "f440ca57-feb5-4ee6-8456-864aefaed51c"
      },
      "execution_count": 14,
      "outputs": [
        {
          "output_type": "stream",
          "name": "stdout",
          "text": [
            "GksfrGks -  Cmptr Scnc Prtl fr Gks\n",
            "Lvng Pythn LL\n"
          ]
        }
      ]
    },
    {
      "cell_type": "markdown",
      "source": [
        "20. Implement a function to reverse the order of words in a given sentence.\n"
      ],
      "metadata": {
        "id": "g3thOy5IPXYK"
      }
    },
    {
      "cell_type": "code",
      "source": [
        "# Python code\n",
        "# To reverse words in a given string\n",
        "\n",
        "# input string\n",
        "string = \"geeks quiz practice code\"\n",
        "# reversing words in a given string\n",
        "s = string.split()[::-1]\n",
        "l = []\n",
        "for i in s:\n",
        "\t# appending reversed words to l\n",
        "\tl.append(i)\n",
        "# printing reverse words\n",
        "print(\" \".join(l))\n"
      ],
      "metadata": {
        "colab": {
          "base_uri": "https://localhost:8080/"
        },
        "id": "Q2DsnyQCPbIU",
        "outputId": "32a86988-959b-4d66-f343-aa0e80a10d36"
      },
      "execution_count": 15,
      "outputs": [
        {
          "output_type": "stream",
          "name": "stdout",
          "text": [
            "code practice quiz geeks\n"
          ]
        }
      ]
    },
    {
      "cell_type": "markdown",
      "source": [
        "21. Write a Python program to check if two strings are anagrams of each other.\n"
      ],
      "metadata": {
        "id": "W4KrAeNnPd_o"
      }
    },
    {
      "cell_type": "code",
      "source": [
        "# function to check if two strings are\n",
        "# anagram or not\n",
        "def check(s1, s2):\n",
        "\n",
        "\t# the sorted strings are checked\n",
        "\tif(sorted(s1)== sorted(s2)):\n",
        "\t\tprint(\"The strings are anagrams.\")\n",
        "\telse:\n",
        "\t\tprint(\"The strings aren't anagrams.\")\n",
        "\n",
        "# driver code\n",
        "s1 =\"listen\"\n",
        "s2 =\"silent\"\n",
        "check(s1, s2)\n"
      ],
      "metadata": {
        "colab": {
          "base_uri": "https://localhost:8080/"
        },
        "id": "r8CsgGCnPifM",
        "outputId": "6f189a2c-6972-4ba7-dcfc-925fcd4780ba"
      },
      "execution_count": 16,
      "outputs": [
        {
          "output_type": "stream",
          "name": "stdout",
          "text": [
            "The strings are anagrams.\n"
          ]
        }
      ]
    },
    {
      "cell_type": "markdown",
      "source": [
        "22. Implement a function to find the first non-repeating character in a string.\n"
      ],
      "metadata": {
        "id": "HNHkuffQPkmt"
      }
    },
    {
      "cell_type": "code",
      "source": [
        "# Python program to print the first non-repeating character\n",
        "\n",
        "string = \"geeksforgeeks\"\n",
        "index = -1\n",
        "fnc = \"\"\n",
        "\n",
        "if len(string) == 0 :\n",
        "  print(\"EMTPY STRING\");\n",
        "\n",
        "for i in string:\n",
        "\tif string.count(i) == 1:\n",
        "\t\tfnc += i\n",
        "\t\tbreak\n",
        "\telse:\n",
        "\t\tindex += 1\n",
        "if index == len(string)-1 :\n",
        "\tprint(\"All characters are repeating \")\n",
        "else:\n",
        "\tprint(\"First non-repeating character is\", fnc)\n",
        "\n"
      ],
      "metadata": {
        "colab": {
          "base_uri": "https://localhost:8080/"
        },
        "id": "8ixo3BH3PpAq",
        "outputId": "b87d2984-89da-4269-f573-634318b283ef"
      },
      "execution_count": 18,
      "outputs": [
        {
          "output_type": "stream",
          "name": "stdout",
          "text": [
            "First non-repeating character is f\n"
          ]
        }
      ]
    },
    {
      "cell_type": "markdown",
      "source": [
        "23. Write a program to find the prime factors of a given number.\n"
      ],
      "metadata": {
        "id": "LhFgpbOSPubb"
      }
    },
    {
      "cell_type": "code",
      "source": [
        "# Python program to print prime factors\n",
        "\n",
        "import math\n",
        "\n",
        "# A function to print all prime factors of\n",
        "# a given number n\n",
        "def primeFactors(n):\n",
        "\n",
        "\t# Print the number of two's that divide n\n",
        "\twhile n % 2 == 0:\n",
        "\t\tprint(2)\n",
        "\t\tn = n / 2\n",
        "\n",
        "\t# n must be odd at this point\n",
        "\t# so a skip of 2 ( i = i + 2) can be used\n",
        "\tfor i in range(3,int(math.sqrt(n))+1,2):\n",
        "\n",
        "\t\t# while i divides n , print i and divide n\n",
        "\t\twhile n % i== 0:\n",
        "\t\t\tprint(i)\n",
        "\t\t\tn = n / i\n",
        "\n",
        "\t# Condition if n is a prime\n",
        "\t# number greater than 2\n",
        "\tif n > 2:\n",
        "\t\tprint(n)\n",
        "\n",
        "# Driver Program to test above function\n",
        "\n",
        "n = 315\n",
        "primeFactors(n)\n",
        "\n",
        "\n"
      ],
      "metadata": {
        "colab": {
          "base_uri": "https://localhost:8080/"
        },
        "id": "TYanB_1jPqO7",
        "outputId": "a9112b22-2147-4f45-dab3-424b9bf46edc"
      },
      "execution_count": 21,
      "outputs": [
        {
          "output_type": "stream",
          "name": "stdout",
          "text": [
            "3\n",
            "3\n",
            "5\n",
            "7\n"
          ]
        }
      ]
    },
    {
      "cell_type": "markdown",
      "source": [
        "24. Implement a function to check if a given number is a power of two.\n"
      ],
      "metadata": {
        "id": "fVgz3uXoQEOl"
      }
    },
    {
      "cell_type": "code",
      "source": [
        "# Python3 Program to find\n",
        "# whether a no is\n",
        "# power of two\n",
        "import math\n",
        "\n",
        "# Function to check\n",
        "# Log base 2\n",
        "def Log2(x):\n",
        "\treturn (math.log10(x) /\n",
        "\t\t\tmath.log10(2));\n",
        "\n",
        "# Function to check\n",
        "# if x is power of 2\n",
        "def isPowerOfTwo(n):\n",
        "\treturn (math.ceil(Log2(n)) == math.floor(Log2(n)));\n",
        "\n",
        "# Driver Code\n",
        "if(isPowerOfTwo(31)):\n",
        "\tprint(\"Yes\");\n",
        "else:\n",
        "\tprint(\"No\");\n",
        "\n",
        "if(isPowerOfTwo(64)):\n",
        "\tprint(\"Yes\");\n",
        "else:\n",
        "\tprint(\"No\");\n"
      ],
      "metadata": {
        "colab": {
          "base_uri": "https://localhost:8080/"
        },
        "id": "nvYGmnzXP2jm",
        "outputId": "04651f89-8b30-45fd-971f-ae9298eeae96"
      },
      "execution_count": 22,
      "outputs": [
        {
          "output_type": "stream",
          "name": "stdout",
          "text": [
            "No\n",
            "Yes\n"
          ]
        }
      ]
    },
    {
      "cell_type": "markdown",
      "source": [
        "25. Write a Python program to merge two sorted lists into a single sorted list.\n"
      ],
      "metadata": {
        "id": "3F46-kAWQY3e"
      }
    },
    {
      "cell_type": "code",
      "source": [
        "# Python3 code to demonstrate\n",
        "# to combine two sorted list\n",
        "# using naive method\n",
        "\n",
        "# initializing lists\n",
        "test_list1 = [1, 5, 6, 9, 11]\n",
        "test_list2 = [3, 4, 7, 8, 10]\n",
        "\n",
        "# printing original lists\n",
        "print(\"The original list 1 is : \" + str(test_list1))\n",
        "print(\"The original list 2 is : \" + str(test_list2))\n",
        "\n",
        "# using naive method\n",
        "# to combine two sorted lists\n",
        "size_1 = len(test_list1)\n",
        "size_2 = len(test_list2)\n",
        "\n",
        "res = []\n",
        "i, j = 0, 0\n",
        "\n",
        "while i < size_1 and j < size_2:\n",
        "\tif test_list1[i] < test_list2[j]:\n",
        "\t\tres.append(test_list1[i])\n",
        "\t\ti += 1\n",
        "\n",
        "\telse:\n",
        "\t\tres.append(test_list2[j])\n",
        "\t\tj += 1\n",
        "\n",
        "res = res + test_list1[i:] + test_list2[j:]\n",
        "\n",
        "# printing result\n",
        "print(\"The combined sorted list is : \" + str(res))\n"
      ],
      "metadata": {
        "colab": {
          "base_uri": "https://localhost:8080/"
        },
        "id": "bapSKGIjQKAZ",
        "outputId": "55b0304f-743c-45b0-b0c2-1ab10340d0e6"
      },
      "execution_count": 23,
      "outputs": [
        {
          "output_type": "stream",
          "name": "stdout",
          "text": [
            "The original list 1 is : [1, 5, 6, 9, 11]\n",
            "The original list 2 is : [3, 4, 7, 8, 10]\n",
            "The combined sorted list is : [1, 3, 4, 5, 6, 7, 8, 9, 10, 11]\n"
          ]
        }
      ]
    },
    {
      "cell_type": "markdown",
      "source": [
        "26. Implement a function to find the mode of a list of numbers.\n"
      ],
      "metadata": {
        "id": "7-QdwaMMQfnO"
      }
    },
    {
      "cell_type": "code",
      "source": [
        "# Python program to print\n",
        "# mode of elements\n",
        "from collections import Counter\n",
        "\n",
        "# list of elements to calculate mode\n",
        "n_num = [1, 2, 3, 4, 5, 5]\n",
        "n = len(n_num)\n",
        "\n",
        "data = Counter(n_num)\n",
        "get_mode = dict(data)\n",
        "mode = [k for k, v in get_mode.items() if v == max(list(data.values()))]\n",
        "\n",
        "if len(mode) == n:\n",
        "\tget_mode = \"No mode found\"\n",
        "else:\n",
        "\tget_mode = \"Mode is / are: \" + ', '.join(map(str, mode))\n",
        "\n",
        "print(get_mode)\n"
      ],
      "metadata": {
        "colab": {
          "base_uri": "https://localhost:8080/"
        },
        "id": "_-lbOXFAQo8c",
        "outputId": "c7d7fbb0-5ee6-4401-abf3-2f8f4b0f507f"
      },
      "execution_count": 24,
      "outputs": [
        {
          "output_type": "stream",
          "name": "stdout",
          "text": [
            "Mode is / are: 5\n"
          ]
        }
      ]
    },
    {
      "cell_type": "markdown",
      "source": [
        "27. Write a program to find the greatest common divisor (GCD) of two numbers.\n"
      ],
      "metadata": {
        "id": "OHwRn5qRQszz"
      }
    },
    {
      "cell_type": "code",
      "source": [
        "# Python code to demonstrate naive\n",
        "# method to compute gcd ( recursion )\n",
        "\n",
        "\n",
        "def hcf(a, b):\n",
        "\tif(b == 0):\n",
        "\t\treturn a\n",
        "\telse:\n",
        "\t\treturn hcf(b, a % b)\n",
        "\n",
        "a = 60\n",
        "b = 48\n",
        "\n",
        "# prints 12\n",
        "print(\"The gcd of 60 and 48 is : \", end=\"\")\n",
        "print(hcf(60, 48))\n"
      ],
      "metadata": {
        "colab": {
          "base_uri": "https://localhost:8080/"
        },
        "id": "S_L4_nuEQxxs",
        "outputId": "d0178b2b-2d0f-473e-eeff-ee2738df32d5"
      },
      "execution_count": 25,
      "outputs": [
        {
          "output_type": "stream",
          "name": "stdout",
          "text": [
            "The gcd of 60 and 48 is : 12\n"
          ]
        }
      ]
    },
    {
      "cell_type": "markdown",
      "source": [
        "28. Implement a function to calculate the square root of a given number.\n"
      ],
      "metadata": {
        "id": "i5oN6_2tQzsM"
      }
    },
    {
      "cell_type": "code",
      "source": [
        "# Python3 program to find floor(sqrt(x)\n",
        "\n",
        "# Returns floor of square root of x\n",
        "\n",
        "\n",
        "def floorSqrt(x):\n",
        "\n",
        "\t# Base cases\n",
        "\tif (x == 0 or x == 1):\n",
        "\t\treturn x\n",
        "\n",
        "\t# Starting from 1, try all numbers until\n",
        "\t# i*i is greater than or equal to x.\n",
        "\ti = 1\n",
        "\tresult = 1\n",
        "\twhile (result <= x):\n",
        "\n",
        "\t\ti += 1\n",
        "\t\tresult = i * i\n",
        "\n",
        "\treturn i - 1\n",
        "\n",
        "\n",
        "# Driver Code\n",
        "x = 11\n",
        "print(floorSqrt(x))\n"
      ],
      "metadata": {
        "colab": {
          "base_uri": "https://localhost:8080/"
        },
        "id": "GOC1DUxbQ9LE",
        "outputId": "a01644fb-6f06-43ff-cd4e-7e50a54c207c"
      },
      "execution_count": 26,
      "outputs": [
        {
          "output_type": "stream",
          "name": "stdout",
          "text": [
            "3\n"
          ]
        }
      ]
    },
    {
      "cell_type": "markdown",
      "source": [
        "29. Write a Python program to check if a given string is a valid palindrome ignoring non-alphanumeric characters.\n"
      ],
      "metadata": {
        "id": "uvRuceLsQ_ae"
      }
    },
    {
      "cell_type": "code",
      "source": [
        "# function which return reverse of a string\n",
        "\n",
        "def isPalindrome(s):\n",
        "\treturn s == s[::-1]\n",
        "\n",
        "\n",
        "# Driver code\n",
        "s = \"malayalam\"\n",
        "ans = isPalindrome(s)\n",
        "\n",
        "if ans:\n",
        "\tprint(\"Yes\")\n",
        "else:\n",
        "\tprint(\"No\")\n"
      ],
      "metadata": {
        "colab": {
          "base_uri": "https://localhost:8080/"
        },
        "id": "ye9SnURrRFtZ",
        "outputId": "01835cc2-12d3-4ad3-98ca-c3bec31ee3de"
      },
      "execution_count": 27,
      "outputs": [
        {
          "output_type": "stream",
          "name": "stdout",
          "text": [
            "Yes\n"
          ]
        }
      ]
    },
    {
      "cell_type": "markdown",
      "source": [
        "30. Implement a function to find the minimum element in a rotated sorted list.\n"
      ],
      "metadata": {
        "id": "wBDyqvNYRJGP"
      }
    },
    {
      "cell_type": "code",
      "source": [
        "# python3 code to implement the approach\n",
        "\n",
        "def findMin(arr, N):\n",
        "\n",
        "\tmin_ele = arr[0];\n",
        "\n",
        "\t# Traversing over array to\n",
        "\t# find minimum element\n",
        "\tfor i in range(N) :\n",
        "\t\tif arr[i] < min_ele :\n",
        "\t\t\tmin_ele = arr[i]\n",
        "\n",
        "\treturn min_ele;\n",
        "\n",
        "# Driver program\n",
        "arr = [5, 6, 1, 2, 3, 4]\n",
        "N = len(arr)\n",
        "\n",
        "print(findMin(arr,N))\n",
        "\n"
      ],
      "metadata": {
        "colab": {
          "base_uri": "https://localhost:8080/"
        },
        "id": "dV08OrBQROOW",
        "outputId": "238d145a-ceec-4869-d67d-c407cd2c7ca8"
      },
      "execution_count": 28,
      "outputs": [
        {
          "output_type": "stream",
          "name": "stdout",
          "text": [
            "1\n"
          ]
        }
      ]
    },
    {
      "cell_type": "markdown",
      "source": [
        "31. Write a program to find the sum of all even numbers in a list.\n"
      ],
      "metadata": {
        "id": "GJFyys-DRREO"
      }
    },
    {
      "cell_type": "code",
      "source": [
        "# initializing list\n",
        "test_list = [345, 893, 1948, 34, 2346]\n",
        "\n",
        "# printing original list\n",
        "print(\"The original list is : \" + str(test_list))\n",
        "\n",
        "odd_sum = 0\n",
        "even_sum = 0\n",
        "\n",
        "for sub in test_list:\n",
        "\tfor ele in str(sub):\n",
        "\n",
        "\t\t# adding in particular summation according to value\n",
        "\t\tif int(ele) % 2 == 0:\n",
        "\t\t\teven_sum += int(ele)\n",
        "\t\telse:\n",
        "\t\t\todd_sum += int(ele)\n",
        "\n",
        "# printing result\n",
        "print(\"Odd digit sum : \" + str(odd_sum))\n",
        "print(\"Even digit sum : \" + str(even_sum))\n"
      ],
      "metadata": {
        "colab": {
          "base_uri": "https://localhost:8080/"
        },
        "id": "nE4dNT2gRPC9",
        "outputId": "49e9177c-e0a6-426a-974e-314587ac5d8a"
      },
      "execution_count": 29,
      "outputs": [
        {
          "output_type": "stream",
          "name": "stdout",
          "text": [
            "The original list is : [345, 893, 1948, 34, 2346]\n",
            "Odd digit sum : 36\n",
            "Even digit sum : 40\n"
          ]
        }
      ]
    },
    {
      "cell_type": "code",
      "source": [
        "nums = []\n",
        "print(\"Enter the size of list: \", end=\"\")\n",
        "tot = int(input())\n",
        "print(\"Enter\", tot, \"Elements for the list: \", end=\"\")\n",
        "for i in range(tot):\n",
        "    nums.append(int(input()))\n",
        "\n",
        "sum = 0\n",
        "count = 0\n",
        "for i in range(tot):\n",
        "    if nums[i]%2 == 0:\n",
        "        sum = sum + nums[i]\n",
        "        count = count+1\n",
        "\n",
        "if count==0:\n",
        "    print(\"\\nEven number is not found in this list!\")\n",
        "else:\n",
        "    print(\"\\nSum of Even Numbers =\", sum)"
      ],
      "metadata": {
        "colab": {
          "base_uri": "https://localhost:8080/"
        },
        "id": "zdJQLKbCR00T",
        "outputId": "250aa32f-aa9c-42fc-963e-2ba691dfc3c3"
      },
      "execution_count": 31,
      "outputs": [
        {
          "output_type": "stream",
          "name": "stdout",
          "text": [
            "Enter the size of list: 4\n",
            "Enter 4 Elements for the list: 1\n",
            "2\n",
            "3\n",
            "4\n",
            "\n",
            "Sum of Even Numbers = 6\n"
          ]
        }
      ]
    },
    {
      "cell_type": "markdown",
      "source": [
        "32. Implement a function to calculate the power of a number using recursion.\n"
      ],
      "metadata": {
        "id": "FybZMrnWSPug"
      }
    },
    {
      "cell_type": "code",
      "source": [
        "# Python3 code to recursively find\n",
        "# the power of a number\n",
        "\n",
        "# Recursive function to find N^P.\n",
        "def power(N, P):\n",
        "\n",
        "\t# If power is 0 then return 1\n",
        "\t# if condition is true\n",
        "\t# only then it will enter it,\n",
        "\t# otherwise not\n",
        "\tif P == 0:\n",
        "\t\treturn 1\n",
        "\n",
        "\t# Recurrence relation\n",
        "\treturn (N*power(N, P-1))\n",
        "\n",
        "\n",
        "# Driver code\n",
        "if __name__ == '__main__':\n",
        "\tN = 5\n",
        "\tP = 2\n",
        "\n",
        "\tprint(power(N, P))\n"
      ],
      "metadata": {
        "colab": {
          "base_uri": "https://localhost:8080/"
        },
        "id": "ZrgJYrHgSUt2",
        "outputId": "0e85b528-e9d3-4afc-d445-a426243a7f08"
      },
      "execution_count": 32,
      "outputs": [
        {
          "output_type": "stream",
          "name": "stdout",
          "text": [
            "25\n"
          ]
        }
      ]
    },
    {
      "cell_type": "markdown",
      "source": [
        "33. Write a Python program to remove duplicates from a list while preserving the order.\n"
      ],
      "metadata": {
        "id": "6bz9YoyFSXcY"
      }
    },
    {
      "cell_type": "code",
      "source": [
        "# Python3 code to demonstrate working of\n",
        "# Remove duplicate lists in tuples(Preserving Order)\n",
        "# Using list comprehension + set()\n",
        "\n",
        "# Initializing tuple\n",
        "test_tup = ([4, 7, 8], [1, 2, 3], [4, 7, 8], [9, 10, 11], [1, 2, 3])\n",
        "\n",
        "# printing original tuple\n",
        "print(\"The original tuple is : \" + str(test_tup))\n",
        "\n",
        "# Remove duplicate lists in tuples(Preserving Order)\n",
        "# Using list comprehension + set()\n",
        "temp = set()\n",
        "res = [ele for ele in test_tup if not(tuple(ele) in temp or temp.add(tuple(ele)))]\n",
        "\n",
        "# printing result\n",
        "print(\"The unique lists tuple is : \" + str(res))\n"
      ],
      "metadata": {
        "colab": {
          "base_uri": "https://localhost:8080/"
        },
        "id": "6guLp3kxSVKr",
        "outputId": "d5c24853-6738-42bc-feda-71ee59e506b5"
      },
      "execution_count": 33,
      "outputs": [
        {
          "output_type": "stream",
          "name": "stdout",
          "text": [
            "The original tuple is : ([4, 7, 8], [1, 2, 3], [4, 7, 8], [9, 10, 11], [1, 2, 3])\n",
            "The unique lists tuple is : [[4, 7, 8], [1, 2, 3], [9, 10, 11]]\n"
          ]
        }
      ]
    },
    {
      "cell_type": "markdown",
      "source": [
        "34. Implement a function to find the longest common prefix among a list of strings.\n"
      ],
      "metadata": {
        "id": "ZVhddU1YSe22"
      }
    },
    {
      "cell_type": "code",
      "source": [
        "# Python 3 program to find longest\n",
        "# common prefix of given array of words.\n",
        "def longestCommonPrefix( a):\n",
        "\n",
        "\tsize = len(a)\n",
        "\n",
        "\t# if size is 0, return empty string\n",
        "\tif (size == 0):\n",
        "\t\treturn \"\"\n",
        "\n",
        "\tif (size == 1):\n",
        "\t\treturn a[0]\n",
        "\n",
        "\t# sort the array of strings\n",
        "\ta.sort()\n",
        "\n",
        "\t# find the minimum length from\n",
        "\t# first and last string\n",
        "\tend = min(len(a[0]), len(a[size - 1]))\n",
        "\n",
        "\t# find the common prefix between\n",
        "\t# the first and last string\n",
        "\ti = 0\n",
        "\twhile (i < end and\n",
        "\t\ta[0][i] == a[size - 1][i]):\n",
        "\t\ti += 1\n",
        "\n",
        "\tpre = a[0][0: i]\n",
        "\treturn pre\n",
        "\n",
        "# Driver Code\n",
        "if __name__ == \"__main__\":\n",
        "\n",
        "\tinput = [\"geeksforgeeks\", \"geeks\",\n",
        "\t\t\t\t\t\"geek\", \"geezer\"]\n",
        "\tprint(\"The longest Common Prefix is :\" ,\n",
        "\t\t\t\tlongestCommonPrefix(input))\n",
        "\n",
        "\n"
      ],
      "metadata": {
        "colab": {
          "base_uri": "https://localhost:8080/"
        },
        "id": "YOzwLABtSc5p",
        "outputId": "6eeead10-038c-449c-acec-a27732fbda0f"
      },
      "execution_count": 34,
      "outputs": [
        {
          "output_type": "stream",
          "name": "stdout",
          "text": [
            "The longest Common Prefix is : gee\n"
          ]
        }
      ]
    },
    {
      "cell_type": "markdown",
      "source": [
        "35. Write a program to check if a given number is a perfect square.\n"
      ],
      "metadata": {
        "id": "bUxC_B09Snpi"
      }
    },
    {
      "cell_type": "code",
      "source": [
        "# Python program to find if x is a\n",
        "# perfect square.\n",
        "\n",
        "import math\n",
        "\n",
        "\n",
        "def isPerfectSquare(x):\n",
        "\n",
        "\t#if x >= 0,\n",
        "\tif(x >= 0):\n",
        "\t\tsr = int(math.sqrt(x))\n",
        "\t\t# sqrt function returns floating value so we have to convert it into integer\n",
        "\t\t#return boolean T/F\n",
        "\t\treturn ((sr*sr) == x)\n",
        "\treturn false\n",
        "\n",
        "# Driver code\n",
        "\n",
        "\n",
        "x = 2502\n",
        "if (isPerfectSquare(x)):\n",
        "\tprint(\"Yes\")\n",
        "else:\n",
        "\tprint(\"No\")\n",
        "\n"
      ],
      "metadata": {
        "colab": {
          "base_uri": "https://localhost:8080/"
        },
        "id": "34kGuecnSlRJ",
        "outputId": "d2f1a4be-1e02-48f6-dd48-c6312ce8cc11"
      },
      "execution_count": 35,
      "outputs": [
        {
          "output_type": "stream",
          "name": "stdout",
          "text": [
            "No\n"
          ]
        }
      ]
    },
    {
      "cell_type": "markdown",
      "source": [
        "36. Implement a function to calculate the product of all elements in a list.\n"
      ],
      "metadata": {
        "id": "xz4oilvZSvTj"
      }
    },
    {
      "cell_type": "code",
      "source": [
        "# Python program to multiply all values in the\n",
        "# list using traversal\n",
        "\n",
        "\n",
        "def multiplyList(myList):\n",
        "\n",
        "\t# Multiply elements one by one\n",
        "\tresult = 1\n",
        "\tfor x in myList:\n",
        "\t\tresult = result * x\n",
        "\treturn result\n",
        "\n",
        "\n",
        "# Driver code\n",
        "list1 = [1, 2, 3]\n",
        "list2 = [3, 2, 4]\n",
        "print(multiplyList(list1))\n",
        "print(multiplyList(list2))\n"
      ],
      "metadata": {
        "colab": {
          "base_uri": "https://localhost:8080/"
        },
        "id": "Tb7_0nIDStTr",
        "outputId": "e482ac49-a2ca-4e96-fc80-cefb81ad1546"
      },
      "execution_count": 36,
      "outputs": [
        {
          "output_type": "stream",
          "name": "stdout",
          "text": [
            "6\n",
            "24\n"
          ]
        }
      ]
    },
    {
      "cell_type": "markdown",
      "source": [
        "37. Write a Python program to reverse the order of words in a sentence while preserving the word order.\n"
      ],
      "metadata": {
        "id": "N6HwT8UcS5i3"
      }
    },
    {
      "cell_type": "code",
      "source": [
        "# Python code\n",
        "# To reverse words in a given string\n",
        "\n",
        "# input string\n",
        "string = \"geeks quiz practice code\"\n",
        "# reversing words in a given string\n",
        "s = string.split()[::-1]\n",
        "l = []\n",
        "for i in s:\n",
        "\t# appending reversed words to l\n",
        "\tl.append(i)\n",
        "# printing reverse words\n",
        "print(\" \".join(l))\n"
      ],
      "metadata": {
        "colab": {
          "base_uri": "https://localhost:8080/"
        },
        "id": "u__7zaGkS9BP",
        "outputId": "71ecf17e-3488-4a63-aa9f-f1254ac59bd4"
      },
      "execution_count": 37,
      "outputs": [
        {
          "output_type": "stream",
          "name": "stdout",
          "text": [
            "code practice quiz geeks\n"
          ]
        }
      ]
    },
    {
      "cell_type": "markdown",
      "source": [
        "38. Implement a function to find the missing number in a given list of consecutive numbers.\n"
      ],
      "metadata": {
        "id": "v1RufnyHTHcf"
      }
    },
    {
      "cell_type": "code",
      "source": [
        "# Find Missing Element\n",
        "def findMissing(arr, N):\n",
        "\n",
        "\t# create a list of zeroes\n",
        "\ttemp = [0] * (N+1)\n",
        "\n",
        "\tfor i in range(0, N):\n",
        "\t\ttemp[arr[i] - 1] = 1\n",
        "\n",
        "\tfor i in range(0, N+1):\n",
        "\t\tif(temp[i] == 0):\n",
        "\t\t\tans = i + 1\n",
        "\n",
        "\tprint(ans)\n",
        "\n",
        "# Driver code\n",
        "if __name__ == '__main__':\n",
        "\tarr = [1, 2, 3, 5]\n",
        "\tN = len(arr)\n",
        "\n",
        "\t# Function call\n",
        "\tfindMissing(arr, N)\n",
        "\n",
        "\n"
      ],
      "metadata": {
        "colab": {
          "base_uri": "https://localhost:8080/"
        },
        "id": "mDuLVA8tTPpC",
        "outputId": "78b24f5e-d141-4add-df85-d9876267fd15"
      },
      "execution_count": 38,
      "outputs": [
        {
          "output_type": "stream",
          "name": "stdout",
          "text": [
            "4\n"
          ]
        }
      ]
    },
    {
      "cell_type": "markdown",
      "source": [
        "39. Write a program to find the sum of digits of a given number.\n"
      ],
      "metadata": {
        "id": "0kaVrl__TTz4"
      }
    },
    {
      "cell_type": "code",
      "source": [
        "class Solution:\n",
        "   def solve(self, num):\n",
        "      sum=0\n",
        "      while(num!=0):\n",
        "         sum = sum+int(num%10)\n",
        "         num=int(num/10)\n",
        "      return sum\n",
        "ob = Solution()\n",
        "print(ob.solve(512))"
      ],
      "metadata": {
        "colab": {
          "base_uri": "https://localhost:8080/"
        },
        "id": "iKtWsQ9STQmw",
        "outputId": "255ab0f7-ae53-45df-8913-ffc9ed668add"
      },
      "execution_count": 46,
      "outputs": [
        {
          "output_type": "stream",
          "name": "stdout",
          "text": [
            "8\n"
          ]
        }
      ]
    },
    {
      "cell_type": "markdown",
      "source": [
        "40. Implement a function to check if a given string is a valid palindrome considering case sensitivity.\n"
      ],
      "metadata": {
        "id": "LMJjN_9uT9MP"
      }
    },
    {
      "cell_type": "code",
      "source": [
        "# function which return reverse of a string\n",
        "\n",
        "def isPalindrome(s):\n",
        "\treturn s == s[::-1]\n",
        "\n",
        "\n",
        "# Driver code\n",
        "s = \"malayalam\"\n",
        "ans = isPalindrome(s)\n",
        "\n",
        "if ans:\n",
        "\tprint(\"Yes\")\n",
        "else:\n",
        "\tprint(\"No\")\n"
      ],
      "metadata": {
        "colab": {
          "base_uri": "https://localhost:8080/"
        },
        "id": "XWVc9aMwUEp3",
        "outputId": "f26253af-ca87-4beb-937d-9d73264e9535"
      },
      "execution_count": 47,
      "outputs": [
        {
          "output_type": "stream",
          "name": "stdout",
          "text": [
            "Yes\n"
          ]
        }
      ]
    },
    {
      "cell_type": "markdown",
      "source": [
        "41. Write a Python program to find the smallest missing positive integer in a list.\n"
      ],
      "metadata": {
        "id": "Lj-_3HopUG0L"
      }
    },
    {
      "cell_type": "code",
      "source": [
        "# Python3 Program to find the smallest\n",
        "# positive missing number\n",
        "\n",
        "\n",
        "def solution(A): # Our original array\n",
        "\n",
        "\tm = max(A) # Storing maximum value\n",
        "\tif m < 1:\n",
        "\n",
        "\t\t# In case all values in our array are negative\n",
        "\t\treturn 1\n",
        "\tif len(A) == 1:\n",
        "\n",
        "\t\t# If it contains only one element\n",
        "\t\treturn 2 if A[0] == 1 else 1\n",
        "\tl = [0] * m\n",
        "\tfor i in range(len(A)):\n",
        "\t\tif A[i] > 0:\n",
        "\t\t\tif l[A[i] - 1] != 1:\n",
        "\n",
        "\t\t\t\t# Changing the value status at the index of our list\n",
        "\t\t\t\tl[A[i] - 1] = 1\n",
        "\tfor i in range(len(l)):\n",
        "\n",
        "\t\t# Encountering first 0, i.e, the element with least value\n",
        "\t\tif l[i] == 0:\n",
        "\t\t\treturn i + 1\n",
        "\t\t\t# In case all values are filled between 1 and m\n",
        "\treturn i + 2\n",
        "\n",
        "\n",
        "# Driver Code\n",
        "if __name__ == '__main__':\n",
        "\tarr = [0, 10, 2, -10, -20]\n",
        "\tprint(solution(arr))\n"
      ],
      "metadata": {
        "colab": {
          "base_uri": "https://localhost:8080/"
        },
        "id": "Yg5XQTbFUMcu",
        "outputId": "077e4e3a-f266-4636-ba24-385fa5ca9921"
      },
      "execution_count": 48,
      "outputs": [
        {
          "output_type": "stream",
          "name": "stdout",
          "text": [
            "1\n"
          ]
        }
      ]
    },
    {
      "cell_type": "markdown",
      "source": [
        "42. Implement a function to find the longest palindrome substring in a given string.\n"
      ],
      "metadata": {
        "id": "LH7mmIjWUPKC"
      }
    },
    {
      "cell_type": "code",
      "source": [
        "# Python 3 implementation of O(n^2)\n",
        "# time and O(1) space method\n",
        "# to find the longest palindromic substring\n",
        "class LongestPalinSubstring :\n",
        "\tmaxLength = 0\n",
        "\n",
        "\t# variables to store and\n",
        "\tres = None\n",
        "\n",
        "\t# update maxLength and res\n",
        "\t# A utility function to get the longest palindrome\n",
        "\t# starting and expanding out from given center indices\n",
        "\t@staticmethod\n",
        "\tdef cSubUtil( s, l, r) :\n",
        "\n",
        "\t\t# check if the indices lie in the range of string\n",
        "\t\t# and also if it is palindrome\n",
        "\t\twhile (l >= 0 and r < len(s) and s[l] == s[r]) :\n",
        "\n",
        "\t\t\t# expand the boundary\n",
        "\t\t\tl -= 1\n",
        "\t\t\tr += 1\n",
        "\n",
        "\t\t# if it's length is greater than maxLength update\n",
        "\t\t# maxLength and res\n",
        "\t\tif (r - l - 1 >= LongestPalinSubstring.maxLength) :\n",
        "\t\t\tLongestPalinSubstring.res = s[l + 1:r]\n",
        "\t\t\tLongestPalinSubstring.maxLength = r - l - 1\n",
        "\t\treturn\n",
        "\n",
        "\t# A function which takes a string prints the LPS and\n",
        "\t# returns the length of LPS\n",
        "\t@staticmethod\n",
        "\tdef longestPalSubstr( str) :\n",
        "\t\tLongestPalinSubstring.res = \"\"\n",
        "\t\tLongestPalinSubstring.maxLength = 1\n",
        "\n",
        "\t\t# for every index in the string check palindromes\n",
        "\t\t# starting from that index\n",
        "\t\ti = 0\n",
        "\t\twhile (i < len(str)) :\n",
        "\n",
        "\t\t\t# check for odd length palindromes\n",
        "\t\t\tLongestPalinSubstring.cSubUtil(str, i, i)\n",
        "\n",
        "\t\t\t# check for even length palindromes\n",
        "\t\t\tLongestPalinSubstring.cSubUtil(str, i, i + 1)\n",
        "\t\t\ti += 1\n",
        "\t\tprint(\"Longest palindrome substring is: \", end =\"\")\n",
        "\t\tprint(LongestPalinSubstring.res)\n",
        "\t\treturn LongestPalinSubstring.maxLength\n",
        "\n",
        "\t# Driver program to test above function\n",
        "\t@staticmethod\n",
        "\tdef main( args) :\n",
        "\t\tstr1 = \"forgeeksskeegfor\"\n",
        "\t\tprint(\"Length is: \" + str(LongestPalinSubstring.longestPalSubstr(str1)))\n",
        "\n",
        "if __name__==\"__main__\":\n",
        "\tLongestPalinSubstring.main([])\n",
        "\n",
        "\n"
      ],
      "metadata": {
        "colab": {
          "base_uri": "https://localhost:8080/"
        },
        "id": "inHUw2M9UXXW",
        "outputId": "7ecfb8ee-c85a-423d-ca6e-0c9412f653e6"
      },
      "execution_count": 49,
      "outputs": [
        {
          "output_type": "stream",
          "name": "stdout",
          "text": [
            "Longest palindrome substring is: geeksskeeg\n",
            "Length is: 10\n"
          ]
        }
      ]
    },
    {
      "cell_type": "markdown",
      "source": [
        "43. Write a program to find the number of occurrences of a given element in a list.\n"
      ],
      "metadata": {
        "id": "VFbBBGAxUaZi"
      }
    },
    {
      "cell_type": "code",
      "source": [
        "# Python code to count the number of occurrences\n",
        "def countX(lst, x):\n",
        "\tcount = 0\n",
        "\tfor ele in lst:\n",
        "\t\tif (ele == x):\n",
        "\t\t\tcount = count + 1\n",
        "\treturn count\n",
        "\n",
        "\n",
        "# Driver Code\n",
        "lst = [8, 6, 8, 10, 8, 20, 10, 8, 8]\n",
        "x = 8\n",
        "print('{} has occurred {} times'.format(x,\n",
        "\t\t\t\t\t\t\t\t\t\tcountX(lst, x)))\n"
      ],
      "metadata": {
        "colab": {
          "base_uri": "https://localhost:8080/"
        },
        "id": "lMgy7RAdUYNO",
        "outputId": "732feddf-bf59-48a8-d314-7201527dbe72"
      },
      "execution_count": 50,
      "outputs": [
        {
          "output_type": "stream",
          "name": "stdout",
          "text": [
            "8 has occurred 5 times\n"
          ]
        }
      ]
    },
    {
      "cell_type": "markdown",
      "source": [
        "44. Implement a function to check if a given number is a perfect number.\n"
      ],
      "metadata": {
        "id": "4rB_T8OWUhfK"
      }
    },
    {
      "cell_type": "code",
      "source": [
        "n = 28\n",
        "sum = 0\n",
        "\n",
        "for i in range(1, n):\n",
        "    if n % i == 0:\n",
        "        sum = sum + i\n",
        "\n",
        "if sum == n:\n",
        "    print(\"The number is a Perfect number\")\n",
        "else:\n",
        "    print(\"The number is not a Perfect number\")"
      ],
      "metadata": {
        "colab": {
          "base_uri": "https://localhost:8080/"
        },
        "id": "OsbPXMtMUpYM",
        "outputId": "d2b56bea-f89e-45b9-ff8d-bf34ddb90c78"
      },
      "execution_count": 51,
      "outputs": [
        {
          "output_type": "stream",
          "name": "stdout",
          "text": [
            "The number is a Perfect number\n"
          ]
        }
      ]
    },
    {
      "cell_type": "markdown",
      "source": [
        "45. Write a Python program to remove all duplicates from a string.\n"
      ],
      "metadata": {
        "id": "YCNm203fU1pW"
      }
    },
    {
      "cell_type": "code",
      "source": [
        "string=\"geeksforgeeks\"\n",
        "p=\"\"\n",
        "for char in string:\n",
        "\tif char not in p:\n",
        "\t\tp=p+char\n",
        "print(p)\n",
        "k=list(\"geeksforgeeks\")\n"
      ],
      "metadata": {
        "colab": {
          "base_uri": "https://localhost:8080/"
        },
        "id": "ZumR-XonVCa5",
        "outputId": "97fdce7c-bdb2-4fae-e960-ee5906500ea7"
      },
      "execution_count": 52,
      "outputs": [
        {
          "output_type": "stream",
          "name": "stdout",
          "text": [
            "geksfor\n"
          ]
        }
      ]
    },
    {
      "cell_type": "markdown",
      "source": [
        "46. Implement a function to find the first missing positive\n"
      ],
      "metadata": {
        "id": "ygj_1kJMVEkg"
      }
    },
    {
      "cell_type": "code",
      "source": [
        "def getMEX(a):\n",
        "    n = len(a)\n",
        "    b = a\n",
        "    hash = set(b)\n",
        "    for i in range(1, n + 2):\n",
        "        if i not in hash:\n",
        "            return i\n",
        "\n",
        "\n",
        "getMEX([1,2,3,5])"
      ],
      "metadata": {
        "colab": {
          "base_uri": "https://localhost:8080/"
        },
        "id": "79iGc12kVY4F",
        "outputId": "eea34d70-87d0-4197-d7bb-56d67cc62f8e"
      },
      "execution_count": 54,
      "outputs": [
        {
          "output_type": "execute_result",
          "data": {
            "text/plain": [
              "4"
            ]
          },
          "metadata": {},
          "execution_count": 54
        }
      ]
    }
  ]
}