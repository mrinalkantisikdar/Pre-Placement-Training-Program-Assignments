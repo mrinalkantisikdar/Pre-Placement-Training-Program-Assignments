{
  "nbformat": 4,
  "nbformat_minor": 0,
  "metadata": {
    "colab": {
      "provenance": []
    },
    "kernelspec": {
      "name": "python3",
      "display_name": "Python 3"
    },
    "language_info": {
      "name": "python"
    }
  },
  "cells": [
    {
      "cell_type": "markdown",
      "source": [
        "17. Write a function that takes a list of numbers as input and returns a new list containing only the even numbers from the input list. Use list comprehension to solve this problem."
      ],
      "metadata": {
        "id": "JWzhHiRiVuIZ"
      }
    },
    {
      "cell_type": "code",
      "execution_count": 1,
      "metadata": {
        "colab": {
          "base_uri": "https://localhost:8080/"
        },
        "id": "io-wmuXWVqFT",
        "outputId": "d8bd1732-a07c-43d8-913e-85065ad3ed81"
      },
      "outputs": [
        {
          "output_type": "execute_result",
          "data": {
            "text/plain": [
              "[10, 4, 66]"
            ]
          },
          "metadata": {},
          "execution_count": 1
        }
      ],
      "source": [
        "list1 = [10, 21, 4, 45, 66, 93]\n",
        "\n",
        "list2= [x for x in list1 if x % 2 ==0]\n",
        "list2"
      ]
    },
    {
      "cell_type": "markdown",
      "source": [
        "18. Implement a decorator function called ‘timer’ that measures the execution time of a function. The ‘timer’ decorator should print the time taken by the decorated function to execute. Use the ‘time’ module in Python to calculate the execution time.\n",
        "\n",
        "Example:\n",
        "\n",
        "import time\n",
        "\n",
        "@timer\n",
        "def my_function():\n",
        "    # Function code goes here\n",
        "    time.sleep(2)\n",
        "\n",
        "my_function()\n",
        "\n",
        "Output:\n",
        "\"Execution time: 2.00123 seconds\""
      ],
      "metadata": {
        "id": "iyO_8zJFWFae"
      }
    },
    {
      "cell_type": "code",
      "source": [
        "from time import time\n",
        "\n",
        "\n",
        "def timer_func(func):\n",
        "\t# This function shows the execution time of\n",
        "\t# the function object passed\n",
        "\tdef wrap_func(*args, **kwargs):\n",
        "\t\tt1 = time()\n",
        "\t\tresult = func(*args, **kwargs)\n",
        "\t\tt2 = time()\n",
        "\t\tprint(f'Function {func.__name__!r} executed in {(t2-t1):.4f}s')\n",
        "\t\treturn result\n",
        "\treturn wrap_func\n",
        "\n",
        "\n",
        "@timer_func\n",
        "def long_time(n):\n",
        "\tfor i in range(n):\n",
        "\t\tfor j in range(100000):\n",
        "\t\t\ti*j\n",
        "\n",
        "\n",
        "long_time(5)\n"
      ],
      "metadata": {
        "colab": {
          "base_uri": "https://localhost:8080/"
        },
        "id": "i_TGRUVlWAqn",
        "outputId": "e1305bd0-8b8f-48a8-b090-12f030a75748"
      },
      "execution_count": 2,
      "outputs": [
        {
          "output_type": "stream",
          "name": "stdout",
          "text": [
            "Function 'long_time' executed in 0.0582s\n"
          ]
        }
      ]
    },
    {
      "cell_type": "markdown",
      "source": [
        "19. Write a function called ‘calculate_mean’ that takes a list of numbers as input and returns the mean (average) of the numbers. The function should calculate the mean using the sum of the numbers divided by the total count.\n",
        "\n",
        "Example:\n",
        "\n",
        "def calculate_mean(numbers):\n",
        "    total = sum(numbers)\n",
        "    count = len(numbers)\n",
        "    mean = total / count\n",
        "    return mean\n",
        "\n",
        "data = [10, 15, 20, 25, 30]\n",
        "mean_value = calculate_mean(data)\n",
        "print(\"Mean:\", mean_value)\n",
        "\n",
        "Output:\n",
        "Mean: 20.0"
      ],
      "metadata": {
        "id": "yeiQIYMbWpxU"
      }
    },
    {
      "cell_type": "code",
      "source": [
        "def calculate_mean(num):\n",
        "    sum = 0\n",
        "    for i in num:\n",
        "        sum = sum + i\n",
        "\n",
        "    avg = sum / len(num)\n",
        "    return avg\n",
        "\n",
        "print(\"The average is\", calculate_mean([10, 15, 20, 25, 30]))"
      ],
      "metadata": {
        "colab": {
          "base_uri": "https://localhost:8080/"
        },
        "id": "9-ajbdh4WkzU",
        "outputId": "048b83c6-5926-43c5-fe8c-188915522cb6"
      },
      "execution_count": 6,
      "outputs": [
        {
          "output_type": "stream",
          "name": "stdout",
          "text": [
            "The average is 20.0\n"
          ]
        }
      ]
    },
    {
      "cell_type": "markdown",
      "source": [
        "20. Write a function called ‘perform_hypothesis_test’ that takes two lists of numbers as input, representing two samples. The function should perform a two-sample t-test and return the p-value. Use the ‘scipy.stats’ module in Python to calculate the t-test and p-value.\n",
        "\n",
        "Example:\n",
        "\n",
        "from scipy import stats\n",
        "\n",
        "def perform_hypothesis_test(sample1, sample2):\n",
        "    t_statistic, p_value = stats.ttest_ind(sample1, sample2)\n",
        "    return p_value\n",
        "\n",
        "sample1 = [5, 10, 15, 20, 25]\n",
        "sample2 = [10, 20, 30, 40, 50]\n",
        "p_value = perform_hypothesis_test(sample1, sample2)\n",
        "print(\"P-value:\", p_value)\n",
        "\n",
        "Output:\n",
        "P-value: 0.1064706396450037"
      ],
      "metadata": {
        "id": "r34QbxdlXTKb"
      }
    },
    {
      "cell_type": "code",
      "source": [
        "# Python program to demonstrate how to\n",
        "# perform two sample T-test\n",
        "\n",
        "# Import the library\n",
        "import numpy as np\n",
        "import scipy.stats as stats\n",
        "\n",
        "# Creating data groups\n",
        "data_group1 = np.array([14, 15, 15, 16, 13, 8, 14,\n",
        "\t\t\t\t\t\t17, 16, 14, 19, 20, 21, 15,\n",
        "\t\t\t\t\t\t15, 16, 16, 13, 14, 12])\n",
        "\n",
        "data_group2 = np.array([15, 17, 14, 17, 14, 8, 12,\n",
        "\t\t\t\t\t\t19, 19, 14, 17, 22, 24, 16,\n",
        "\t\t\t\t\t\t13, 16, 13, 18, 15, 13])\n",
        "\n",
        "# Perform the two sample t-test with equal variances\n",
        "stats.ttest_ind(a=data_group1, b=data_group2, equal_var=True)\n"
      ],
      "metadata": {
        "colab": {
          "base_uri": "https://localhost:8080/"
        },
        "id": "vHbOU6RhXWGz",
        "outputId": "ef5e1737-2cf1-48ce-88b3-b692628ddb17"
      },
      "execution_count": 8,
      "outputs": [
        {
          "output_type": "execute_result",
          "data": {
            "text/plain": [
              "Ttest_indResult(statistic=-0.6337397070250238, pvalue=0.5300471010405257)"
            ]
          },
          "metadata": {},
          "execution_count": 8
        }
      ]
    },
    {
      "cell_type": "code",
      "source": [],
      "metadata": {
        "id": "ubciPc76Xvt3"
      },
      "execution_count": null,
      "outputs": []
    }
  ]
}