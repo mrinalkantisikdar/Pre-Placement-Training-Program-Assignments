{
  "nbformat": 4,
  "nbformat_minor": 0,
  "metadata": {
    "colab": {
      "provenance": []
    },
    "kernelspec": {
      "name": "python3",
      "display_name": "Python 3"
    },
    "language_info": {
      "name": "python"
    }
  },
  "cells": [
    {
      "cell_type": "markdown",
      "source": [
        "<aside>\n",
        "💡 **Question 1**\n",
        "\n",
        "A permutation perm of n + 1 integers of all the integers in the range [0, n] can be represented as a string s of length n where:\n",
        "\n",
        "- s[i] == 'I' if perm[i] < perm[i + 1], and\n",
        "- s[i] == 'D' if perm[i] > perm[i + 1].\n",
        "\n",
        "Given a string s, reconstruct the permutation perm and return it. If there are multiple valid permutations perm, return **any of them**.\n",
        "\n",
        "**Example 1:**\n",
        "\n",
        "**Input:** s = \"IDID\"\n",
        "\n",
        "**Output:**\n",
        "\n",
        "[0,4,1,3,2]\n",
        "\n",
        "</aside>"
      ],
      "metadata": {
        "id": "KOnzcDKFdU_Y"
      }
    },
    {
      "cell_type": "code",
      "execution_count": 6,
      "metadata": {
        "id": "Mwfcg0z3c7jt"
      },
      "outputs": [],
      "source": [
        "def diStringMatch(S: str) -> list[int]:\n",
        "    mini=0\n",
        "    maxi=len(S)\n",
        "    l=[]\n",
        "    \n",
        "    for i in S:\n",
        "        if i==\"I\":\n",
        "            l.append(mini)\n",
        "            mini+=1\n",
        "        else:\n",
        "            l.append(maxi)\n",
        "            maxi-=1\n",
        "    return l+[maxi]"
      ]
    },
    {
      "cell_type": "code",
      "source": [
        "diStringMatch(S = \"IDID\")"
      ],
      "metadata": {
        "colab": {
          "base_uri": "https://localhost:8080/"
        },
        "id": "UVw7W-ImdlNW",
        "outputId": "3cf08bff-6f4a-49b7-d0e4-53ce42d87dc2"
      },
      "execution_count": 7,
      "outputs": [
        {
          "output_type": "execute_result",
          "data": {
            "text/plain": [
              "[0, 4, 1, 3, 2]"
            ]
          },
          "metadata": {},
          "execution_count": 7
        }
      ]
    },
    {
      "cell_type": "markdown",
      "source": [
        "You are given an m x n integer matrix matrix with the following two properties:\n",
        "\n",
        "- Each row is sorted in non-decreasing order.\n",
        "- The first integer of each row is greater than the last integer of the previous row.\n",
        "\n",
        "Given an integer target, return true *if* target *is in* matrix *or* false *otherwise*.\n",
        "\n",
        "You must write a solution in O(log(m * n)) time complexity.\n",
        "**Input:** matrix = [[1,3,5,7],[10,11,16,20],[23,30,34,60]], target = 3\n",
        "\n",
        "**Output:** true"
      ],
      "metadata": {
        "id": "OeKnlNK6d08P"
      }
    },
    {
      "cell_type": "code",
      "source": [
        "# Python 3 program to find whether a given\n",
        "# element is present in the given 2-D matrix\n",
        "\n",
        "M = 3\n",
        "N = 4\n",
        "\n",
        "# Basic binary search to find an element\n",
        "# in a 1-D array\n",
        "def binarySearch1D(arr, K):\n",
        "\tlow = 0\n",
        "\thigh = N - 1\n",
        "\twhile (low <= high):\n",
        "\t\tmid = low + int((high - low) / 2)\n",
        "\n",
        "\t\t# if element found return true\n",
        "\t\tif (arr[mid] == K):\n",
        "\t\t\treturn True\n",
        "\n",
        "\t\t# if middle less than K then skip\n",
        "\t\t# the left part of the array\n",
        "\t\t# else skip the right part\n",
        "\t\tif (arr[mid] < K):\n",
        "\t\t\tlow = mid + 1\n",
        "\t\telse:\n",
        "\t\t\thigh = mid - 1\n",
        "\n",
        "\t# if not found return false\n",
        "\treturn False\n",
        "\n",
        "# Function to search an element in a matrix\n",
        "# based on Divide and conquer approach\n",
        "def searchMatrix(matrix, K):\n",
        "\tlow = 0\n",
        "\thigh = M - 1\n",
        "\twhile (low <= high):\n",
        "\t\tmid = low + int((high - low) / 2)\n",
        "\n",
        "\t\t# if the element lies in the range\n",
        "\t\t# of this row then call\n",
        "\t\t# 1-D binary search on this row\n",
        "\t\tif (K >= matrix[mid][0] and\n",
        "\t\t\tK <= matrix[mid][N - 1]):\n",
        "\t\t\treturn binarySearch1D(matrix[mid], K)\n",
        "\n",
        "\t\t# if the element is less than the\n",
        "\t\t# starting element of that row then\n",
        "\t\t# search in upper rows else search\n",
        "\t\t# in the lower rows\n",
        "\t\tif (K < matrix[mid][0]):\n",
        "\t\t\thigh = mid - 1\n",
        "\t\telse:\n",
        "\t\t\tlow = mid + 1\n",
        "\n",
        "\t# if not found\n",
        "\treturn False\n",
        "\n",
        "# Driver code\n",
        "if __name__ == '__main__':\n",
        "\tmatrix = [[1, 3, 5, 7],\n",
        "\t\t\t[10, 11, 16, 20],\n",
        "\t\t\t[23, 30, 34, 50]]\n",
        "\tK = 3\n",
        "\tif (searchMatrix(matrix, K)):\n",
        "\t\tprint(\"True\")\n",
        "\telse:\n",
        "\t\tprint(\"False\")\n",
        "\n"
      ],
      "metadata": {
        "colab": {
          "base_uri": "https://localhost:8080/"
        },
        "id": "kq3DGXrDd3tH",
        "outputId": "a129d83a-d8e2-4bbf-84e6-b5782f63afc2"
      },
      "execution_count": 9,
      "outputs": [
        {
          "output_type": "stream",
          "name": "stdout",
          "text": [
            "True\n"
          ]
        }
      ]
    },
    {
      "cell_type": "markdown",
      "source": [
        "<aside>\n",
        "💡 **Question 3**\n",
        "\n",
        "Given an array of integers arr, return *true if and only if it is a valid mountain array*.\n",
        "\n",
        "Recall that arr is a mountain array if and only if:\n",
        "\n",
        "- arr.length >= 3\n",
        "- There exists some i with 0 < i < arr.length - 1 such that:\n",
        "    - arr[0] < arr[1] < ... < arr[i - 1] < arr[i]\n",
        "    - arr[i] > arr[i + 1] > ... > arr[arr.length - 1]\n",
        "</aside>\n",
        "**Example 1:**\n",
        "\n",
        "**Input:** arr = [2,1]\n",
        "\n",
        "**Output:**\n",
        "\n",
        "false"
      ],
      "metadata": {
        "id": "2MZIatiheO_w"
      }
    },
    {
      "cell_type": "code",
      "source": [
        "# Function to check if the given array\n",
        "# is mountain array or not\n",
        "def isMountainArray(arr):\n",
        "\n",
        "\tif (len(arr) < 3):\n",
        "\t\treturn False\n",
        "\tflag = 0\n",
        "\ti = 0\n",
        "\tfor i in range(1, len(arr)):\n",
        "\t\tif (arr[i] <= arr[i - 1]):\n",
        "\t\t\tbreak\n",
        "\n",
        "\tif (i == len(arr) or i == 1):\n",
        "\t\treturn False\n",
        "\n",
        "\twhile i < len(arr):\n",
        "\t\tif (arr[i] >= arr[i - 1]):\n",
        "\t\t\tbreak\n",
        "\t\ti += 1\n",
        "\treturn i == len(arr)\n",
        "\n",
        "# Driver Code\n",
        "if __name__ == \"__main__\":\n",
        "\n",
        "\tarr = [2,1]\n",
        "\tif (isMountainArray(arr)):\n",
        "\t\tprint(\"true\")\n",
        "\telse:\n",
        "\t\tprint(\"false\")\n"
      ],
      "metadata": {
        "colab": {
          "base_uri": "https://localhost:8080/"
        },
        "id": "3W_-xjwheUle",
        "outputId": "ca5173f7-0131-4eeb-a1c6-39044d6efcbf"
      },
      "execution_count": 11,
      "outputs": [
        {
          "output_type": "stream",
          "name": "stdout",
          "text": [
            "false\n"
          ]
        }
      ]
    },
    {
      "cell_type": "markdown",
      "source": [
        "<aside>\n",
        "💡 **Question 4**\n",
        "\n",
        "Given a binary array nums, return *the maximum length of a contiguous subarray with an equal number of* 0 *and* 1.\n",
        "\n",
        "**Example 1:**\n",
        "\n",
        "**Input:** nums = [0,1]\n",
        "\n",
        "**Output:** 2\n",
        "\n",
        "**Explanation:**\n",
        "\n",
        "[0, 1] is the longest contiguous subarray with an equal number of 0 and 1.\n",
        "\n",
        "</aside>"
      ],
      "metadata": {
        "id": "vqS1E8OIel1X"
      }
    },
    {
      "cell_type": "code",
      "source": [
        "# A simple program to find the largest subarray\n",
        "# with equal number of 0s and 1s\n",
        "\n",
        "# This function Prints the starting and ending\n",
        "# indexes of the largest subarray with equal\n",
        "# number of 0s and 1s. Also returns the size\n",
        "# of such subarray.\n",
        "def findSubArray(arr, n):\n",
        "\n",
        "\tsum = 0\n",
        "\tmaxsize = -1\n",
        "\n",
        "\t# Pick a starting point as i\n",
        "\n",
        "\tfor i in range(0, n-1):\n",
        "\t\n",
        "\t\tsum = -1 if(arr[i] == 0) else 1\n",
        "\n",
        "\t\t# Consider all subarrays starting from i\n",
        "\n",
        "\t\tfor j in range(i + 1, n):\n",
        "\t\t\n",
        "\t\t\tsum = sum + (-1) if (arr[j] == 0) else sum + 1\n",
        "\n",
        "\t\t\t# If this is a 0 sum subarray, then\n",
        "\t\t\t# compare it with maximum size subarray\n",
        "\t\t\t# calculated so far\n",
        "\n",
        "\t\t\tif (sum == 0 and maxsize < j-i + 1):\n",
        "\t\t\t\t\n",
        "\t\t\t\tmaxsize = j - i + 1\n",
        "\t\t\t\tstartindex = i\n",
        "\t\t\t\n",
        "\t\t\n",
        "\t\n",
        "\tif (maxsize == -1):\n",
        "\t\tprint(\"No such subarray\");\n",
        "\telse:\n",
        "\t\tprint(startindex, \"to\", startindex + maxsize-1);\n",
        "\n",
        "\treturn maxsize\n",
        "\n",
        "# Driver program to test above functions\n",
        "arr = [0,1]\n",
        "size = len(arr)\n",
        "findSubArray(arr, size)\n",
        "\n"
      ],
      "metadata": {
        "colab": {
          "base_uri": "https://localhost:8080/"
        },
        "id": "vhcIEt8qemYp",
        "outputId": "bc1a9b01-94c7-49e9-bb32-965538ddd64e"
      },
      "execution_count": 13,
      "outputs": [
        {
          "output_type": "stream",
          "name": "stdout",
          "text": [
            "0 to 1\n"
          ]
        },
        {
          "output_type": "execute_result",
          "data": {
            "text/plain": [
              "2"
            ]
          },
          "metadata": {},
          "execution_count": 13
        }
      ]
    },
    {
      "cell_type": "markdown",
      "source": [
        "<aside>\n",
        "💡 **Question 5**\n",
        "\n",
        "The **product sum** of two equal-length arrays a and b is equal to the sum of a[i] * b[i] for all 0 <= i < a.length (**0-indexed**).\n",
        "\n",
        "- For example, if a = [1,2,3,4] and b = [5,2,3,1], the **product sum** would be 1*5 + 2*2 + 3*3 + 4*1 = 22.\n",
        "\n",
        "Given two arrays nums1 and nums2 of length n, return *the **minimum product sum** if you are allowed to **rearrange** the **order** of the elements in* nums1.\n",
        "\n",
        "**Example 1:**\n",
        "\n",
        "**Input:** nums1 = [5,3,4,2], nums2 = [4,2,2,5]\n",
        "\n",
        "**Output:** 40\n",
        "\n",
        "**Explanation:**\n",
        "\n",
        "We can rearrange nums1 to become [3,5,4,2]. The product sum of [3,5,4,2] and [4,2,2,5] is 3*4 + 5*2 + 4*2 + 2*5 = 40.\n",
        "\n",
        "</aside>"
      ],
      "metadata": {
        "id": "nOECDkg3e3kh"
      }
    },
    {
      "cell_type": "code",
      "source": [
        "# Python program to calculate minimum sum of product\n",
        "# of two arrays.\n",
        "\n",
        "# Returns minimum sum of product of two arrays\n",
        "# with permutations allowed\n",
        "\n",
        "\n",
        "def minValue(A, B, n):\n",
        "\n",
        "\t# Sort A and B so that minimum and maximum\n",
        "\t# value can easily be fetched.\n",
        "\tA.sort()\n",
        "\tB.sort()\n",
        "\n",
        "\t# Multiplying minimum value of A and maximum\n",
        "\t# value of B\n",
        "\tresult = 0\n",
        "\tfor i in range(n):\n",
        "\t\tresult += (A[i] * B[n - i - 1])\n",
        "\n",
        "\treturn result\n",
        "\n",
        "\n",
        "# Driven Program\n",
        "A = [5,3,4,2]\n",
        "B = [4,2,2,5]\n",
        "n = len(A)\n",
        "print (minValue(A, B, n))\n",
        "\n"
      ],
      "metadata": {
        "colab": {
          "base_uri": "https://localhost:8080/"
        },
        "id": "duTGucgOe4Ji",
        "outputId": "10692e2a-cc0c-4eea-ddb0-f9c19b78f800"
      },
      "execution_count": 14,
      "outputs": [
        {
          "output_type": "stream",
          "name": "stdout",
          "text": [
            "40\n"
          ]
        }
      ]
    },
    {
      "cell_type": "markdown",
      "source": [
        "<aside>\n",
        "💡 **Question 6**\n",
        "\n",
        "An integer array original is transformed into a **doubled** array changed by appending **twice the value** of every element in original, and then randomly **shuffling** the resulting array.\n",
        "\n",
        "Given an array changed, return original *if* changed *is a **doubled** array. If* changed *is not a **doubled** array, return an empty array. The elements in* original *may be returned in **any** order*.\n",
        "\n",
        "**Example 1:**\n",
        "\n",
        "**Input:** changed = [1,3,4,2,6,8]\n",
        "\n",
        "**Output:** [1,3,4]\n",
        "\n",
        "**Explanation:** One possible original array could be [1,3,4]:\n",
        "\n",
        "- Twice the value of 1 is 1 * 2 = 2.\n",
        "- Twice the value of 3 is 3 * 2 = 6.\n",
        "- Twice the value of 4 is 4 * 2 = 8.\n",
        "\n",
        "Other original arrays could be [4,3,1] or [3,1,4].\n",
        "\n",
        "</aside>"
      ],
      "metadata": {
        "id": "hDQyhhOofVM6"
      }
    },
    {
      "cell_type": "code",
      "source": [
        "# Function to find the original array\n",
        "# from the doubled array\n",
        "def findOriginal(arr):\n",
        "\n",
        "\t# Stores the numbers and\n",
        "\t# their frequency\n",
        "\tnumFreq = {}\n",
        "\n",
        "\t# Add number with their frequencies\n",
        "\t# in the hashmap\n",
        "\tfor i in range(0, len(arr)):\n",
        "\t\tif (arr[i] in numFreq):\n",
        "\t\t\tnumFreq[arr[i]] += 1\n",
        "\t\telse:\n",
        "\t\t\tnumFreq[arr[i]] = 1\n",
        "\n",
        "\t# Sort the array\n",
        "\tarr.sort()\n",
        "\n",
        "\t# Initialize an arraylist\n",
        "\tres = []\n",
        "\n",
        "\tfor i in range(0, len(arr)):\n",
        "\t\n",
        "\t\t# Get the frequency of the number\n",
        "\t\tfreq = numFreq[arr[i]]\n",
        "\t\tif (freq > 0):\n",
        "\t\t\n",
        "\t\t\t# Element is of original array\n",
        "\t\t\tres.append(arr[i])\n",
        "\n",
        "\t\t\t# Decrement the frequency of\n",
        "\t\t\t# the number\n",
        "\t\t\tnumFreq[arr[i]] -= 1\n",
        "\n",
        "\t\t\ttwice = 2 * arr[i]\n",
        "\n",
        "\t\t\t# Decrement the frequency of\n",
        "\t\t\t# the number having double value\n",
        "\t\t\tnumFreq[twice] -= 1\n",
        "\n",
        "\t# Return the resultant string\n",
        "\treturn res\n",
        "\n",
        "# Driver Code\n",
        "arr = [1,3,4,2,6,8]\n",
        "res = findOriginal(arr)\n",
        "\n",
        "# Print the result list\n",
        "for i in range(0, len(res)):\n",
        "\tprint(res[i], end=\" \")\n",
        "\n"
      ],
      "metadata": {
        "colab": {
          "base_uri": "https://localhost:8080/"
        },
        "id": "U6KP0OPWfV_F",
        "outputId": "ee9e6f92-fdba-4289-da37-4d8f26d480da"
      },
      "execution_count": 15,
      "outputs": [
        {
          "output_type": "stream",
          "name": "stdout",
          "text": [
            "1 3 4 "
          ]
        }
      ]
    },
    {
      "cell_type": "markdown",
      "source": [
        "<aside>\n",
        "💡 **Question 7**\n",
        "\n",
        "Given a positive integer n, generate an n x n matrix filled with elements from 1 to n2 in spiral order.\n",
        "\n",
        "</aside>\n",
        "**Input:** n = 3\n",
        "\n",
        "**Output:** [[1,2,3],[8,9,4],[7,6,5]]"
      ],
      "metadata": {
        "id": "wfqHXvMCfonl"
      }
    },
    {
      "cell_type": "code",
      "source": [
        "def generateMatrix(n):\n",
        "    if n <= 0:\n",
        "        return []\n",
        "    result = [[None for i in range(n)] for j in range(n)]\n",
        "    xBeg,xEnd = 0,n-1\n",
        "    yBeg,yEnd = 0,n-1\n",
        "    current = 1\n",
        "    while (True):\n",
        "        for i in range(yBeg,yEnd+1):\n",
        "            result[xBeg][i] = current\n",
        "            current += 1\n",
        "        xBeg += 1\n",
        "        if (xBeg > xEnd):\n",
        "            break\n",
        "        for i in range(xBeg,xEnd+1):\n",
        "            result[i][yEnd] = current\n",
        "            current += 1\n",
        "        yEnd -= 1\n",
        "        if (yEnd < yBeg):\n",
        "            break\n",
        "        for i in range(yEnd,yBeg-1,-1):\n",
        "            result[xEnd][i] = current\n",
        "            current += 1\n",
        "        xEnd -= 1\n",
        "        if (xEnd < xBeg):\n",
        "            break\n",
        "        for i in range(xEnd,xBeg-1,-1):\n",
        "            result[i][yBeg] = current\n",
        "            current += 1\n",
        "        yBeg += 1\n",
        "        if (yBeg > yEnd):\n",
        "            break\n",
        "    return result"
      ],
      "metadata": {
        "id": "LQMjOBvmfsE6"
      },
      "execution_count": 16,
      "outputs": []
    },
    {
      "cell_type": "code",
      "source": [
        "generateMatrix(3)"
      ],
      "metadata": {
        "colab": {
          "base_uri": "https://localhost:8080/"
        },
        "id": "-ArTXiBAgVsk",
        "outputId": "17cc79b6-463c-4259-a7a6-f3622c8ea812"
      },
      "execution_count": 17,
      "outputs": [
        {
          "output_type": "execute_result",
          "data": {
            "text/plain": [
              "[[1, 2, 3], [8, 9, 4], [7, 6, 5]]"
            ]
          },
          "metadata": {},
          "execution_count": 17
        }
      ]
    },
    {
      "cell_type": "markdown",
      "source": [
        "<aside>\n",
        "💡 **Question 8**\n",
        "\n",
        "Given two [sparse matrices](https://en.wikipedia.org/wiki/Sparse_matrix) mat1 of size m x k and mat2 of size k x n, return the result of mat1 x mat2. You may assume that multiplication is always possible.\n",
        "\n",
        "</aside>\n",
        "**Input:** mat1 = [[1,0,0],[-1,0,3]], mat2 = [[7,0,0],[0,0,0],[0,0,1]]\n",
        "\n",
        "**Output:**\n",
        "\n",
        "[[7,0,0],[-7,0,3]]"
      ],
      "metadata": {
        "id": "SP53V36CgcZS"
      }
    },
    {
      "cell_type": "code",
      "source": [
        "\n",
        "def multiply(mat1: list[list[int]], mat2: list[list[int]]) -> list[list[int]]:\n",
        "    r1, c1, c2 = len(mat1), len(mat1[0]), len(mat2[0])\n",
        "    res = [[0] * c2 for _ in range(r1)]\n",
        "    for i in range(r1):\n",
        "        for j in range(c2):\n",
        "            for k in range(c1):\n",
        "                res[i][j] += mat1[i][k] * mat2[k][j]\n",
        "    return res"
      ],
      "metadata": {
        "id": "hL0csmnzgfCC"
      },
      "execution_count": 19,
      "outputs": []
    },
    {
      "cell_type": "code",
      "source": [
        "multiply(mat1 = [[1,0,0],[-1,0,3]], mat2 = [[7,0,0],[0,0,0],[0,0,1]])"
      ],
      "metadata": {
        "colab": {
          "base_uri": "https://localhost:8080/"
        },
        "id": "6SUiB0ZLg1kv",
        "outputId": "c0abb79c-8458-4a57-a419-70067649033f"
      },
      "execution_count": 20,
      "outputs": [
        {
          "output_type": "execute_result",
          "data": {
            "text/plain": [
              "[[7, 0, 0], [-7, 0, 3]]"
            ]
          },
          "metadata": {},
          "execution_count": 20
        }
      ]
    }
  ]
}