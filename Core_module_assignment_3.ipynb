{
  "nbformat": 4,
  "nbformat_minor": 0,
  "metadata": {
    "colab": {
      "provenance": []
    },
    "kernelspec": {
      "name": "python3",
      "display_name": "Python 3"
    },
    "language_info": {
      "name": "python"
    }
  },
  "cells": [
    {
      "cell_type": "markdown",
      "source": [
        "1. Scenario: A company wants to analyze the sales performance of its products in different regions. They have collected the following data:\n",
        "   Region A: [10, 15, 12, 8, 14]\n",
        "   Region B: [18, 20, 16, 22, 25]\n",
        "   Calculate the mean sales for each region.\n"
      ],
      "metadata": {
        "id": "ioh686BIXUsC"
      }
    },
    {
      "cell_type": "code",
      "execution_count": 3,
      "metadata": {
        "colab": {
          "base_uri": "https://localhost:8080/"
        },
        "id": "HCDHF_EGXNsC",
        "outputId": "e4a93d5f-4167-4e7f-af20-aeaa9c2e1c16"
      },
      "outputs": [
        {
          "output_type": "stream",
          "name": "stdout",
          "text": [
            "11.8\n",
            "20.2\n"
          ]
        }
      ],
      "source": [
        "from statistics import mean\n",
        "A= [10, 15, 12, 8, 14]\n",
        "B= [18, 20, 16, 22, 25]\n",
        "\n",
        "print(mean(A))\n",
        "print(mean(B))"
      ]
    },
    {
      "cell_type": "markdown",
      "source": [
        "2. Scenario: A survey is conducted to measure customer satisfaction on a scale of 1 to 5. The data collected is as follows:\n",
        "   [4, 5, 2, 3, 5, 4, 3, 2, 4, 5]\n",
        "   Calculate the mode of the survey responses.\n"
      ],
      "metadata": {
        "id": "CfLQqoqqX77O"
      }
    },
    {
      "cell_type": "code",
      "source": [
        "# The list for which you need to find\n",
        "# the Mode\n",
        "y= [4, 5, 2, 3, 5, 4, 3, 2, 4, 5]\n",
        "\n",
        "# First you sort it\n",
        "# You will get numbers arranged from 3 to\n",
        "# 11 in asc order\n",
        "y.sort()\n",
        "\n",
        "# Now open an empty list.\n",
        "# What you are going to do is to count\n",
        "# the occurrence of each number and append\n",
        "# (or to add your findings to) L1\n",
        "L1=[]\n",
        "\n",
        "# You can iterate through the sorted list\n",
        "# of numbers in y,\n",
        "# counting the occurrence of each number,\n",
        "# using the following code\n",
        "\n",
        "i = 0\n",
        "while i < len(y) :\n",
        "\tL1.append(y.count(y[i]))\n",
        "\ti += 1\n",
        "\n",
        "# your L1 will be [1, 2, 2, 1, 3, 3, 3, 1, 3, 3, 3, 1],\n",
        "# the occurrences for each number in sorted y\n",
        "\n",
        "# now you can create a custom dictionary d1 for k : V\n",
        "# where k = your values in sorted y\n",
        "# and v = the occurrences of each value in y\n",
        "\n",
        "# the Code is as follows\n",
        "\n",
        "d1 = dict(zip(y, L1))\n",
        "\n",
        "# your d1 will be {3: 1, 4: 2, 5: 1, 6: 3, 7: 1, 8: 3, 11: 1}\n",
        "# now what you need to do is to filter\n",
        "# the k values with the highest v values.\n",
        "# do this with the following code\n",
        "\n",
        "d2={k for (k,v) in d1.items() if v == max(L1) }\n",
        "\n",
        "print(\"Mode(s) is/are :\" + str(d2))\n"
      ],
      "metadata": {
        "colab": {
          "base_uri": "https://localhost:8080/"
        },
        "id": "mi7y-ieqXj2q",
        "outputId": "156a0f20-c45a-4594-8045-b4d1b70dcf85"
      },
      "execution_count": 4,
      "outputs": [
        {
          "output_type": "stream",
          "name": "stdout",
          "text": [
            "Mode(s) is/are :{4, 5}\n"
          ]
        }
      ]
    },
    {
      "cell_type": "markdown",
      "source": [
        "3. Scenario: A company wants to compare the salaries of two departments. The salary data for Department A and Department B are as follows:\n",
        "   Department A: [5000, 6000, 5500, 7000]\n",
        "   Department B: [4500, 5500, 5800, 6000, 5200]\n",
        "   Calculate the median salary for each department.\n"
      ],
      "metadata": {
        "id": "5FFl55e-gHh9"
      }
    },
    {
      "cell_type": "code",
      "source": [
        "A= [5000, 6000, 5500, 7000]\n",
        "B= [4500, 5500, 5800, 6000, 5200]\n",
        "\n",
        "# Python program to print\n",
        "# median of elements\n",
        "\n",
        "# list of elements to calculate median\n",
        "def median(n_num):\n",
        "  n = len(n_num)\n",
        "  n_num.sort()\n",
        "\n",
        "  if n % 2 == 0:\n",
        "    median1 = n_num[n//2]\n",
        "    median2 = n_num[n//2 - 1]\n",
        "    median = (median1 + median2)/2\n",
        "  else:\n",
        "    median = n_num[n//2]\n",
        "  return (\"Median is: \" + str(median))\n",
        "\n",
        "print(median(A))\n",
        "print(median(B))"
      ],
      "metadata": {
        "colab": {
          "base_uri": "https://localhost:8080/"
        },
        "id": "fSHZmUOKgIBn",
        "outputId": "57bff84b-6dee-4e49-c5bd-3a7b605dfa3e"
      },
      "execution_count": 2,
      "outputs": [
        {
          "output_type": "stream",
          "name": "stdout",
          "text": [
            "Median is: 5750.0\n",
            "Median is: 5500\n"
          ]
        }
      ]
    },
    {
      "cell_type": "markdown",
      "source": [
        "4. Scenario: A data analyst wants to determine the variability in the daily stock prices of a company. The data collected is as follows:\n",
        "   [25.5, 24.8, 26.1, 25.3, 24.9]\n",
        "   Calculate the range of the stock prices.\n"
      ],
      "metadata": {
        "id": "dBTKibamOzEz"
      }
    },
    {
      "cell_type": "code",
      "source": [
        "def range(l):\n",
        "  max_val= max(l)\n",
        "  min_val= min(l)\n",
        "  range= max_val- min_val\n",
        "  return range\n",
        "\n",
        "l=  [25.5, 24.8, 26.1, 25.3, 24.9]\n",
        "\n",
        "range(l)"
      ],
      "metadata": {
        "colab": {
          "base_uri": "https://localhost:8080/"
        },
        "id": "SctvIQ_sOzhi",
        "outputId": "b8807de1-5443-4222-cc7a-c0bc9ec3bc00"
      },
      "execution_count": 4,
      "outputs": [
        {
          "output_type": "execute_result",
          "data": {
            "text/plain": [
              "1.3000000000000007"
            ]
          },
          "metadata": {},
          "execution_count": 4
        }
      ]
    },
    {
      "cell_type": "markdown",
      "source": [
        "5. Scenario: A study is conducted to compare the performance of two different teaching methods. The test scores of the students in each group are as follows:\n",
        "   Group A: [85, 90, 92, 88, 91]\n",
        "   Group B: [82, 88, 90, 86, 87]\n",
        "   Perform a t-test to determine if there is a significant difference in the mean scores between the two groups.\n"
      ],
      "metadata": {
        "id": "Id_MoSIXPnjE"
      }
    },
    {
      "cell_type": "code",
      "source": [
        "# H0 => µ1 = µ2 (population mean of dataset1 is equal to dataset2)\n",
        "# HA => µ1 ≠µ2 (population mean of dataset1 is different from dataset2)\n",
        "\n",
        "from scipy.stats import ttest_ind\n",
        "\n",
        "A= [85, 90, 92, 88, 91]\n",
        "B= [82, 88, 90, 86, 87]\n",
        "\n",
        "\n",
        "t_stat, p_value = ttest_ind(A, B)\n",
        "print(\"T-statistic value: \", t_stat)\n",
        "print(\"P-Value: \", p_value)\n",
        "\n",
        "\n",
        "# Here, since the p-value (0.19) is greater than alpha = 0.05 so we cannot reject the null hypothesis of the test."
      ],
      "metadata": {
        "colab": {
          "base_uri": "https://localhost:8080/"
        },
        "id": "czniVpQcPPDq",
        "outputId": "45bb4f60-9df6-49a1-a497-f6f83e2a177b"
      },
      "execution_count": 7,
      "outputs": [
        {
          "output_type": "stream",
          "name": "stdout",
          "text": [
            "T-statistic value:  1.4312528946642733\n",
            "P-Value:  0.19023970239078333\n"
          ]
        }
      ]
    },
    {
      "cell_type": "markdown",
      "source": [
        "6. Scenario: A company wants to analyze the relationship between advertising expenditure and sales. The data collected is as follows:\n",
        "   Advertising Expenditure (in thousands): [10, 15, 12, 8, 14]\n",
        "   Sales (in thousands): [25, 30, 28, 20, 26]\n",
        "   Calculate the correlation coefficient between advertising expenditure and sales.\n"
      ],
      "metadata": {
        "id": "IzSpHuSTUBdc"
      }
    },
    {
      "cell_type": "code",
      "source": [
        "expense= [10, 15, 12, 8, 14]\n",
        "sales= [25, 30, 28, 20, 26]\n",
        "\n",
        "import numpy\n",
        "print(numpy.corrcoef(expense,sales))"
      ],
      "metadata": {
        "colab": {
          "base_uri": "https://localhost:8080/"
        },
        "id": "mlQuRG00UsAr",
        "outputId": "666d093e-ac91-4d9e-c152-6452f6161e0c"
      },
      "execution_count": 8,
      "outputs": [
        {
          "output_type": "stream",
          "name": "stdout",
          "text": [
            "[[1.         0.87575114]\n",
            " [0.87575114 1.        ]]\n"
          ]
        }
      ]
    },
    {
      "cell_type": "markdown",
      "source": [
        "7. Scenario: A survey is conducted to measure the heights of a group of people. The data collected is as follows:\n",
        "   [160, 170, 165, 155, 175, 180, 170]\n",
        "   Calculate the standard deviation of the heights.\n"
      ],
      "metadata": {
        "id": "VmQabxVNVVzJ"
      }
    },
    {
      "cell_type": "code",
      "source": [
        "a=  [160, 170, 165, 155, 175, 180, 170]\n",
        "\n",
        "import numpy as np\n",
        "\n",
        "res= np.std(a)\n",
        "print(res)"
      ],
      "metadata": {
        "colab": {
          "base_uri": "https://localhost:8080/"
        },
        "id": "0SJuK8FAU6fN",
        "outputId": "42890053-bfde-486a-b339-62c96cfcabbb"
      },
      "execution_count": 9,
      "outputs": [
        {
          "output_type": "stream",
          "name": "stdout",
          "text": [
            "7.953949089757174\n"
          ]
        }
      ]
    },
    {
      "cell_type": "markdown",
      "source": [
        "8. Scenario: A company wants to analyze the relationship between employee tenure and job satisfaction. The data collected is as follows:\n",
        "   Employee Tenure (in years): [2, 3, 5, 4, 6, 2, 4]\n",
        "   Job Satisfaction (on a scale of 1 to 10): [7, 8, 6, 9, 5, 7, 6]\n",
        "   Perform a linear regression analysis to predict job satisfaction based on employee tenure.\n"
      ],
      "metadata": {
        "id": "xC7y53RWVo4U"
      }
    },
    {
      "cell_type": "code",
      "source": [
        "import scipy\n",
        "\n",
        "my_y = [2, 3, 5, 4, 6, 2, 4]\n",
        "my_x = [7, 8, 6, 9, 5, 7, 6]\n",
        "\n",
        "slope, intercept, r_value, p_value, std_err = scipy.stats.linregress(my_x, my_y)\n",
        "\n",
        "print(r_value**2)\n",
        "print(std_err)"
      ],
      "metadata": {
        "colab": {
          "base_uri": "https://localhost:8080/"
        },
        "id": "8sJhy6ptVrlR",
        "outputId": "4ef5845b-101e-4495-f6ee-9960c3d39c66"
      },
      "execution_count": 11,
      "outputs": [
        {
          "output_type": "stream",
          "name": "stdout",
          "text": [
            "0.27099664053751393\n",
            "0.42465563692514335\n"
          ]
        }
      ]
    },
    {
      "cell_type": "markdown",
      "source": [
        "9. Scenario: A study is conducted to compare the effectiveness of two different medications. The recovery times of the patients in each group are as follows:\n",
        "   Medication A: [10, 12, 14, 11, 13]\n",
        "   Medication B: [15, 17, 16, 14, 18]\n",
        "   Perform an analysis of variance (ANOVA) to determine if there is a significant difference in the mean recovery times between the two medications.\n"
      ],
      "metadata": {
        "id": "Lycq8Ok5gPqn"
      }
    },
    {
      "cell_type": "code",
      "source": [
        "# A one-way ANOVA has the below given null and alternative hypotheses:\n",
        "\n",
        "# H0 (null hypothesis): μ1 = μ2 = μ3 = … = μk (It implies that the means of all the population are equal)\n",
        "# H1 (null hypothesis): It states that there will be at least one population mean that differs from the rest\n",
        "\n",
        "A= [10, 12, 14, 11, 13]\n",
        "B= [15, 17, 16, 14, 18]\n",
        "\n",
        "# Importing library\n",
        "from scipy.stats import f_oneway\n",
        "\n",
        "f_oneway(A,B)\n",
        "\n",
        "# Here, the p-value is 0.003 which is less than 0.05. So we reject the null hypothesis"
      ],
      "metadata": {
        "colab": {
          "base_uri": "https://localhost:8080/"
        },
        "id": "QyTXFFRogIb9",
        "outputId": "976afa0d-23b3-4a21-fd8b-68cea70921d8"
      },
      "execution_count": 5,
      "outputs": [
        {
          "output_type": "execute_result",
          "data": {
            "text/plain": [
              "F_onewayResult(statistic=16.0, pvalue=0.003949772803445326)"
            ]
          },
          "metadata": {},
          "execution_count": 5
        }
      ]
    },
    {
      "cell_type": "markdown",
      "source": [
        "10. Scenario: A company wants to analyze customer feedback ratings on a scale of 1 to 10. The data collected is\n",
        "\n",
        " as follows:\n",
        "    [8, 9, 7, 6, 8, 10, 9, 8, 7, 8]\n",
        "    Calculate the 75th percentile of the feedback ratings.\n"
      ],
      "metadata": {
        "id": "2KoHToITTAqU"
      }
    },
    {
      "cell_type": "code",
      "source": [
        "import numpy as np\n",
        "\n",
        "l= [8, 9, 7, 6, 8, 10, 9, 8, 7, 8]\n",
        "\n",
        "print(\"75th percentile of arr : \",\n",
        "       np.percentile(l, 75))"
      ],
      "metadata": {
        "colab": {
          "base_uri": "https://localhost:8080/"
        },
        "id": "JujJWi88TBMx",
        "outputId": "3c1b7b52-3c01-447d-a273-3682c19bf421"
      },
      "execution_count": 6,
      "outputs": [
        {
          "output_type": "stream",
          "name": "stdout",
          "text": [
            "75th percentile of arr :  8.75\n"
          ]
        }
      ]
    },
    {
      "cell_type": "markdown",
      "source": [
        "11. Scenario: A quality control department wants to test the weight consistency of a product. The weights of a sample of products are as follows:\n",
        "    [10.2, 9.8, 10.0, 10.5, 10.3, 10.1]\n",
        "    Perform a hypothesis test to determine if the mean weight differs significantly from 10 grams.\n"
      ],
      "metadata": {
        "id": "32s6FK1eTVSU"
      }
    },
    {
      "cell_type": "code",
      "source": [
        "# null hypothesis: the mean of the areas is 10.\n",
        "\n",
        "# alternative hypothesis: the mean of the areas is not  10.\n",
        "\n",
        "# import packages\n",
        "import scipy.stats as stats\n",
        "import pandas as pd\n",
        "\n",
        "# loading the csv file\n",
        "data = [10.2, 9.8, 10.0, 10.5, 10.3, 10.1]\n",
        "\n",
        "# perform one sample t-test\n",
        "t_statistic, p_value = stats.ttest_1samp(a=data, popmean=10)\n",
        "print(t_statistic , p_value)\n",
        "\n",
        "# As the p_value for the given problem is more than 0.05 which is the alpha value, we accept the null hypothesis and the alternative hypothesis is rejected."
      ],
      "metadata": {
        "colab": {
          "base_uri": "https://localhost:8080/"
        },
        "id": "92oiHd0jTVt-",
        "outputId": "9e19e8c8-ab43-4753-e845-066fd1891ff6"
      },
      "execution_count": 1,
      "outputs": [
        {
          "output_type": "stream",
          "name": "stdout",
          "text": [
            "1.5126584522688367 0.19077595151110102\n"
          ]
        }
      ]
    },
    {
      "cell_type": "markdown",
      "source": [
        "12. Scenario: A company wants to analyze the click-through rates of two different website designs. The number of clicks for each design is as follows:\n",
        "    Design A: [100, 120, 110, 90, 95]\n",
        "    Design B: [80, 85, 90, 95, 100]\n",
        "    Perform a chi-square test to determine if there is a significant difference in the click-through rates between the two designs\n"
      ],
      "metadata": {
        "id": "EWzmjhzQ_rHQ"
      }
    },
    {
      "cell_type": "code",
      "source": [
        "# H0: the designs don't have much significant difference\n",
        "# HA: the designs have significance difference\n",
        "A= [100, 120, 110, 90, 95]\n",
        "B= [80, 85, 90, 95, 100]\n",
        "\n",
        "\n",
        "from scipy.stats import chi2_contingency\n",
        "\n",
        "# defining the table\n",
        "data = [A, B]\n",
        "stat, p, dof, expected = chi2_contingency(data)\n",
        "\n",
        "# interpret p-value\n",
        "alpha = 0.05\n",
        "print(\"p value is \" + str(p))\n",
        "if p <= alpha:\n",
        "    print('reject H0')\n",
        "else:\n",
        "    print('H0 holds true')"
      ],
      "metadata": {
        "colab": {
          "base_uri": "https://localhost:8080/"
        },
        "id": "7pQMQbPe_uEJ",
        "outputId": "a2fde3e9-3c1a-40f6-b58f-12c1bf0420e3"
      },
      "execution_count": 3,
      "outputs": [
        {
          "output_type": "stream",
          "name": "stdout",
          "text": [
            "p value is 0.19103526314060293\n",
            "H0 holds true\n"
          ]
        }
      ]
    },
    {
      "cell_type": "markdown",
      "source": [
        "13. Scenario: A survey is conducted to measure customer satisfaction with a product on a scale of 1 to 10. The data collected is as follows:\n",
        "    [7, 9, 6, 8, 10, 7, 8, 9, 7, 8]\n",
        "    Calculate the 95% confidence interval for the population mean satisfaction score.\n"
      ],
      "metadata": {
        "id": "vhDm0TazBXju"
      }
    },
    {
      "cell_type": "code",
      "source": [
        "\n",
        "import numpy as np\n",
        "import scipy.stats as st\n",
        "\n",
        "# define sample data\n",
        "gfg_data = [7, 9, 6, 8, 10, 7, 8, 9, 7, 8]\n",
        "\n",
        "# create 90% confidence interval\n",
        "st.t.interval(alpha=0.90, df=len(gfg_data)-1,\n",
        "              loc=np.mean(gfg_data),\n",
        "              scale=st.sem(gfg_data))"
      ],
      "metadata": {
        "colab": {
          "base_uri": "https://localhost:8080/"
        },
        "id": "XbiHUISYBaS-",
        "outputId": "32a0c3a2-9840-47bb-bd51-4e1401e13ec2"
      },
      "execution_count": 4,
      "outputs": [
        {
          "output_type": "stream",
          "name": "stderr",
          "text": [
            "<ipython-input-4-c714dc60c070>:8: DeprecationWarning: Use of keyword argument 'alpha' for method 'interval' is deprecated and wil be removed in SciPy 1.11.0. Use first positional argument or keyword argument 'confidence' instead.\n",
            "  st.t.interval(alpha=0.90, df=len(gfg_data)-1,\n"
          ]
        },
        {
          "output_type": "execute_result",
          "data": {
            "text/plain": [
              "(7.205994644530591, 8.59400535546941)"
            ]
          },
          "metadata": {},
          "execution_count": 4
        }
      ]
    },
    {
      "cell_type": "markdown",
      "source": [
        "14. Scenario: A company wants to analyze the effect of temperature on product performance. The data collected is as follows:\n",
        "    Temperature (in degrees Celsius): [20, 22, 23, 19, 21]\n",
        "    Performance (on a scale of 1 to 10): [8, 7, 9, 6, 8]\n",
        "    Perform a simple linear regression to predict performance based on temperature.\n"
      ],
      "metadata": {
        "id": "pCkG8YfADppy"
      }
    },
    {
      "cell_type": "code",
      "source": [
        "import scipy\n",
        "\n",
        "my_y = [8, 7, 9, 6, 8]\n",
        "my_x = [20, 22, 23, 19, 21]\n",
        "\n",
        "slope, intercept, r_value, p_value, std_err = scipy.stats.linregress(my_x, my_y)\n",
        "\n",
        "print(r_value**2)\n",
        "print(std_err)"
      ],
      "metadata": {
        "colab": {
          "base_uri": "https://localhost:8080/"
        },
        "id": "5cnUzgteDqMH",
        "outputId": "d71cc70b-cbd4-49ab-bef4-78c256680849"
      },
      "execution_count": 5,
      "outputs": [
        {
          "output_type": "stream",
          "name": "stdout",
          "text": [
            "0.4807692307692307\n",
            "0.30000000000000004\n"
          ]
        }
      ]
    },
    {
      "cell_type": "markdown",
      "source": [
        "15. Scenario: A study is conducted to compare the preferences of two groups of participants. The preferences are measured on a Likert scale from 1 to 5. The data collected is as follows:\n",
        "    Group A: [4, 3, 5, 2, 4]\n",
        "    Group B: [3, 2, 4, 3, 3]\n",
        "    Perform a Mann-Whitney U test to determine if there is a significant difference in the median preferences between the two groups.\n"
      ],
      "metadata": {
        "id": "i3MrW2DHEGC2"
      }
    },
    {
      "cell_type": "code",
      "source": [
        "# code for Mann-Whitney U test\n",
        "from scipy.stats import mannwhitneyu\n",
        "# Take batch 1 and batch 2 data as per above example\n",
        "batch_1 = [4, 3, 5, 2, 4]\n",
        "batch_2 = [3, 2, 4, 3, 3]\n",
        "\n",
        "# perform mann whitney test\n",
        "stat, p_value = mannwhitneyu(batch_1, batch_2)\n",
        "print('Statistics=%.2f, p=%.2f' % (stat, p_value))\n",
        "# Level of significance\n",
        "alpha = 0.05\n",
        "# conclusion\n",
        "if p_value < alpha:\n",
        "    print('Reject Null Hypothesis (Significant difference between two samples)')\n",
        "else:\n",
        "    print('Do not Reject Null Hypothesis (No significant difference between two samples)')"
      ],
      "metadata": {
        "colab": {
          "base_uri": "https://localhost:8080/"
        },
        "id": "sM3rZB48EGe4",
        "outputId": "bef6c6c3-d991-4eee-a971-dbb83bed0720"
      },
      "execution_count": 6,
      "outputs": [
        {
          "output_type": "stream",
          "name": "stdout",
          "text": [
            "Statistics=17.00, p=0.38\n",
            "Do not Reject Null Hypothesis (No significant difference between two samples)\n"
          ]
        }
      ]
    },
    {
      "cell_type": "markdown",
      "source": [
        "16. Scenario: A company wants to analyze the distribution of customer ages. The data collected is as follows:\n",
        "    [25, 30, 35, 40, 45, 50, 55, 60, 65, 70]\n",
        "    Calculate the interquartile range (IQR) of the ages.\n"
      ],
      "metadata": {
        "id": "ZyYWHOBhEhtk"
      }
    },
    {
      "cell_type": "code",
      "source": [
        "# Import stats from scipy library\n",
        "from scipy import stats\n",
        "\n",
        "data = [25, 30, 35, 40, 45, 50, 55, 60, 65, 70]\n",
        "\n",
        "# Interquartile range (IQR)\n",
        "IQR = stats.iqr(data, interpolation = 'midpoint')\n",
        "\n",
        "print(IQR)\n"
      ],
      "metadata": {
        "colab": {
          "base_uri": "https://localhost:8080/"
        },
        "id": "i9RT32UdFOTh",
        "outputId": "31371e50-6f03-49fa-cd3e-94d942ba6df5"
      },
      "execution_count": 10,
      "outputs": [
        {
          "output_type": "stream",
          "name": "stdout",
          "text": [
            "20.0\n"
          ]
        }
      ]
    },
    {
      "cell_type": "markdown",
      "source": [
        "17. Scenario: A study is conducted to compare the performance of three different machine learning algorithms. The accuracy scores for each algorithm are as follows:\n",
        "    Algorithm A: [0.85, 0.80, 0.82, 0.87, 0.83]\n",
        "    Algorithm B: [0.78, 0.82, 0.84, 0.80, 0.79]\n",
        "    Algorithm C: [0.90, 0.88, 0.89, 0.86, 0.87]\n",
        "    Perform a Kruskal-Wallis test to determine if there is a significant difference in the median accuracy scores between the algorithms.\n"
      ],
      "metadata": {
        "id": "uuKY2EJwFWdH"
      }
    },
    {
      "cell_type": "code",
      "source": [
        "# H0: no significant difference\n",
        "# HA: significant difference\n",
        "# Import libraries\n",
        "from scipy import stats\n",
        "\n",
        "# Defining data groups\n",
        "data_group1 = [0.85, 0.80, 0.82, 0.87, 0.83]\n",
        "data_group2 =  [0.78, 0.82, 0.84, 0.80, 0.79]\n",
        "data_group3 =  [0.90, 0.88, 0.89, 0.86, 0.87]\n",
        "\n",
        "# Conduct the Kruskal-Wallis Test\n",
        "result = stats.kruskal(data_group1, data_group2, data_group3)\n",
        "\n",
        "# Print the result\n",
        "print(result)\n",
        "\n",
        "# since p_value less than alpha=0.05, we reject the null hypothesis"
      ],
      "metadata": {
        "colab": {
          "base_uri": "https://localhost:8080/"
        },
        "id": "otBQ62AVFg9m",
        "outputId": "a8eadfad-f3fb-438d-8d0b-1add3a670b56"
      },
      "execution_count": 11,
      "outputs": [
        {
          "output_type": "stream",
          "name": "stdout",
          "text": [
            "KruskalResult(statistic=9.696947935368053, pvalue=0.007840333026249539)\n"
          ]
        }
      ]
    },
    {
      "cell_type": "markdown",
      "source": [
        "18. Scenario: A company wants to analyze the effect of price on sales. The data collected is as follows:\n",
        "    Price (in dollars): [10, 15, 12, 8, 14]\n",
        "    Sales: [100, 80, 90, 110, 95]\n",
        "    Perform a simple linear regression to predict\n",
        "\n",
        " sales based on price.\n"
      ],
      "metadata": {
        "id": "2NZ9BOGlGEna"
      }
    },
    {
      "cell_type": "code",
      "source": [
        "import scipy\n",
        "\n",
        "my_y = [100, 80, 90, 110, 95]\n",
        "my_x = [10, 15, 12, 8, 14]\n",
        "\n",
        "slope, intercept, r_value, p_value, std_err = scipy.stats.linregress(my_x, my_y)\n",
        "\n",
        "print(r_value**2)\n",
        "print(std_err)"
      ],
      "metadata": {
        "colab": {
          "base_uri": "https://localhost:8080/"
        },
        "id": "JGMgO5MSGH6w",
        "outputId": "75be6333-ba29-4164-8396-045e1cd64479"
      },
      "execution_count": 12,
      "outputs": [
        {
          "output_type": "stream",
          "name": "stdout",
          "text": [
            "0.8064024390243901\n",
            "0.9918303504036147\n"
          ]
        }
      ]
    },
    {
      "cell_type": "markdown",
      "source": [
        "19. Scenario: A survey is conducted to measure the satisfaction levels of customers with a new product. The data collected is as follows:\n",
        "    [7, 8, 9, 6, 8, 7, 9, 7, 8, 7]\n",
        "    Calculate the standard error of the mean satisfaction score.\n"
      ],
      "metadata": {
        "id": "OfclOOmvGUX6"
      }
    },
    {
      "cell_type": "code",
      "source": [
        "# Python3 code to demonstrate working of\n",
        "# Standard deviation of list\n",
        "import numpy as np\n",
        "# initializing list\n",
        "test_list = [7, 8, 9, 6, 8, 7, 9, 7, 8, 7]\n",
        "res = np.std(test_list)\n",
        "mean_=np.mean(test_list)\n",
        "# printing list\n",
        "print(res)\n",
        "print(mean_)"
      ],
      "metadata": {
        "colab": {
          "base_uri": "https://localhost:8080/"
        },
        "id": "k3unCT8JGU4d",
        "outputId": "84042e6a-d16d-4792-c6a1-3123c9ce6ec5"
      },
      "execution_count": 13,
      "outputs": [
        {
          "output_type": "stream",
          "name": "stdout",
          "text": [
            "0.9165151389911681\n",
            "7.6\n"
          ]
        }
      ]
    },
    {
      "cell_type": "markdown",
      "source": [
        "20. Scenario: A company wants to analyze the relationship between advertising expenditure and sales. The data collected is as follows:\n",
        "    Advertising Expenditure (in thousands): [10, 15, 12, 8, 14]\n",
        "    Sales (in thousands): [25, 30, 28, 20, 26]\n",
        "    Perform a multiple regression analysis to predict sales based on advertising expenditure.\n"
      ],
      "metadata": {
        "id": "6EjLd--IG0yv"
      }
    },
    {
      "cell_type": "code",
      "source": [
        "import scipy\n",
        "\n",
        "my_y = [25, 30, 28, 20, 26]\n",
        "my_x = [10, 15, 12, 8, 14]\n",
        "\n",
        "slope, intercept, r_value, p_value, std_err = scipy.stats.linregress(my_x, my_y)\n",
        "\n",
        "print(r_value**2)\n",
        "print(std_err)"
      ],
      "metadata": {
        "colab": {
          "base_uri": "https://localhost:8080/"
        },
        "id": "_ttG7yBNG1W9",
        "outputId": "9e74fb01-cbe3-4602-ee4e-b77de4416803"
      },
      "execution_count": 14,
      "outputs": [
        {
          "output_type": "stream",
          "name": "stdout",
          "text": [
            "0.7669400549639299\n",
            "0.3667840473337744\n"
          ]
        }
      ]
    }
  ]
}