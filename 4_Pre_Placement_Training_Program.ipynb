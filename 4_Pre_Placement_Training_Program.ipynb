{
  "nbformat": 4,
  "nbformat_minor": 0,
  "metadata": {
    "colab": {
      "provenance": []
    },
    "kernelspec": {
      "name": "python3",
      "display_name": "Python 3"
    },
    "language_info": {
      "name": "python"
    }
  },
  "cells": [
    {
      "cell_type": "markdown",
      "source": [
        "<aside>\n",
        "💡 **Question 1**\n",
        "Given three integer arrays arr1, arr2 and arr3 **sorted** in **strictly increasing** order, return a sorted array of **only** the integers that appeared in **all** three arrays.\n",
        "\n",
        "**Example 1:**\n",
        "\n",
        "Input: arr1 = [1,2,3,4,5], arr2 = [1,2,5,7,9], arr3 = [1,3,4,5,8]\n",
        "\n",
        "Output: [1,5]\n",
        "\n",
        "**Explanation:** Only 1 and 5 appeared in the three arrays.\n",
        "\n",
        "</aside>"
      ],
      "metadata": {
        "id": "IsBm4nA8TJU2"
      }
    },
    {
      "cell_type": "code",
      "execution_count": 2,
      "metadata": {
        "id": "ez_xq5ADS7bC"
      },
      "outputs": [],
      "source": [
        "def arraysIntersection(arr1: list[int], arr2: list[int], arr3: list[int]) -> list[int]:\n",
        "    def find(arr, val):\n",
        "        left, right = 0, len(arr) - 1\n",
        "        while left < right:\n",
        "            mid = (left + right) >> 1\n",
        "            if arr[mid] >= val:\n",
        "                right = mid\n",
        "            else:\n",
        "                left = mid + 1\n",
        "        return arr[left] == val\n",
        "\n",
        "    res = []\n",
        "    for num in arr1:\n",
        "        if find(arr2, num) and find(arr3, num):\n",
        "            res.append(num)\n",
        "    return res"
      ]
    },
    {
      "cell_type": "code",
      "source": [
        "arraysIntersection(arr1 = [1,2,3,4,5], arr2 = [1,2,5,7,9], arr3 = [1,3,4,5,8])"
      ],
      "metadata": {
        "colab": {
          "base_uri": "https://localhost:8080/"
        },
        "id": "oJSmzFRYTzJ_",
        "outputId": "d9a14877-129d-4fb1-8f21-0b5bf3d70884"
      },
      "execution_count": 4,
      "outputs": [
        {
          "output_type": "execute_result",
          "data": {
            "text/plain": [
              "[1, 5]"
            ]
          },
          "metadata": {},
          "execution_count": 4
        }
      ]
    },
    {
      "cell_type": "markdown",
      "source": [
        "<aside>\n",
        "💡 **Question 2**\n",
        "\n",
        "Given two **0-indexed** integer arrays nums1 and nums2, return *a list* answer *of size* 2 *where:*\n",
        "\n",
        "- answer[0] *is a list of all **distinct** integers in* nums1 *which are **not** present in* nums2*.*\n",
        "- answer[1] *is a list of all **distinct** integers in* nums2 *which are **not** present in* nums1.\n",
        "\n",
        "**Note** that the integers in the lists may be returned in **any** order.\n",
        "\n",
        "**Example 1:**\n",
        "\n",
        "**Input:** nums1 = [1,2,3], nums2 = [2,4,6]\n",
        "\n",
        "**Output:** [[1,3],[4,6]]\n",
        "\n",
        "**Explanation:**\n",
        "\n",
        "For nums1, nums1[1] = 2 is present at index 0 of nums2, whereas nums1[0] = 1 and nums1[2] = 3 are not present in nums2. Therefore, answer[0] = [1,3].\n",
        "\n",
        "For nums2, nums2[0] = 2 is present at index 1 of nums1, whereas nums2[1] = 4 and nums2[2] = 6 are not present in nums2. Therefore, answer[1] = [4,6].\n",
        "\n",
        "</aside>"
      ],
      "metadata": {
        "id": "S7iV3K00UAVk"
      }
    },
    {
      "cell_type": "code",
      "source": [
        "\n",
        "def findDifference(nums1: list[int], nums2: list[int]) -> list[list[int]]:\n",
        "    return [list(set(nums1).difference(nums2)), list(set(nums2).difference(nums1))]\n"
      ],
      "metadata": {
        "id": "yZOwf6oOUA8h"
      },
      "execution_count": 5,
      "outputs": []
    },
    {
      "cell_type": "code",
      "source": [
        "findDifference(nums1 = [1,2,3], nums2 = [2,4,6])"
      ],
      "metadata": {
        "colab": {
          "base_uri": "https://localhost:8080/"
        },
        "id": "43dXojwSUekN",
        "outputId": "bda043d6-c567-4343-f454-66ae57fc6119"
      },
      "execution_count": 6,
      "outputs": [
        {
          "output_type": "execute_result",
          "data": {
            "text/plain": [
              "[[1, 3], [4, 6]]"
            ]
          },
          "metadata": {},
          "execution_count": 6
        }
      ]
    },
    {
      "cell_type": "markdown",
      "source": [
        "<aside>\n",
        "💡 **Question 3**\n",
        "Given a 2D integer array matrix, return *the **transpose** of* matrix.\n",
        "\n",
        "The **transpose** of a matrix is the matrix flipped over its main diagonal, switching the matrix's row and column indices.\n",
        "\n",
        "**Example 1:**\n",
        "\n",
        "Input: matrix = [[1,2,3],[4,5,6],[7,8,9]]\n",
        "\n",
        "Output: [[1,4,7],[2,5,8],[3,6,9]]\n",
        "\n",
        "</aside>"
      ],
      "metadata": {
        "id": "wEQgD69OUnki"
      }
    },
    {
      "cell_type": "code",
      "source": [
        "# Python3 Program to find\n",
        "# transpose of a matrix\n",
        "\n",
        "N = 3\n",
        "\n",
        "# This function stores\n",
        "# transpose of A[][] in B[][]\n",
        "\n",
        "\n",
        "def transpose(A, B):\n",
        "\n",
        "\tfor i in range(N):\n",
        "\t\tfor j in range(N):\n",
        "\t\t\tB[i][j] = A[j][i]\n",
        "\n",
        "\n",
        "# Driver code\n",
        "if __name__ == '__main__':\n",
        "  A = [[1,2,3],[4,5,6],[7,8,9]]\n",
        "\n",
        "\n",
        "# To store result\n",
        "B = [[0 for x in range(N)] for y in range(N)]\n",
        "\n",
        "# Function call\n",
        "transpose(A, B)\n",
        "\n",
        "print(\"Result matrix is\")\n",
        "for i in range(N):\n",
        "\tfor j in range(N):\n",
        "\t\tprint(B[i][j], \" \", end='')\n",
        "\tprint()\n"
      ],
      "metadata": {
        "colab": {
          "base_uri": "https://localhost:8080/"
        },
        "id": "oFlXNnrpUoJV",
        "outputId": "38931634-2a9a-4953-f600-9ce4da2fea65"
      },
      "execution_count": 8,
      "outputs": [
        {
          "output_type": "stream",
          "name": "stdout",
          "text": [
            "Result matrix is\n",
            "1  4  7  \n",
            "2  5  8  \n",
            "3  6  9  \n"
          ]
        }
      ]
    },
    {
      "cell_type": "markdown",
      "source": [
        "<aside>\n",
        "💡 **Question 4**\n",
        "Given an integer array nums of 2n integers, group these integers into n pairs (a1, b1), (a2, b2), ..., (an, bn) such that the sum of min(ai, bi) for all i is **maximized**. Return *the maximized sum*.\n",
        "\n",
        "**Example 1:**\n",
        "\n",
        "Input: nums = [1,4,3,2]\n",
        "\n",
        "Output: 4\n",
        "\n",
        "**Explanation:** All possible pairings (ignoring the ordering of elements) are:\n",
        "\n",
        "1. (1, 4), (2, 3) -> min(1, 4) + min(2, 3) = 1 + 2 = 3\n",
        "\n",
        "2. (1, 3), (2, 4) -> min(1, 3) + min(2, 4) = 1 + 2 = 3\n",
        "\n",
        "3. (1, 2), (3, 4) -> min(1, 2) + min(3, 4) = 1 + 3 = 4\n",
        "\n",
        "So the maximum possible sum is 4\n",
        "\n",
        "</aside>"
      ],
      "metadata": {
        "id": "3o3KOqpQYAYy"
      }
    },
    {
      "cell_type": "code",
      "source": [
        "def arrayPairSum(nums):\n",
        "    \"\"\"\n",
        "    :type nums: List[int]\n",
        "    :rtype: int\n",
        "    \"\"\"\n",
        "    nums.sort()\n",
        "    result = 0\n",
        "    numsLen = len(nums)\n",
        "    for i in range(0, numsLen - 1, 2):\n",
        "        result += nums[i]\n",
        "    return result"
      ],
      "metadata": {
        "id": "1Q1karWyYA54"
      },
      "execution_count": 9,
      "outputs": []
    },
    {
      "cell_type": "code",
      "source": [
        "arrayPairSum(nums = [1,4,3,2])"
      ],
      "metadata": {
        "colab": {
          "base_uri": "https://localhost:8080/"
        },
        "id": "JxeFrTM2YQu-",
        "outputId": "b8a10fb4-7672-406d-9130-f939e65f1fd3"
      },
      "execution_count": 10,
      "outputs": [
        {
          "output_type": "execute_result",
          "data": {
            "text/plain": [
              "4"
            ]
          },
          "metadata": {},
          "execution_count": 10
        }
      ]
    },
    {
      "cell_type": "markdown",
      "source": [
        "<aside>\n",
        "💡 **Question 5**\n",
        "You have n coins and you want to build a staircase with these coins. The staircase consists of k rows where the ith row has exactly i coins. The last row of the staircase **may be** incomplete.\n",
        "\n",
        "Given the integer n, return *the number of **complete rows** of the staircase you will build*.\n",
        "\n",
        "**Example 1:**\n",
        "\n",
        "[]()\n",
        "\n",
        "![v2.jpg](https://s3-us-west-2.amazonaws.com/secure.notion-static.com/4bd91cfa-d2b1-47b3-8197-a72e8dcfff4b/v2.jpg)\n",
        "\n",
        "**Input:** n = 5\n",
        "\n",
        "**Output:** 2\n",
        "\n",
        "**Explanation:** Because the 3rd row is incomplete, we return 2.\n",
        "\n",
        "</aside>"
      ],
      "metadata": {
        "id": "ppcY4_ccYcEV"
      }
    },
    {
      "cell_type": "code",
      "source": [
        "def arrangeCoins(n: int) -> int:\n",
        "    if n==1:\n",
        "        return 1\n",
        "    l=0\n",
        "    r=n//2 + 1\n",
        "    while l<=r:\n",
        "        m = l+(r-l)//2\n",
        "        x = (m*(m+1)//2)\n",
        "        if x==n:\n",
        "            return(m)\n",
        "        elif x<n:\n",
        "            l = m+1\n",
        "        else:\n",
        "            r=m-1\n",
        "    return(l-1)"
      ],
      "metadata": {
        "id": "aG9bUMb-YdIs"
      },
      "execution_count": 12,
      "outputs": []
    },
    {
      "cell_type": "code",
      "source": [
        "arrangeCoins(n=5)"
      ],
      "metadata": {
        "colab": {
          "base_uri": "https://localhost:8080/"
        },
        "id": "9Jez2gUDY5KM",
        "outputId": "8a56b91a-9150-47ac-b077-3d7b4b8104c5"
      },
      "execution_count": 13,
      "outputs": [
        {
          "output_type": "execute_result",
          "data": {
            "text/plain": [
              "2"
            ]
          },
          "metadata": {},
          "execution_count": 13
        }
      ]
    },
    {
      "cell_type": "markdown",
      "source": [
        "<aside>\n",
        "💡 **Question 6**\n",
        "Given an integer array nums sorted in **non-decreasing** order, return *an array of **the squares of each number** sorted in non-decreasing order*.\n",
        "\n",
        "**Example 1:**\n",
        "\n",
        "Input: nums = [-4,-1,0,3,10]\n",
        "\n",
        "Output: [0,1,9,16,100]\n",
        "\n",
        "**Explanation:** After squaring, the array becomes [16,1,0,9,100].\n",
        "After sorting, it becomes [0,1,9,16,100]\n",
        "\n",
        "</aside>"
      ],
      "metadata": {
        "id": "WFGD2qP8Y-fU"
      }
    },
    {
      "cell_type": "code",
      "source": [
        "# Python program to Sort square\n",
        "# of the numbers of the array\n",
        "\n",
        "# Function to sort an square array\n",
        "def sortSquare(arr, n):\n",
        "\n",
        "\t# First convert each array\n",
        "\t# elements into its square\n",
        "\tfor i in range(n):\n",
        "\t\tarr[i]= arr[i] * arr[i]\n",
        "\tarr.sort()\n",
        "\n",
        "# Driver code\n",
        "arr = [-4,-1,0,3,10]\n",
        "n = len(arr)\n",
        "\n",
        "print(\"Before sort\")\n",
        "for i in range(n):\n",
        "\tprint(arr[i], end = \" \")\n",
        "\n",
        "print(\"\\n\")\n",
        "\n",
        "sortSquare(arr, n)\n",
        "\n",
        "print(\"After sort\")\n",
        "for i in range(n):\n",
        "\tprint(arr[i], end = \" \")\n",
        "\n"
      ],
      "metadata": {
        "colab": {
          "base_uri": "https://localhost:8080/"
        },
        "id": "rVn7_rdQY-_W",
        "outputId": "b15a88d8-8f90-4ce2-88e4-48843896e73b"
      },
      "execution_count": 14,
      "outputs": [
        {
          "output_type": "stream",
          "name": "stdout",
          "text": [
            "Before sort\n",
            "-4 -1 0 3 10 \n",
            "\n",
            "After sort\n",
            "0 1 9 16 100 "
          ]
        }
      ]
    },
    {
      "cell_type": "markdown",
      "source": [
        "<aside>\n",
        "💡 **Question 7**\n",
        "You are given an m x n matrix M initialized with all 0's and an array of operations ops, where ops[i] = [ai, bi] means M[x][y] should be incremented by one for all 0 <= x < ai and 0 <= y < bi.\n",
        "\n",
        "Count and return *the number of maximum integers in the matrix after performing all the operations*\n",
        "\n",
        "**Example 1:**\n",
        "\n",
        "![q4.jpg](https://s3-us-west-2.amazonaws.com/secure.notion-static.com/4d0890d0-7bc7-4f59-be8e-352d9f3c1c52/q4.jpg)\n",
        "\n",
        "**Input:** m = 3, n = 3, ops = [[2,2],[3,3]]\n",
        "\n",
        "**Output:** 4\n",
        "\n",
        "**Explanation:** The maximum integer in M is 2, and there are four of it in M. So return 4.\n",
        "\n",
        "</aside>"
      ],
      "metadata": {
        "id": "9byA8kHxZPOj"
      }
    },
    {
      "cell_type": "code",
      "source": [
        "def maxCount(m: int, n: int, ops: list[list[int]]) -> int:\n",
        "    length = len(ops)\n",
        "    if length == 0:\n",
        "        return m*n\n",
        "    result = [ops[0][0] , ops[0][1]]\n",
        "    for i in range(1,length):\n",
        "        result[0] = min(result[0] , ops[i][0])\n",
        "        result[1] = min(result[1] , ops[i][1])\n",
        "    return result[0]*result[1]   "
      ],
      "metadata": {
        "id": "QEDpSDegZSuX"
      },
      "execution_count": 15,
      "outputs": []
    },
    {
      "cell_type": "code",
      "source": [
        "maxCount(m = 3, n = 3, ops = [[2,2],[3,3]])"
      ],
      "metadata": {
        "colab": {
          "base_uri": "https://localhost:8080/"
        },
        "id": "p9l3SMY_Zfc5",
        "outputId": "19209aec-fc17-431e-dd08-d149b51d251d"
      },
      "execution_count": 16,
      "outputs": [
        {
          "output_type": "execute_result",
          "data": {
            "text/plain": [
              "4"
            ]
          },
          "metadata": {},
          "execution_count": 16
        }
      ]
    },
    {
      "cell_type": "markdown",
      "source": [
        "<aside>\n",
        "💡 **Question 8**\n",
        "\n",
        "Given the array nums consisting of 2n elements in the form [x1,x2,...,xn,y1,y2,...,yn].\n",
        "\n",
        "*Return the array in the form* [x1,y1,x2,y2,...,xn,yn].\n",
        "\n",
        "**Example 1:**\n",
        "\n",
        "**Input:** nums = [2,5,1,3,4,7], n = 3\n",
        "\n",
        "**Output:** [2,3,5,4,1,7]\n",
        "\n",
        "**Explanation:** Since x1=2, x2=5, x3=1, y1=3, y2=4, y3=7 then the answer is [2,3,5,4,1,7].\n",
        "\n",
        "</aside>"
      ],
      "metadata": {
        "id": "uRGoHIO1Zl89"
      }
    },
    {
      "cell_type": "code",
      "source": [
        "def shuffle(nums, n):\n",
        "    first_half = nums[:n]\n",
        "    last_half = nums[n:]\n",
        "    final_list = []\n",
        "\n",
        "    for index in range(len(first_half)):\n",
        "        final_list.append(first_half[index])\n",
        "        final_list.append(last_half[index])\n",
        "\n",
        "    return final_list"
      ],
      "metadata": {
        "id": "LflOb44YZjWT"
      },
      "execution_count": 18,
      "outputs": []
    },
    {
      "cell_type": "code",
      "source": [
        "shuffle(nums = [2,5,1,3,4,7], n = 3)"
      ],
      "metadata": {
        "id": "FE82v7phaYt7",
        "outputId": "4772d9cb-bd9d-4b95-fdb6-62fdb96e84f3",
        "colab": {
          "base_uri": "https://localhost:8080/"
        }
      },
      "execution_count": 19,
      "outputs": [
        {
          "output_type": "execute_result",
          "data": {
            "text/plain": [
              "[2, 3, 5, 4, 1, 7]"
            ]
          },
          "metadata": {},
          "execution_count": 19
        }
      ]
    }
  ]
}