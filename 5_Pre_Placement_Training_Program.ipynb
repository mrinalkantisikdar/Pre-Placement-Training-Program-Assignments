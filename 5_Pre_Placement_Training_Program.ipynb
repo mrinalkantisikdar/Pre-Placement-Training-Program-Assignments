{
  "nbformat": 4,
  "nbformat_minor": 0,
  "metadata": {
    "colab": {
      "provenance": []
    },
    "kernelspec": {
      "name": "python3",
      "display_name": "Python 3"
    },
    "language_info": {
      "name": "python"
    }
  },
  "cells": [
    {
      "cell_type": "markdown",
      "source": [
        "<aside>\n",
        "💡 **Question 1**\n",
        "\n",
        "Convert 1D Array Into 2D Array\n",
        "\n",
        "You are given a **0-indexed** 1-dimensional (1D) integer array original, and two integers, m and n. You are tasked with creating a 2-dimensional (2D) array with  m rows and n columns using **all** the elements from original.\n",
        "\n",
        "The elements from indices 0 to n - 1 (**inclusive**) of original should form the first row of the constructed 2D array, the elements from indices n to 2 * n - 1 (**inclusive**) should form the second row of the constructed 2D array, and so on.\n",
        "\n",
        "Return *an* m x n *2D array constructed according to the above procedure, or an empty 2D array if it is impossible*.\n",
        "\n",
        "</aside>\n",
        "**Input:** original = [1,2,3,4], m = 2, n = 2\n",
        "\n",
        "**Output:** [[1,2],[3,4]]\n",
        "\n",
        "**Explanation:** The constructed 2D array should contain 2 rows and 2 columns.\n",
        "\n",
        "The first group of n=2 elements in original, [1,2], becomes the first row in the constructed 2D array.\n",
        "\n",
        "The second group of n=2 elements in original, [3,4], becomes the second row in the constructed 2D array."
      ],
      "metadata": {
        "id": "YxF-Gl8JXFUH"
      }
    },
    {
      "cell_type": "code",
      "execution_count": 5,
      "metadata": {
        "id": "eGhb9d-dbCSB"
      },
      "outputs": [],
      "source": [
        "\n",
        "def array_convert(original, m, n):\n",
        "  if m*n != len(original):\n",
        "      return []\n",
        "        \n",
        "  ans = []\n",
        "  for i in range(0, m*n, n):\n",
        "      ans.append(original[i:i+n])\n",
        "              \n",
        "  return ans"
      ]
    },
    {
      "cell_type": "code",
      "source": [
        "array_convert(original = [1,2,3,4], m = 2, n =2)"
      ],
      "metadata": {
        "colab": {
          "base_uri": "https://localhost:8080/"
        },
        "id": "Ho5cedo3YU1k",
        "outputId": "9294cbcd-3f0d-46c9-a861-b2c209957e2a"
      },
      "execution_count": 6,
      "outputs": [
        {
          "output_type": "execute_result",
          "data": {
            "text/plain": [
              "[[1, 2], [3, 4]]"
            ]
          },
          "metadata": {},
          "execution_count": 6
        }
      ]
    },
    {
      "cell_type": "markdown",
      "source": [
        "<aside>\n",
        "💡 **Question 2**\n",
        "\n",
        "You have n coins and you want to build a staircase with these coins. The staircase consists of k rows where the ith row has exactly i coins. The last row of the staircase **may be** incomplete.\n",
        "\n",
        "Given the integer n, return *the number of **complete rows** of the staircase you will build*.\n",
        "\n",
        "</aside>\n",
        "**Input:** n = 5\n",
        "\n",
        "**Output:** 2\n",
        "\n",
        "**Explanation:** Because the 3rd row is incomplete, we return 2."
      ],
      "metadata": {
        "id": "3-8tlnQzXbVD"
      }
    },
    {
      "cell_type": "code",
      "source": [
        "def arrangeCoins(n: int) -> int:\n",
        "    rows = 0\n",
        "    i = 1\n",
        "    \n",
        "    while n >= i:\n",
        "        n-=i\n",
        "        rows+=1\n",
        "        i+=1\n",
        "            \n",
        "    return rows"
      ],
      "metadata": {
        "id": "KL6P2aokXhus"
      },
      "execution_count": 8,
      "outputs": []
    },
    {
      "cell_type": "code",
      "source": [
        "arrangeCoins(n = 5)"
      ],
      "metadata": {
        "colab": {
          "base_uri": "https://localhost:8080/"
        },
        "id": "clFQuG7BYnHR",
        "outputId": "c8378d53-7df4-4849-bd74-e3b41a7dc9ca"
      },
      "execution_count": 9,
      "outputs": [
        {
          "output_type": "execute_result",
          "data": {
            "text/plain": [
              "2"
            ]
          },
          "metadata": {},
          "execution_count": 9
        }
      ]
    },
    {
      "cell_type": "markdown",
      "source": [
        "<aside>\n",
        "💡 **Question 3**\n",
        "\n",
        "Given an integer array nums sorted in **non-decreasing** order, return *an array of **the squares of each number** sorted in non-decreasing order*.\n",
        "\n",
        "**Example 1:**\n",
        "\n",
        "**Input:** nums = [-4,-1,0,3,10]\n",
        "\n",
        "**Output:** [0,1,9,16,100]\n",
        "\n",
        "**Explanation:** After squaring, the array becomes [16,1,0,9,100].\n",
        "\n",
        "After sorting, it becomes [0,1,9,16,100].\n",
        "\n",
        "</aside>"
      ],
      "metadata": {
        "id": "o6-wxgQoYwN6"
      }
    },
    {
      "cell_type": "code",
      "source": [
        "# Python program to Sort square\n",
        "# of the numbers of the array\n",
        "\n",
        "# Function to sort an square array\n",
        "def sortSquare(arr, n):\n",
        "\n",
        "\t# First convert each array\n",
        "\t# elements into its square\n",
        "\tfor i in range(n):\n",
        "\t\tarr[i]= arr[i] * arr[i]\n",
        "\tarr.sort()\n",
        "\n",
        "# Driver code\n",
        "arr =  [-4,-1,0,3,10]\n",
        "n = len(arr)\n",
        "\n",
        "print(\"Before sort\")\n",
        "for i in range(n):\n",
        "\tprint(arr[i], end = \" \")\n",
        "\n",
        "print(\"\\n\")\n",
        "\n",
        "sortSquare(arr, n)\n",
        "\n",
        "print(\"After sort\")\n",
        "for i in range(n):\n",
        "\tprint(arr[i], end = \" \")\n",
        "\n"
      ],
      "metadata": {
        "colab": {
          "base_uri": "https://localhost:8080/"
        },
        "id": "GGbyqAdIYxKc",
        "outputId": "26b58757-c8e6-4f81-d984-3a1a569feec6"
      },
      "execution_count": 10,
      "outputs": [
        {
          "output_type": "stream",
          "name": "stdout",
          "text": [
            "Before sort\n",
            "-4 -1 0 3 10 \n",
            "\n",
            "After sort\n",
            "0 1 9 16 100 "
          ]
        }
      ]
    },
    {
      "cell_type": "markdown",
      "source": [
        "<aside>\n",
        "💡 **Question 4**\n",
        "\n",
        "Given two **0-indexed** integer arrays nums1 and nums2, return *a list* answer *of size* 2 *where:*\n",
        "\n",
        "- answer[0] *is a list of all **distinct** integers in* nums1 *which are **not** present in* nums2*.*\n",
        "- answer[1] *is a list of all **distinct** integers in* nums2 *which are **not** present in* nums1.\n",
        "\n",
        "**Note** that the integers in the lists may be returned in **any** order.\n",
        "\n",
        "**Example 1:**\n",
        "\n",
        "**Input:** nums1 = [1,2,3], nums2 = [2,4,6]\n",
        "\n",
        "**Output:** [[1,3],[4,6]]\n",
        "\n",
        "**Explanation:**\n",
        "\n",
        "For nums1, nums1[1] = 2 is present at index 0 of nums2, whereas nums1[0] = 1 and nums1[2] = 3 are not present in nums2. Therefore, answer[0] = [1,3].\n",
        "\n",
        "For nums2, nums2[0] = 2 is present at index 1 of nums1, whereas nums2[1] = 4 and nums2[2] = 6 are not present in nums2. Therefore, answer[1] = [4,6].\n",
        "\n",
        "</aside>"
      ],
      "metadata": {
        "id": "wt13rexjZF1_"
      }
    },
    {
      "cell_type": "code",
      "source": [
        "def findDiffference(nums1: list[int], nums2: list[int]) -> list[list[int]]:\n",
        "  return[[x for x in set(nums1) if x  not in set(nums2)]], [x for x in set(nums2) if x not in set(nums1)]"
      ],
      "metadata": {
        "id": "e2Rsx7YlZGWR"
      },
      "execution_count": 15,
      "outputs": []
    },
    {
      "cell_type": "code",
      "source": [
        "findDiffference(nums1 = [1,2,3], nums2 = [2,4,6])"
      ],
      "metadata": {
        "colab": {
          "base_uri": "https://localhost:8080/"
        },
        "id": "bd-WpH_UZzp6",
        "outputId": "1e81d984-9ad4-4b61-e10d-a14a875b7543"
      },
      "execution_count": 16,
      "outputs": [
        {
          "output_type": "execute_result",
          "data": {
            "text/plain": [
              "([[1, 3]], [4, 6])"
            ]
          },
          "metadata": {},
          "execution_count": 16
        }
      ]
    },
    {
      "cell_type": "markdown",
      "source": [
        "<aside>\n",
        "💡 **Question 5**\n",
        "\n",
        "Given two integer arrays arr1 and arr2, and the integer d, *return the distance value between the two arrays*.\n",
        "\n",
        "The distance value is defined as the number of elements arr1[i] such that there is not any element arr2[j] where |arr1[i]-arr2[j]| <= d.\n",
        "\n",
        "**Example 1:**\n",
        "\n",
        "**Input:** arr1 = [4,5,8], arr2 = [10,9,1,8], d = 2\n",
        "\n",
        "**Output:** 2\n",
        "\n",
        "**Explanation:**\n",
        "\n",
        "For arr1[0]=4 we have:\n",
        "\n",
        "|4-10|=6 > d=2\n",
        "\n",
        "|4-9|=5 > d=2\n",
        "\n",
        "|4-1|=3 > d=2\n",
        "\n",
        "|4-8|=4 > d=2\n",
        "\n",
        "For arr1[1]=5 we have:\n",
        "\n",
        "|5-10|=5 > d=2\n",
        "\n",
        "|5-9|=4 > d=2\n",
        "\n",
        "|5-1|=4 > d=2\n",
        "\n",
        "|5-8|=3 > d=2\n",
        "\n",
        "For arr1[2]=8 we have:\n",
        "\n",
        "**|8-10|=2 <= d=2**\n",
        "\n",
        "**|8-9|=1 <= d=2**\n",
        "\n",
        "|8-1|=7 > d=2\n",
        "\n",
        "**|8-8|=0 <= d=2**\n",
        "\n",
        "</aside>"
      ],
      "metadata": {
        "id": "c0sa_0I3aPWZ"
      }
    },
    {
      "cell_type": "code",
      "source": [
        "def findTheDistanceValue(arr1: list[int], arr2: list[int], d: int) -> int:\n",
        "  return sum(all(abs(x - y) > d for y in arr2) for x in arr1)"
      ],
      "metadata": {
        "id": "IabLJzfXaP7p"
      },
      "execution_count": 18,
      "outputs": []
    },
    {
      "cell_type": "code",
      "source": [
        "findTheDistanceValue(arr1 = [4,5,8], arr2 = [10,9,1,8], d = 2)"
      ],
      "metadata": {
        "colab": {
          "base_uri": "https://localhost:8080/"
        },
        "id": "gDtGSPsYa09Y",
        "outputId": "2098084e-e5cf-4bec-98eb-7b0e179faa96"
      },
      "execution_count": 19,
      "outputs": [
        {
          "output_type": "execute_result",
          "data": {
            "text/plain": [
              "2"
            ]
          },
          "metadata": {},
          "execution_count": 19
        }
      ]
    },
    {
      "cell_type": "markdown",
      "source": [
        "<aside>\n",
        "💡 **Question 6**\n",
        "\n",
        "Given an integer array nums of length n where all the integers of nums are in the range [1, n] and each integer appears **once** or **twice**, return *an array of all the integers that appears **twice***.\n",
        "\n",
        "You must write an algorithm that runs in O(n) time and uses only constant extra space.\n",
        "\n",
        "**Example 1:**\n",
        "\n",
        "**Input:** nums = [4,3,2,7,8,2,3,1]\n",
        "\n",
        "**Output:**\n",
        "\n",
        "[2,3]\n",
        "\n",
        "</aside>"
      ],
      "metadata": {
        "id": "hG1nyGf9a8gX"
      }
    },
    {
      "cell_type": "code",
      "source": [
        "arr = [4,3,2,7,8,2,3,1] \n",
        "   \n",
        "print(\"Duplicate elements in given array: \") \n",
        "#Searches for duplicate element  \n",
        "for i in range(0, len(arr)):  \n",
        "    for j in range(i+1, len(arr)):  \n",
        "        if(arr[i] == arr[j]):  \n",
        "            print(arr[j]);  "
      ],
      "metadata": {
        "colab": {
          "base_uri": "https://localhost:8080/"
        },
        "id": "Ds_tB8Dca9Pq",
        "outputId": "d6e4aae5-a5c4-4042-babd-564fec8ad291"
      },
      "execution_count": 24,
      "outputs": [
        {
          "output_type": "stream",
          "name": "stdout",
          "text": [
            "Duplicate elements in given array: \n",
            "3\n",
            "2\n"
          ]
        }
      ]
    },
    {
      "cell_type": "markdown",
      "source": [
        "<aside>\n",
        "💡 **Question 7**\n",
        "\n",
        "Suppose an array of length n sorted in ascending order is **rotated** between 1 and n times. For example, the array nums = [0,1,2,4,5,6,7] might become:\n",
        "\n",
        "- [4,5,6,7,0,1,2] if it was rotated 4 times.\n",
        "- [0,1,2,4,5,6,7] if it was rotated 7 times.\n",
        "\n",
        "Notice that **rotating** an array [a[0], a[1], a[2], ..., a[n-1]] 1 time results in the array [a[n-1], a[0], a[1], a[2], ..., a[n-2]].\n",
        "\n",
        "Given the sorted rotated array nums of **unique** elements, return *the minimum element of this array*.\n",
        "\n",
        "You must write an algorithm that runs in O(log n) time.\n",
        "\n",
        "**Example 1:**\n",
        "\n",
        "**Input:** nums = [3,4,5,1,2]\n",
        "\n",
        "**Output:** 1\n",
        "\n",
        "**Explanation:**\n",
        "\n",
        "The original array was [1,2,3,4,5] rotated 3 times.\n",
        "\n",
        "</aside>"
      ],
      "metadata": {
        "id": "f7ux2J4WcBaG"
      }
    },
    {
      "cell_type": "code",
      "source": [
        "\n",
        "def findMin(nums: list[int]) -> int:\n",
        "    if nums[0] <= nums[-1]:\n",
        "        return nums[0]\n",
        "    left, right = 0, len(nums) - 1\n",
        "    while left < right:\n",
        "        mid = (left + right) >> 1\n",
        "        if nums[0] <= nums[mid]:\n",
        "            left = mid + 1\n",
        "        else:\n",
        "            right = mid\n",
        "    return nums[left]"
      ],
      "metadata": {
        "id": "33UuOs9VcCAQ"
      },
      "execution_count": 25,
      "outputs": []
    },
    {
      "cell_type": "code",
      "source": [
        "findMin(nums = [3,4,5,1,2])"
      ],
      "metadata": {
        "colab": {
          "base_uri": "https://localhost:8080/"
        },
        "id": "klN-mh14cTEk",
        "outputId": "a1e9e391-631d-4c0c-c0da-66eb88ca7bad"
      },
      "execution_count": 27,
      "outputs": [
        {
          "output_type": "execute_result",
          "data": {
            "text/plain": [
              "1"
            ]
          },
          "metadata": {},
          "execution_count": 27
        }
      ]
    },
    {
      "cell_type": "markdown",
      "source": [
        "<aside>\n",
        "💡 **Question 8**\n",
        "\n",
        "An integer array original is transformed into a **doubled** array changed by appending **twice the value** of every element in original, and then randomly **shuffling** the resulting array.\n",
        "\n",
        "Given an array changed, return original *if* changed *is a **doubled** array. If* changed *is not a **doubled** array, return an empty array. The elements in* original *may be returned in **any** order*.\n",
        "\n",
        "**Example 1:**\n",
        "\n",
        "**Input:** changed = [1,3,4,2,6,8]\n",
        "\n",
        "**Output:** [1,3,4]\n",
        "\n",
        "**Explanation:** One possible original array could be [1,3,4]:\n",
        "\n",
        "- Twice the value of 1 is 1 * 2 = 2.\n",
        "- Twice the value of 3 is 3 * 2 = 6.\n",
        "- Twice the value of 4 is 4 * 2 = 8.\n",
        "\n",
        "Other original arrays could be [4,3,1] or [3,1,4].\n",
        "\n",
        "</aside>"
      ],
      "metadata": {
        "id": "kGfSGOgNceIL"
      }
    },
    {
      "cell_type": "code",
      "source": [
        "# Function to find the original array\n",
        "# from the doubled array\n",
        "def findOriginal(arr):\n",
        "\n",
        "\t# Stores the numbers and\n",
        "\t# their frequency\n",
        "\tnumFreq = {}\n",
        "\n",
        "\t# Add number with their frequencies\n",
        "\t# in the hashmap\n",
        "\tfor i in range(0, len(arr)):\n",
        "\t\tif (arr[i] in numFreq):\n",
        "\t\t\tnumFreq[arr[i]] += 1\n",
        "\t\telse:\n",
        "\t\t\tnumFreq[arr[i]] = 1\n",
        "\n",
        "\t# Sort the array\n",
        "\tarr.sort()\n",
        "\n",
        "\t# Initialize an arraylist\n",
        "\tres = []\n",
        "\n",
        "\tfor i in range(0, len(arr)):\n",
        "\t\n",
        "\t\t# Get the frequency of the number\n",
        "\t\tfreq = numFreq[arr[i]]\n",
        "\t\tif (freq > 0):\n",
        "\t\t\n",
        "\t\t\t# Element is of original array\n",
        "\t\t\tres.append(arr[i])\n",
        "\n",
        "\t\t\t# Decrement the frequency of\n",
        "\t\t\t# the number\n",
        "\t\t\tnumFreq[arr[i]] -= 1\n",
        "\n",
        "\t\t\ttwice = 2 * arr[i]\n",
        "\n",
        "\t\t\t# Decrement the frequency of\n",
        "\t\t\t# the number having double value\n",
        "\t\t\tnumFreq[twice] -= 1\n",
        "\n",
        "\t# Return the resultant string\n",
        "\treturn res\n",
        "\n",
        "# Driver Code\n",
        "arr = [1,3,4,2,6,8]\n",
        "res = findOriginal(arr)\n",
        "\n",
        "# Print the result list\n",
        "for i in range(0, len(res)):\n",
        "\tprint(res[i], end=\" \")\n",
        "\n"
      ],
      "metadata": {
        "colab": {
          "base_uri": "https://localhost:8080/"
        },
        "id": "B9bfhR-Ocew4",
        "outputId": "02f072f2-1146-4ad5-c8bb-861eca8b213e"
      },
      "execution_count": 28,
      "outputs": [
        {
          "output_type": "stream",
          "name": "stdout",
          "text": [
            "1 3 4 "
          ]
        }
      ]
    }
  ]
}