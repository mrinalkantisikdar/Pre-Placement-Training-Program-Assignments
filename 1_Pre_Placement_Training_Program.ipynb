{
  "nbformat": 4,
  "nbformat_minor": 0,
  "metadata": {
    "colab": {
      "provenance": []
    },
    "kernelspec": {
      "name": "python3",
      "display_name": "Python 3"
    },
    "language_info": {
      "name": "python"
    }
  },
  "cells": [
    {
      "cell_type": "markdown",
      "source": [
        "<aside>\n",
        "💡 **Q1.** Given an array of integers nums and an integer target, return indices of the two numbers such that they add up to target.\n",
        "\n",
        "You may assume that each input would have exactly one solution, and you may not use the same element twice.\n",
        "\n",
        "You can return the answer in any order.\n",
        "\n",
        "**Example:**\n",
        "Input: nums = [2,7,11,15], target = 9\n",
        "Output0 [0,1]\n",
        "\n",
        "**Explanation:** Because nums[0] + nums[1] == 9, we return [0, 1][\n",
        "\n",
        "</aside>"
      ],
      "metadata": {
        "id": "1JsuPk5gbEmN"
      }
    },
    {
      "cell_type": "code",
      "execution_count": 6,
      "metadata": {
        "id": "hrwLIbZnaeqE"
      },
      "outputs": [],
      "source": [
        "# brute force method:\n",
        "def twoSum(nums: list[int], target: int) -> list[int]:\n",
        "        for i in range(len(nums)):\n",
        "            for j in range(i+1, len(nums)):\n",
        "                if nums[i] + nums[j] == target:\n",
        "                    return [i, j]"
      ]
    },
    {
      "cell_type": "code",
      "source": [
        "twoSum(nums = [2,7,11,15], target = 9)"
      ],
      "metadata": {
        "colab": {
          "base_uri": "https://localhost:8080/"
        },
        "id": "d7Uy0honbwRi",
        "outputId": "5598d621-1088-46c0-86a3-e47044f99f4c"
      },
      "execution_count": 7,
      "outputs": [
        {
          "output_type": "execute_result",
          "data": {
            "text/plain": [
              "[0, 1]"
            ]
          },
          "metadata": {},
          "execution_count": 7
        }
      ]
    },
    {
      "cell_type": "code",
      "source": [
        "# dictionary solution:\n",
        "def twoSum_dict(nums: list[int], target: int) -> list[int]:\n",
        "        dictionary = {}\n",
        "        answer = []\n",
        "        \n",
        "        for i in range(len(nums)):\n",
        "            secondNumber = target-nums[i]\n",
        "            if(secondNumber in dictionary.keys()):\n",
        "                secondIndex = nums.index(secondNumber)\n",
        "                if(i != secondIndex):\n",
        "                    return sorted([i, secondIndex])\n",
        "                \n",
        "            dictionary.update({nums[i]: i})"
      ],
      "metadata": {
        "id": "P8hDE6pZb2Jo"
      },
      "execution_count": 10,
      "outputs": []
    },
    {
      "cell_type": "code",
      "source": [
        "twoSum_dict(nums = [2,7,11,15], target = 9)"
      ],
      "metadata": {
        "colab": {
          "base_uri": "https://localhost:8080/"
        },
        "id": "cpY1I5hScKGh",
        "outputId": "c9b24b18-9866-45fd-b7d2-f17b4507960e"
      },
      "execution_count": 11,
      "outputs": [
        {
          "output_type": "execute_result",
          "data": {
            "text/plain": [
              "[0, 1]"
            ]
          },
          "metadata": {},
          "execution_count": 11
        }
      ]
    },
    {
      "cell_type": "markdown",
      "source": [
        "<aside>\n",
        "💡 **Q2.** Given an integer array nums and an integer val, remove all occurrences of val in nums in-place. The order of the elements may be changed. Then return the number of elements in nums which are not equal to val.\n",
        "\n",
        "Consider the number of elements in nums which are not equal to val be k, to get accepted, you need to do the following things:\n",
        "\n",
        "- Change the array nums such that the first k elements of nums contain the elements which are not equal to val. The remaining elements of nums are not important as well as the size of nums.\n",
        "- Return k.\n",
        "\n",
        "**Example :**\n",
        "Input: nums = [3,2,2,3], val = 3\n",
        "Output: 2, nums = [2,2,_*,_*]\n",
        "\n",
        "**Explanation:** Your function should return k = 2, with the first two elements of nums being 2. It does not matter what you leave beyond the returned k (hence they are underscores)[\n",
        "\n",
        "</aside>"
      ],
      "metadata": {
        "id": "PE14FBFYcVp7"
      }
    },
    {
      "cell_type": "code",
      "source": [
        "def removeElement(nums: list[int], val: int) -> int:\n",
        "  # Counter for keeping track of elements other than val\n",
        "  count = 0\n",
        "  # Loop through all the elements of the array\n",
        "  for i in range(len(nums)):\n",
        "      if nums[i] != val:\n",
        "          # If the element is not val\n",
        "          nums[count] = nums[i]\n",
        "          count += 1   \n",
        "  return count"
      ],
      "metadata": {
        "id": "aAREufQYcWU5"
      },
      "execution_count": 63,
      "outputs": []
    },
    {
      "cell_type": "code",
      "source": [
        "removeElement(nums = [3,2,2,3], val = 3)"
      ],
      "metadata": {
        "colab": {
          "base_uri": "https://localhost:8080/"
        },
        "id": "jv-yNeD1dCLW",
        "outputId": "1ab605ae-3a6b-4082-c556-5c45923d0c17"
      },
      "execution_count": 64,
      "outputs": [
        {
          "output_type": "execute_result",
          "data": {
            "text/plain": [
              "2"
            ]
          },
          "metadata": {},
          "execution_count": 64
        }
      ]
    },
    {
      "cell_type": "markdown",
      "source": [
        "<aside>\n",
        "💡 **Q3.** Given a sorted array of distinct integers and a target value, return the index if the target is found. If not, return the index where it would be if it were inserted in order.\n",
        "\n",
        "You must write an algorithm with O(log n) runtime complexity.\n",
        "\n",
        "**Example 1:**\n",
        "Input: nums = [1,3,5,6], target = 5\n",
        "\n",
        "Output: 2\n",
        "\n",
        "</aside>"
      ],
      "metadata": {
        "id": "10z3yBhRhBu9"
      }
    },
    {
      "cell_type": "code",
      "source": [
        "# Function to find insert position of K\n",
        "def find_index(arr, n, K):\n",
        "\t\n",
        "\t# Traverse the array\n",
        "\tfor i in range(n):\n",
        "\t\t\n",
        "\t\t# If K is found\n",
        "\t\tif arr[i] == K:\n",
        "\t\t\treturn i\n",
        "\t\t\t\n",
        "\t\t# If arr[i] exceeds K\n",
        "\t\telif arr[i] > K:\n",
        "\t\t\treturn i\n",
        "\t\t\t\n",
        "\t# If all array elements are smaller\n",
        "\treturn n\n",
        "\n",
        "# Driver Code\n",
        "arr = [1, 3, 5, 6]\n",
        "n = len(arr)\n",
        "K = 5\n",
        "print(find_index(arr, n, K))\n"
      ],
      "metadata": {
        "colab": {
          "base_uri": "https://localhost:8080/"
        },
        "id": "0BPgYLCuhCkd",
        "outputId": "205eeee3-79cf-4a20-9e68-510437d5db04"
      },
      "execution_count": 45,
      "outputs": [
        {
          "output_type": "stream",
          "name": "stdout",
          "text": [
            "2\n"
          ]
        }
      ]
    },
    {
      "cell_type": "markdown",
      "source": [
        "<aside>\n",
        "💡 **Q4.** You are given a large integer represented as an integer array digits, where each digits[i] is the ith digit of the integer. The digits are ordered from most significant to least significant in left-to-right order. The large integer does not contain any leading 0's.\n",
        "\n",
        "Increment the large integer by one and return the resulting array of digits.\n",
        "\n",
        "**Example 1:**\n",
        "Input: digits = [1,2,3]\n",
        "Output: [1,2,4]\n",
        "\n",
        "**Explanation:** The array represents the integer 123.\n",
        "\n",
        "Incrementing by one gives 123 + 1 = 124.\n",
        "Thus, the result should be [1,2,4].\n",
        "\n",
        "</aside>"
      ],
      "metadata": {
        "id": "IdzIqcI4i3dN"
      }
    },
    {
      "cell_type": "code",
      "source": [
        "def plusOne(digits):\n",
        "  \"\"\"\n",
        "  :type digits: List[int]\n",
        "  :rtype: List[int]\n",
        "  \"\"\"\n",
        "  digit_length = len(digits)\n",
        "\n",
        "  i = digit_length - 1\n",
        "\n",
        "  while digits[i] == 9 and i >= 0:\n",
        "      i -= 1\n",
        "\n",
        "  if i == -1:\n",
        "      results = [0]*(digit_length + 1)\n",
        "      results[0] = 1\n",
        "      return results\n",
        "\n",
        "  results = [0]*(digit_length)\n",
        "\n",
        "  results[i] = digits[i] + 1\n",
        "\n",
        "  for j in range(i-1, -1, -1):\n",
        "      results[j] = digits[j]\n",
        "\n",
        "  return results"
      ],
      "metadata": {
        "id": "wcjImPWRh31H"
      },
      "execution_count": 47,
      "outputs": []
    },
    {
      "cell_type": "code",
      "source": [
        "plusOne(digits = [1,2,3])"
      ],
      "metadata": {
        "colab": {
          "base_uri": "https://localhost:8080/"
        },
        "id": "EEXP4EoNjPL2",
        "outputId": "c1329f25-7b65-40ee-cf46-dbfe43e780e4"
      },
      "execution_count": 48,
      "outputs": [
        {
          "output_type": "execute_result",
          "data": {
            "text/plain": [
              "[1, 2, 4]"
            ]
          },
          "metadata": {},
          "execution_count": 48
        }
      ]
    },
    {
      "cell_type": "markdown",
      "source": [
        "<aside>\n",
        "💡 **Q5.** You are given two integer arrays nums1 and nums2, sorted in non-decreasing order, and two integers m and n, representing the number of elements in nums1 and nums2 respectively.\n",
        "\n",
        "Merge nums1 and nums2 into a single array sorted in non-decreasing order.\n",
        "\n",
        "The final sorted array should not be returned by the function, but instead be stored inside the array nums1. To accommodate this, nums1 has a length of m + n, where the first m elements denote the elements that should be merged, and the last n elements are set to 0 and should be ignored. nums2 has a length of n.\n",
        "\n",
        "**Example 1:**\n",
        "Input: nums1 = [1,2,3,0,0,0], m = 3, nums2 = [2,5,6], n = 3\n",
        "Output: [1,2,2,3,5,6]\n",
        "\n",
        "**Explanation:** The arrays we are merging are [1,2,3] and [2,5,6].\n",
        "The result of the merge is [1,2,2,3,5,6] with the underlined elements coming from nums1.\n",
        "\n",
        "</aside>"
      ],
      "metadata": {
        "id": "jI8lhsQfjX_P"
      }
    },
    {
      "cell_type": "code",
      "source": [
        "# Python program to merge two sorted arrays/\n",
        "def mergeArrays(arr1, arr2, n1, n2, arr3):\n",
        "\ti = 0\n",
        "\tj = 0\n",
        "\tk = 0\n",
        "\n",
        "\t# traverse the arr1 and insert its element in arr3\n",
        "\twhile(i < n1):\n",
        "\t\tarr3[k] = arr1[i]\n",
        "\t\tk += 1\n",
        "\t\ti += 1\n",
        "\n",
        "\t# now traverse arr2 and insert in arr3\n",
        "\twhile(j < n2):\n",
        "\t\tarr3[k] = arr2[j]\n",
        "\t\tk += 1\n",
        "\t\tj += 1\n",
        "\n",
        "\t# sort the whole array arr3\n",
        "\tarr3.sort()\n",
        "\n",
        "\n",
        "# Driver code\n",
        "if __name__ == '__main__':\n",
        "\tarr1 = [1,2,3,0,0,0]\n",
        "\tn1 = 3\n",
        "\n",
        "\tarr2 = [2,5,6]\n",
        "\tn2 = 3\n",
        "\n",
        "\tarr3 = [0 for i in range(n1+n2)]\n",
        "\tmergeArrays(arr1, arr2, n1, n2, arr3)\n",
        "\n",
        "\tprint(\"Array after merging\")\n",
        "\tfor i in range(n1 + n2):\n",
        "\t\tprint(arr3[i], end=\" \")\n",
        "\n"
      ],
      "metadata": {
        "colab": {
          "base_uri": "https://localhost:8080/"
        },
        "id": "bY0trbZnjYvY",
        "outputId": "c442add5-8ad2-4145-f578-c1a79854a2b4"
      },
      "execution_count": 67,
      "outputs": [
        {
          "output_type": "stream",
          "name": "stdout",
          "text": [
            "Array after merging\n",
            "1 2 2 3 5 6 "
          ]
        }
      ]
    },
    {
      "cell_type": "markdown",
      "source": [
        "<aside>\n",
        "💡 **Q6.** Given an integer array nums, return true if any value appears at least twice in the array, and return false if every element is distinct.\n",
        "\n",
        "**Example 1:**\n",
        "Input: nums = [1,2,3,1]\n",
        "\n",
        "Output: true\n",
        "\n",
        "</aside>"
      ],
      "metadata": {
        "id": "Wb9_ZIXMnHdC"
      }
    },
    {
      "cell_type": "code",
      "source": [
        "def containsDuplicate(nums: list[int]) -> bool:\n",
        "  for i in range(len(nums)):\n",
        "    for j in range(0,i):\n",
        "      if nums[i]== nums[j]:\n",
        "        return True\n",
        "  return False"
      ],
      "metadata": {
        "id": "4O6HQqeYnNmM"
      },
      "execution_count": 68,
      "outputs": []
    },
    {
      "cell_type": "code",
      "source": [
        "containsDuplicate(nums = [1,2,3,1])"
      ],
      "metadata": {
        "colab": {
          "base_uri": "https://localhost:8080/"
        },
        "id": "UTZHXDCinpau",
        "outputId": "3ddb8dc7-3d32-408d-9707-844fd0a428e0"
      },
      "execution_count": 69,
      "outputs": [
        {
          "output_type": "execute_result",
          "data": {
            "text/plain": [
              "True"
            ]
          },
          "metadata": {},
          "execution_count": 69
        }
      ]
    },
    {
      "cell_type": "markdown",
      "source": [
        "<aside>\n",
        "💡 **Q7.** Given an integer array nums, move all 0's to the end of it while maintaining the relative order of the nonzero elements.\n",
        "\n",
        "Note that you must do this in-place without making a copy of the array.\n",
        "\n",
        "**Example 1:**\n",
        "Input: nums = [0,1,0,3,12]\n",
        "Output: [1,3,12,0,0]\n",
        "\n",
        "</aside>"
      ],
      "metadata": {
        "id": "z-2cxZNFnz0M"
      }
    },
    {
      "cell_type": "code",
      "source": [
        "def pushZerosToEnd(arr, n):\n",
        "\tcount = 0 # Count of non-zero elements\n",
        "\t\n",
        "\t# Traverse the array. If element\n",
        "\t# encountered is non-zero, then\n",
        "\t# replace the element at index\n",
        "\t# 'count' with this element\n",
        "\tfor i in range(n):\n",
        "\t\tif arr[i] != 0:\n",
        "\t\t\t\n",
        "\t\t\t# here count is incremented\n",
        "\t\t\tarr[count] = arr[i]\n",
        "\t\t\tcount+=1\n",
        "\t\n",
        "\t# Now all non-zero elements have been\n",
        "\t# shifted to front and 'count' is set\n",
        "\t# as index of first 0. Make all\n",
        "\t# elements 0 from count to end.\n",
        "\twhile count < n:\n",
        "\t\tarr[count] = 0\n",
        "\t\tcount += 1\n",
        "\t\t\n",
        "# Driver code\n",
        "arr = [1, 9, 8, 4, 0, 0, 2, 7, 0, 6, 0, 9]\n",
        "n = len(arr)\n",
        "pushZerosToEnd(arr, n)\n",
        "print(\"Array after pushing all zeros to end of array:\")\n",
        "print(arr)\n",
        "\n",
        "# This code is contributed by \"Abhishek Sharma 44\"\n"
      ],
      "metadata": {
        "colab": {
          "base_uri": "https://localhost:8080/"
        },
        "id": "qTriXOB9n0nP",
        "outputId": "8f10772c-5bd6-4d00-c378-700fd8ae3053"
      },
      "execution_count": 70,
      "outputs": [
        {
          "output_type": "stream",
          "name": "stdout",
          "text": [
            "Array after pushing all zeros to end of array:\n",
            "[1, 9, 8, 4, 2, 7, 6, 9, 0, 0, 0, 0]\n"
          ]
        }
      ]
    },
    {
      "cell_type": "markdown",
      "source": [
        "<aside>\n",
        "💡 **Q8.** You have a set of integers s, which originally contains all the numbers from 1 to n. Unfortunately, due to some error, one of the numbers in s got duplicated to another number in the set, which results in repetition of one number and loss of another number.\n",
        "\n",
        "You are given an integer array nums representing the data status of this set after the error.\n",
        "\n",
        "Find the number that occurs twice and the number that is missing and return them in the form of an array.\n",
        "\n",
        "**Example 1:**\n",
        "Input: nums = [1,2,2,4]\n",
        "Output: [2,3]\n",
        "\n",
        "</aside>"
      ],
      "metadata": {
        "id": "Ns4By5ZhoIBF"
      }
    },
    {
      "cell_type": "code",
      "source": [
        "def findErrorNums(nums: list[int]) -> list[int]:\n",
        "  N, dupe = len(nums), 0\n",
        "  seen, sumN = [0] * (N+1), N * (N+1) // 2\n",
        "  for num in nums:\n",
        "      sumN -= num\n",
        "      if seen[num]: dupe = num\n",
        "      seen[num] += 1\n",
        "  return [dupe, sumN + dupe]"
      ],
      "metadata": {
        "id": "vxLbliHHoInd"
      },
      "execution_count": 73,
      "outputs": []
    },
    {
      "cell_type": "code",
      "source": [
        "findErrorNums(nums = [1,2,2,4])"
      ],
      "metadata": {
        "colab": {
          "base_uri": "https://localhost:8080/"
        },
        "id": "yVVwjKvIouea",
        "outputId": "06526514-5e34-41b9-e2a4-aaefee62b37f"
      },
      "execution_count": 74,
      "outputs": [
        {
          "output_type": "execute_result",
          "data": {
            "text/plain": [
              "[2, 3]"
            ]
          },
          "metadata": {},
          "execution_count": 74
        }
      ]
    }
  ]
}