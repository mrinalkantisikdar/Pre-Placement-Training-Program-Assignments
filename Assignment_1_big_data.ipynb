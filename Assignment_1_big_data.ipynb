{
  "nbformat": 4,
  "nbformat_minor": 0,
  "metadata": {
    "colab": {
      "provenance": []
    },
    "kernelspec": {
      "name": "python3",
      "display_name": "Python 3"
    },
    "language_info": {
      "name": "python"
    }
  },
  "cells": [
    {
      "cell_type": "markdown",
      "source": [
        "1. Write a Python program to check if a given string is an anagram.\n",
        "\n"
      ],
      "metadata": {
        "id": "HJd0k1ORtpq7"
      }
    },
    {
      "cell_type": "code",
      "source": [
        "# function to check if two strings are\n",
        "# anagram or not\n",
        "def check(s1, s2):\n",
        "\n",
        "\t# the sorted strings are checked\n",
        "\tif(sorted(s1)== sorted(s2)):\n",
        "\t\tprint(\"The strings are anagrams.\")\n",
        "\telse:\n",
        "\t\tprint(\"The strings aren't anagrams.\")\n",
        "\n",
        "# driver code\n",
        "s1 =\"listen\"\n",
        "s2 =\"silent\"\n",
        "check(s1, s2)\n"
      ],
      "metadata": {
        "colab": {
          "base_uri": "https://localhost:8080/"
        },
        "id": "LBrYlvCCuE6h",
        "outputId": "15be854f-ab6f-4049-d9af-c4e708328420"
      },
      "execution_count": 1,
      "outputs": [
        {
          "output_type": "stream",
          "name": "stdout",
          "text": [
            "The strings are anagrams.\n"
          ]
        }
      ]
    },
    {
      "cell_type": "markdown",
      "source": [
        "2. Write a Python program to find the maximum and minimum values in a\n",
        "dictionary."
      ],
      "metadata": {
        "id": "Vm2Jx6H_tvC5"
      }
    },
    {
      "cell_type": "code",
      "source": [
        "# Python code to find key with Maximum value in Dictionary\n",
        "\n",
        "# Dictionary Initialization\n",
        "Tv = {'BreakingBad':100, 'GameOfThrones':1292, 'TMKUC' : 88}\n",
        "\n",
        "Keymax = max(zip(Tv.values(), Tv.keys()))[1]\n",
        "print(Keymax)\n"
      ],
      "metadata": {
        "colab": {
          "base_uri": "https://localhost:8080/"
        },
        "id": "TvJjvQJbuHT4",
        "outputId": "6f779699-bea0-463b-ef13-61df850a6626"
      },
      "execution_count": 2,
      "outputs": [
        {
          "output_type": "stream",
          "name": "stdout",
          "text": [
            "GameOfThrones\n"
          ]
        }
      ]
    },
    {
      "cell_type": "markdown",
      "source": [
        "3. Write a Python program to find the average of a list of numbers."
      ],
      "metadata": {
        "id": "MaJdvC__txeV"
      }
    },
    {
      "cell_type": "code",
      "source": [
        "# Python program to get average of a list\n",
        "def Average(lst):\n",
        "\treturn sum(lst) / len(lst)\n",
        "\n",
        "# Driver Code\n",
        "lst = [15, 9, 55, 41, 35, 20, 62, 49]\n",
        "average = Average(lst)\n",
        "\n",
        "# Printing average of the list\n",
        "print(\"Average of the list =\", round(average, 2))\n"
      ],
      "metadata": {
        "colab": {
          "base_uri": "https://localhost:8080/"
        },
        "id": "rFivMpICuVeW",
        "outputId": "f54a0b38-0744-4cc4-eb21-da2c1891efb2"
      },
      "execution_count": 3,
      "outputs": [
        {
          "output_type": "stream",
          "name": "stdout",
          "text": [
            "Average of the list = 35.75\n"
          ]
        }
      ]
    },
    {
      "cell_type": "markdown",
      "source": [
        "4. Write a Python program to remove all vowels from a string."
      ],
      "metadata": {
        "id": "7is82XFDt1Is"
      }
    },
    {
      "cell_type": "code",
      "source": [
        "# Python program to remove vowels from a string\n",
        "# Function to remove vowels\n",
        "def rem_vowel(string):\n",
        "\tvowels = ['a','e','i','o','u']\n",
        "\tresult = [letter for letter in string if letter.lower() not in vowels]\n",
        "\tresult = ''.join(result)\n",
        "\tprint(result)\n",
        "\n",
        "# Driver program\n",
        "string = \"GeeksforGeeks - A Computer Science Portal for Geeks\"\n",
        "rem_vowel(string)\n",
        "string = \"Loving Python LOL\"\n",
        "rem_vowel(string)\n"
      ],
      "metadata": {
        "colab": {
          "base_uri": "https://localhost:8080/"
        },
        "id": "RbhmV4PtudGL",
        "outputId": "11428123-b61f-4269-e432-1112efe7d11d"
      },
      "execution_count": 4,
      "outputs": [
        {
          "output_type": "stream",
          "name": "stdout",
          "text": [
            "GksfrGks -  Cmptr Scnc Prtl fr Gks\n",
            "Lvng Pythn LL\n"
          ]
        }
      ]
    },
    {
      "cell_type": "markdown",
      "source": [
        "5. Write a Python function to calculate the factorial of a number using recursion."
      ],
      "metadata": {
        "id": "64F3NumYt3ex"
      }
    },
    {
      "cell_type": "code",
      "source": [
        "# Python 3 program to find\n",
        "# factorial of given number\n",
        "def factorial(n):\n",
        "\n",
        "\t# Checking the number\n",
        "\t# is 1 or 0 then\n",
        "\t# return 1\n",
        "\t# other wise return\n",
        "\t# factorial\n",
        "\tif (n==1 or n==0):\n",
        "\n",
        "\t\treturn 1\n",
        "\n",
        "\telse:\n",
        "\n",
        "\t\treturn (n * factorial(n - 1))\n",
        "\n",
        "# Driver Code\n",
        "num = 5;\n",
        "print(\"number : \",num)\n",
        "print(\"Factorial : \",factorial(num))\n"
      ],
      "metadata": {
        "colab": {
          "base_uri": "https://localhost:8080/"
        },
        "id": "m1o0YKNmulmr",
        "outputId": "c2240b2f-91a6-4b83-81c7-d6399c4b76c7"
      },
      "execution_count": 5,
      "outputs": [
        {
          "output_type": "stream",
          "name": "stdout",
          "text": [
            "number :  5\n",
            "Factorial :  120\n"
          ]
        }
      ]
    },
    {
      "cell_type": "markdown",
      "source": [
        "6. Write a Python program to merge two unsorted lists into a single sorted list\n",
        "using the merge sort algorithm."
      ],
      "metadata": {
        "id": "4XYnpHVMt5AD"
      }
    },
    {
      "cell_type": "code",
      "source": [
        "# Python program to merge and sort two list\n",
        "def Merge(list1, list2):\n",
        "\tfinal_list = list1 + list2\n",
        "\tfinal_list.sort()\n",
        "\treturn(final_list)\n",
        "\n",
        "# Driver Code\n",
        "list1 = [25, 18, 9, 41, 26, 31]\n",
        "list2 = [25, 45, 3, 32, 15, 20]\n",
        "print(Merge(list1, list2))\n"
      ],
      "metadata": {
        "colab": {
          "base_uri": "https://localhost:8080/"
        },
        "id": "IHrhiXjqusIn",
        "outputId": "fe8edb6e-b62a-47e6-d6a6-756ab070557d"
      },
      "execution_count": 6,
      "outputs": [
        {
          "output_type": "stream",
          "name": "stdout",
          "text": [
            "[3, 9, 15, 18, 20, 25, 25, 26, 31, 32, 41, 45]\n"
          ]
        }
      ]
    },
    {
      "cell_type": "markdown",
      "source": [
        "7. Write a Python program to find the GCD (Greatest Common Divisor) of two\n",
        "numbers."
      ],
      "metadata": {
        "id": "hq0PMdW-t6mO"
      }
    },
    {
      "cell_type": "code",
      "source": [
        "# Python code to demonstrate naive\n",
        "# method to compute gcd ( recursion )\n",
        "\n",
        "\n",
        "def hcf(a, b):\n",
        "\tif(b == 0):\n",
        "\t\treturn a\n",
        "\telse:\n",
        "\t\treturn hcf(b, a % b)\n",
        "\n",
        "a = 60\n",
        "b = 48\n",
        "\n",
        "# prints 12\n",
        "print(\"The gcd of 60 and 48 is : \", end=\"\")\n",
        "print(hcf(60, 48))\n"
      ],
      "metadata": {
        "colab": {
          "base_uri": "https://localhost:8080/"
        },
        "id": "g2fbWAIjuze8",
        "outputId": "c0ca5322-88fc-4ac4-c1fd-7c1d861af0fb"
      },
      "execution_count": 7,
      "outputs": [
        {
          "output_type": "stream",
          "name": "stdout",
          "text": [
            "The gcd of 60 and 48 is : 12\n"
          ]
        }
      ]
    },
    {
      "cell_type": "markdown",
      "source": [
        "8. Write a Python program to find the second-largest element in a list."
      ],
      "metadata": {
        "id": "nkmRUolHt8kQ"
      }
    },
    {
      "cell_type": "code",
      "source": [
        "# Python program to find second largest\n",
        "# number in a list\n",
        "\n",
        "# list of numbers - length of\n",
        "# list should be at least 2\n",
        "list1 = [10, 20, 4, 45, 99]\n",
        "\n",
        "mx = max(list1[0], list1[1])\n",
        "secondmax = min(list1[0], list1[1])\n",
        "n = len(list1)\n",
        "for i in range(2,n):\n",
        "\tif list1[i] > mx:\n",
        "\t\tsecondmax = mx\n",
        "\t\tmx = list1[i]\n",
        "\telif list1[i] > secondmax and \\\n",
        "\t\tmx != list1[i]:\n",
        "\t\tsecondmax = list1[i]\n",
        "\telif mx == secondmax and \\\n",
        "\t\tsecondmax != list1[i]:\n",
        "\t\tsecondmax = list1[i]\n",
        "\n",
        "print(\"Second highest number is : \",\\\n",
        "\tstr(secondmax))\n"
      ],
      "metadata": {
        "colab": {
          "base_uri": "https://localhost:8080/"
        },
        "id": "2uR3JPj6u4GS",
        "outputId": "546b0c4d-7ae9-43e4-8528-c5fa3a848f31"
      },
      "execution_count": 8,
      "outputs": [
        {
          "output_type": "stream",
          "name": "stdout",
          "text": [
            "Second highest number is :  45\n"
          ]
        }
      ]
    },
    {
      "cell_type": "markdown",
      "source": [
        "9. Write a Python program to find the longest common subsequence between two\n",
        "strings using dynamic programming."
      ],
      "metadata": {
        "id": "4_ur4qbOt-fI"
      }
    },
    {
      "cell_type": "code",
      "execution_count": 9,
      "metadata": {
        "colab": {
          "base_uri": "https://localhost:8080/"
        },
        "id": "cplbZCh2ti_o",
        "outputId": "662af4d4-235e-41ab-84f4-d28cddb0ffc1"
      },
      "outputs": [
        {
          "output_type": "stream",
          "name": "stdout",
          "text": [
            "Length of LCS is  4\n"
          ]
        }
      ],
      "source": [
        "# Dynamic Programming implementation of LCS problem\n",
        "\n",
        "def lcs(X, Y):\n",
        "\t# find the length of the strings\n",
        "\tm = len(X)\n",
        "\tn = len(Y)\n",
        "\n",
        "\t# declaring the array for storing the dp values\n",
        "\tL = [[None]*(n + 1) for i in range(m + 1)]\n",
        "\n",
        "\t\"\"\"Following steps build L[m + 1][n + 1] in bottom up fashion\n",
        "\tNote: L[i][j] contains length of LCS of X[0..i-1]\n",
        "\tand Y[0..j-1]\"\"\"\n",
        "\tfor i in range(m + 1):\n",
        "\t\tfor j in range(n + 1):\n",
        "\t\t\tif i == 0 or j == 0 :\n",
        "\t\t\t\tL[i][j] = 0\n",
        "\t\t\telif X[i-1] == Y[j-1]:\n",
        "\t\t\t\tL[i][j] = L[i-1][j-1]+1\n",
        "\t\t\telse:\n",
        "\t\t\t\tL[i][j] = max(L[i-1][j], L[i][j-1])\n",
        "\n",
        "\t# L[m][n] contains the length of LCS of X[0..n-1] & Y[0..m-1]\n",
        "\treturn L[m][n]\n",
        "# end of function lcs\n",
        "\n",
        "\n",
        "# Driver program to test the above function\n",
        "X = \"AGGTAB\"\n",
        "Y = \"GXTXAYB\"\n",
        "print(\"Length of LCS is \", lcs(X, Y))\n",
        "\n",
        "\n"
      ]
    },
    {
      "cell_type": "code",
      "source": [],
      "metadata": {
        "id": "bgolDksuvDxE"
      },
      "execution_count": null,
      "outputs": []
    }
  ]
}