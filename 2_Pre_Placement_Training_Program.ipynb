{
  "nbformat": 4,
  "nbformat_minor": 0,
  "metadata": {
    "colab": {
      "provenance": []
    },
    "kernelspec": {
      "name": "python3",
      "display_name": "Python 3"
    },
    "language_info": {
      "name": "python"
    }
  },
  "cells": [
    {
      "cell_type": "markdown",
      "source": [
        "<aside>\n",
        "💡 **Question 1**\n",
        "Given an integer array nums of 2n integers, group these integers into n pairs (a1, b1), (a2, b2),..., (an, bn) such that the sum of min(ai, bi) for all i is maximized. Return the maximized sum.\n",
        "\n",
        "**Example 1:**\n",
        "Input: nums = [1,4,3,2]\n",
        "Output: 4\n",
        "\n",
        "**Explanation:** All possible pairings (ignoring the ordering of elements) are:\n",
        "\n",
        "1. (1, 4), (2, 3) -> min(1, 4) + min(2, 3) = 1 + 2 = 3\n",
        "2. (1, 3), (2, 4) -> min(1, 3) + min(2, 4) = 1 + 2 = 3\n",
        "3. (1, 2), (3, 4) -> min(1, 2) + min(3, 4) = 1 + 3 = 4\n",
        "So the maximum possible sum is 4\n",
        "</aside>"
      ],
      "metadata": {
        "id": "LVpnZSvz2thG"
      }
    },
    {
      "cell_type": "code",
      "execution_count": 1,
      "metadata": {
        "id": "H4rrKjYn2oTo"
      },
      "outputs": [],
      "source": [
        "def arrayPairSum(nums: list[int]) -> int:\n",
        "  nums.sort()\n",
        "  r=0\n",
        "  for i in range(0,len(nums),2):\n",
        "      r+=min(nums[i],nums[i+1])\n",
        "  return(r)"
      ]
    },
    {
      "cell_type": "code",
      "source": [
        "arrayPairSum(nums = [1,4,3,2])"
      ],
      "metadata": {
        "colab": {
          "base_uri": "https://localhost:8080/"
        },
        "id": "lSMBvdQT3IW8",
        "outputId": "94473695-a6b1-4c13-c283-95e0fc3fddf7"
      },
      "execution_count": 2,
      "outputs": [
        {
          "output_type": "execute_result",
          "data": {
            "text/plain": [
              "4"
            ]
          },
          "metadata": {},
          "execution_count": 2
        }
      ]
    },
    {
      "cell_type": "markdown",
      "source": [
        "Question 2\n",
        "Alice has n candies, where the ith candy is of type candyType[i]. Alice noticed that she started to gain weight, so she visited a doctor. \n",
        "\n",
        "The doctor advised Alice to only eat n / 2 of the candies she has (n is always even). Alice likes her candies very much, and she wants to eat the maximum number of different types of candies while still following the doctor's advice. \n",
        "\n",
        "Given the integer array candyType of length n, return the maximum number of different types of candies she can eat if she only eats n / 2 of them.\n",
        "\n",
        "Example 1:\n",
        "Input: candyType = [1,1,2,2,3,3]\n",
        "Output: 3\n",
        "\n",
        "Explanation: Alice can only eat 6 / 2 = 3 candies. Since there are only 3 types, she can eat one of each type."
      ],
      "metadata": {
        "id": "UikiXbrm3Och"
      }
    },
    {
      "cell_type": "code",
      "source": [
        "def distributeCandies(candyType: list[int]) -> int:\n",
        "  return min(len(candyType) >> 1, len(set(candyType)))"
      ],
      "metadata": {
        "id": "szmdwZgg3Rmf"
      },
      "execution_count": 4,
      "outputs": []
    },
    {
      "cell_type": "code",
      "source": [
        "distributeCandies(candyType = [1,1,2,2,3,3])"
      ],
      "metadata": {
        "colab": {
          "base_uri": "https://localhost:8080/"
        },
        "id": "9ZI17xEY36Ep",
        "outputId": "807974e2-55eb-4637-a971-da9a32732e15"
      },
      "execution_count": 5,
      "outputs": [
        {
          "output_type": "execute_result",
          "data": {
            "text/plain": [
              "3"
            ]
          },
          "metadata": {},
          "execution_count": 5
        }
      ]
    },
    {
      "cell_type": "markdown",
      "source": [
        "Question 3\n",
        "We define a harmonious array as an array where the difference between its maximum value\n",
        "and its minimum value is exactly 1.\n",
        "\n",
        "Given an integer array nums, return the length of its longest harmonious subsequence\n",
        "among all its possible subsequences.\n",
        "\n",
        "A subsequence of an array is a sequence that can be derived from the array by deleting some or no elements without changing the order of the remaining elements.\n",
        "\n",
        "Example 1:\n",
        "Input: nums = [1,3,2,2,5,2,3,7]\n",
        "Output: 5\n",
        "\n",
        "Explanation: The longest harmonious subsequence is [3,2,2,2,3]."
      ],
      "metadata": {
        "id": "whqbsb1Y4Czm"
      }
    },
    {
      "cell_type": "code",
      "source": [
        "def findLHS(nums):\n",
        "  \"\"\"\n",
        "  :type nums: List[int]\n",
        "  :rtype: int\n",
        "  \"\"\"\n",
        "  numsLen, left, result = len(nums), 0, 0\n",
        "  nums = sorted(nums)\n",
        "  for i in range(numsLen):\n",
        "      while left < i and nums[i] - nums[left] > 1:\n",
        "          left += 1\n",
        "      if nums[i] - nums[left] == 1:\n",
        "          result = max(i - left + 1, result)\n",
        "  return result"
      ],
      "metadata": {
        "id": "1lp33TqO4BuR"
      },
      "execution_count": 8,
      "outputs": []
    },
    {
      "cell_type": "code",
      "source": [
        "findLHS(nums = [1,3,2,2,5,2,3,7])"
      ],
      "metadata": {
        "colab": {
          "base_uri": "https://localhost:8080/"
        },
        "id": "ROE7_-Mp4kv4",
        "outputId": "6f125352-029c-4c25-cf5f-192d2de88510"
      },
      "execution_count": 9,
      "outputs": [
        {
          "output_type": "execute_result",
          "data": {
            "text/plain": [
              "5"
            ]
          },
          "metadata": {},
          "execution_count": 9
        }
      ]
    },
    {
      "cell_type": "markdown",
      "source": [
        "Question 4\n",
        "You have a long flowerbed in which some of the plots are planted, and some are not.\n",
        "However, flowers cannot be planted in adjacent plots.\n",
        "Given an integer array flowerbed containing 0's and 1's, where 0 means empty and 1 means not empty, and an integer n, return true if n new flowers can be planted in the flowerbed without violating the no-adjacent-flowers rule and false otherwise.\n",
        "\n",
        "Example 1:\n",
        "Input: flowerbed = [1,0,0,0,1], n = 1\n",
        "Output: true"
      ],
      "metadata": {
        "id": "jdhfhgkx4oxX"
      }
    },
    {
      "cell_type": "code",
      "source": [
        "def canPlaceFlowers(flowerbed: list[int], n: int) -> bool:\n",
        "    if n ==0: return True\n",
        "    flowerbed = [0] + flowerbed + [0]\n",
        "    size = len(flowerbed)\n",
        "    for i in range(1, size-1):\n",
        "        if flowerbed[i]:\n",
        "            continue\n",
        "        elif flowerbed[i - 1] == flowerbed[i + 1] == 0:\n",
        "            n-=1\n",
        "            flowerbed[i] = 1\n",
        "            if n == 0:return True\n",
        "    return False"
      ],
      "metadata": {
        "id": "doNnh6Eb4rLI"
      },
      "execution_count": 11,
      "outputs": []
    },
    {
      "cell_type": "code",
      "source": [
        "canPlaceFlowers(flowerbed = [1,0,0,0,1], n = 1)"
      ],
      "metadata": {
        "colab": {
          "base_uri": "https://localhost:8080/"
        },
        "id": "UtE2-3tO5NoY",
        "outputId": "59efefe2-3f1d-430d-8da5-c7597be1d7da"
      },
      "execution_count": 13,
      "outputs": [
        {
          "output_type": "execute_result",
          "data": {
            "text/plain": [
              "True"
            ]
          },
          "metadata": {},
          "execution_count": 13
        }
      ]
    },
    {
      "cell_type": "markdown",
      "source": [
        "Question 5\n",
        "Given an integer array nums, find three numbers whose product is maximum and return the maximum product.\n",
        "\n",
        "Example 1:\n",
        "Input: nums = [1,2,3]\n",
        "Output: 6"
      ],
      "metadata": {
        "id": "02u8nSFE5a03"
      }
    },
    {
      "cell_type": "code",
      "source": [
        "import sys\n",
        "def maxProduct(arr, n):\n",
        "\n",
        "\t# if size is less than 3,\n",
        "\t# no triplet exists\n",
        "\tif n < 3:\n",
        "\t\treturn -1\n",
        "\n",
        "\t# will contain max product\n",
        "\tmax_product = -(sys.maxsize - 1)\n",
        "\t\n",
        "\tfor i in range(0, n - 2):\n",
        "\t\tfor j in range(i + 1, n - 1):\n",
        "\t\t\tfor k in range(j + 1, n):\n",
        "\t\t\t\tmax_product = max(\n",
        "\t\t\t\t\tmax_product, arr[i]\n",
        "\t\t\t\t\t* arr[j] * arr[k])\n",
        "\n",
        "\treturn max_product\n",
        "\n",
        "# Driver Program\n",
        "arr = [10, 3, 5, 6, 20]\n",
        "n = len(arr)\n",
        "\n",
        "max = maxProduct(arr, n)\n",
        "\n",
        "if max == -1:\n",
        "\tprint(\"No Triplet Exits\")\n",
        "else:\n",
        "\tprint(\"Maximum product is\", max)"
      ],
      "metadata": {
        "colab": {
          "base_uri": "https://localhost:8080/"
        },
        "id": "8FCRWgr15eWr",
        "outputId": "f8ec4fc8-f252-4589-e348-7dec8237e533"
      },
      "execution_count": 15,
      "outputs": [
        {
          "output_type": "stream",
          "name": "stdout",
          "text": [
            "Maximum product is 1200\n"
          ]
        }
      ]
    },
    {
      "cell_type": "markdown",
      "source": [
        "Question 6\n",
        "Given an array of integers nums which is sorted in ascending order, and an integer target,\n",
        "write a function to search target in nums. If target exists, then return its index. Otherwise,\n",
        "return -1.\n",
        "\n",
        "You must write an algorithm with O(log n) runtime complexity.\n",
        "\n",
        "Input: nums = [-1,0,3,5,9,12], target = 9\n",
        "Output: 4\n",
        "\n",
        "Explanation: 9 exists in nums and its index is 4"
      ],
      "metadata": {
        "id": "qN1vkKP659gA"
      }
    },
    {
      "cell_type": "code",
      "source": [
        "def targetFinder(nums,target):\n",
        "  if target in nums:\n",
        "    return nums.index(target)\n",
        "  else:\n",
        "    return -1"
      ],
      "metadata": {
        "id": "5WXuHxUL6BTZ"
      },
      "execution_count": 16,
      "outputs": []
    },
    {
      "cell_type": "code",
      "source": [
        "targetFinder(nums = [-1,0,3,5,9,12], target = 9)"
      ],
      "metadata": {
        "colab": {
          "base_uri": "https://localhost:8080/"
        },
        "id": "V_x29M576h7a",
        "outputId": "a65848b3-033c-48f5-b2dc-5f82c20daf7b"
      },
      "execution_count": 17,
      "outputs": [
        {
          "output_type": "execute_result",
          "data": {
            "text/plain": [
              "4"
            ]
          },
          "metadata": {},
          "execution_count": 17
        }
      ]
    },
    {
      "cell_type": "markdown",
      "source": [
        "Question 7\n",
        "An array is monotonic if it is either monotone increasing or monotone decreasing.\n",
        "\n",
        "An array nums is monotone increasing if for all i <= j, nums[i] <= nums[j]. An array nums is\n",
        "monotone decreasing if for all i <= j, nums[i] >= nums[j].\n",
        "\n",
        "Given an integer array nums, return true if the given array is monotonic, or false otherwise.\n",
        "\n",
        "Example 1:\n",
        "Input: nums = [1,2,2,3]\n",
        "Output: true"
      ],
      "metadata": {
        "id": "WpmrX8As6pB2"
      }
    },
    {
      "cell_type": "code",
      "source": [
        "# Python program for above approach\n",
        "\n",
        "# Function to check array is monotonic\n",
        "def check(arr):\n",
        "\tN = len(arr)\n",
        "\tinc = True\n",
        "\tdec = True\n",
        "\t\n",
        "\t# Loop to check if array is increasing\n",
        "\tfor i in range(0, N-1):\n",
        "\t\n",
        "\t\t# To check if array is not increasing\n",
        "\t\tif arr[i] > arr[i+1]:\n",
        "\t\t\tinc = False\n",
        "\n",
        "\t# Loop to check if array is decreasing\n",
        "\tfor i in range(0, N-1):\n",
        "\t\n",
        "\t# To check if array is not decreasing\n",
        "\t\tif arr[i] < arr[i+1]:\n",
        "\t\t\tdec = False\n",
        "\n",
        "\t# Pick one whether inc or dec\n",
        "\treturn inc or dec\n",
        "\n",
        "# Driver code\n",
        "if __name__ == \"__main__\":\n",
        "\tarr = [1, 2, 3, 3]\n",
        "\n",
        "\t# Function call\n",
        "\tans = check(arr)\n",
        "\tif ans == True:\n",
        "\t\tprint(\"Yes\")\n",
        "\telse:\n",
        "\t\tprint(\"No\")\n"
      ],
      "metadata": {
        "colab": {
          "base_uri": "https://localhost:8080/"
        },
        "id": "RLGesf9G6rqJ",
        "outputId": "d3551b7f-af5e-4a7f-88af-ab06ef97e504"
      },
      "execution_count": 18,
      "outputs": [
        {
          "output_type": "stream",
          "name": "stdout",
          "text": [
            "Yes\n"
          ]
        }
      ]
    },
    {
      "cell_type": "markdown",
      "source": [
        "Question 8\n",
        "You are given an integer array nums and an integer k.\n",
        "\n",
        "In one operation, you can choose any index i where 0 <= i < nums.length and change nums[i] to nums[i] + x where x is an integer from the range [-k, k]. You can apply this operation at most once for each index i.\n",
        "\n",
        "The score of nums is the difference between the maximum and minimum elements in nums.\n",
        "\n",
        "Return the minimum score of nums after applying the mentioned operation at most once for each index in it.\n",
        "\n",
        "Example 1:\n",
        "Input: nums = [1], k = 0\n",
        "Output: 0\n",
        "\n",
        "Explanation: The score is max(nums) - min(nums) = 1 - 1 = 0."
      ],
      "metadata": {
        "id": "_Jx_WpXp63j4"
      }
    },
    {
      "cell_type": "code",
      "source": [
        "def minDiff(arr,n,k):\n",
        "    result = +2147483647\n",
        "  \n",
        "    # Sorting the array.\n",
        "    arr.sort()\n",
        "  \n",
        "    # Find minimum value among\n",
        "    # all K size subarray.\n",
        "    if len(arr)==1:\n",
        "      result=0\n",
        "      return result\n",
        "    else:\n",
        "      for i in range(n-k+1):\n",
        "          result = int(min(result, arr[i+k-1] - arr[i]))\n",
        "    \n",
        "      return result\n",
        " \n",
        "# Driver code\n",
        " \n",
        "arr= [1]\n",
        "n =len(arr)\n",
        "k = 0\n",
        "  \n",
        "print(minDiff(arr, n, k))"
      ],
      "metadata": {
        "colab": {
          "base_uri": "https://localhost:8080/"
        },
        "id": "-d8fE94u65vW",
        "outputId": "d6cf5976-42a7-4691-b37e-f5874c0ab087"
      },
      "execution_count": 25,
      "outputs": [
        {
          "output_type": "stream",
          "name": "stdout",
          "text": [
            "0\n"
          ]
        }
      ]
    },
    {
      "cell_type": "code",
      "source": [],
      "metadata": {
        "id": "lMVcwWxs7FJ0"
      },
      "execution_count": null,
      "outputs": []
    }
  ]
}