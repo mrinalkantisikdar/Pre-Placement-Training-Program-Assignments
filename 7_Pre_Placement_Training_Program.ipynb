{
  "nbformat": 4,
  "nbformat_minor": 0,
  "metadata": {
    "colab": {
      "provenance": []
    },
    "kernelspec": {
      "name": "python3",
      "display_name": "Python 3"
    },
    "language_info": {
      "name": "python"
    }
  },
  "cells": [
    {
      "cell_type": "markdown",
      "source": [
        "<aside>\n",
        "💡 **Question 1**\n",
        "\n",
        "Given two strings s and t, *determine if they are isomorphic*.\n",
        "\n",
        "Two strings s and t are isomorphic if the characters in s can be replaced to get t.\n",
        "\n",
        "All occurrences of a character must be replaced with another character while preserving the order of characters. No two characters may map to the same character, but a character may map to itself.\n",
        "\n",
        "**Example 1:**\n",
        "\n",
        "**Input:** s = \"egg\", t = \"add\"\n",
        "\n",
        "**Output:** true\n",
        "\n",
        "</aside>"
      ],
      "metadata": {
        "id": "dklkP4DoKmkd"
      }
    },
    {
      "cell_type": "code",
      "execution_count": 3,
      "metadata": {
        "colab": {
          "base_uri": "https://localhost:8080/"
        },
        "id": "ZnPNVpt3KeFd",
        "outputId": "d528812e-ae7b-471e-e50b-bb0e65fb91f6"
      },
      "outputs": [
        {
          "output_type": "stream",
          "name": "stdout",
          "text": [
            "True\n"
          ]
        }
      ],
      "source": [
        "# Python program to check if two strings are isomorphic\n",
        "MAX_CHARS = 256\n",
        "\n",
        "# This function returns true if str1 and str2 are isomorphic\n",
        "\n",
        "\n",
        "def areIsomorphic(string1, string2):\n",
        "\tm = len(string1)\n",
        "\tn = len(string2)\n",
        "\n",
        "\t# Length of both strings must be same for one to one\n",
        "\t# correspondence\n",
        "\tif m != n:\n",
        "\t\treturn False\n",
        "\n",
        "\t# To mark visited characters in str2\n",
        "\tmarked = [False] * MAX_CHARS\n",
        "\n",
        "\t# To store mapping of every character from str1 to\n",
        "\t# that of str2. Initialize all entries of map as -1\n",
        "\tmap = [-1] * MAX_CHARS\n",
        "\n",
        "\t# Process all characters one by one\n",
        "\tfor i in range(n):\n",
        "\n",
        "\t\t# if current character of str1 is seen first\n",
        "\t\t# time in it.\n",
        "\t\tif map[ord(string1[i])] == -1:\n",
        "\n",
        "\t\t\t# if current character of st2 is already\n",
        "\t\t\t# seen, one to one mapping not possible\n",
        "\t\t\tif marked[ord(string2[i])] == True:\n",
        "\t\t\t\treturn False\n",
        "\n",
        "\t\t\t# Mark current character of str2 as visited\n",
        "\t\t\tmarked[ord(string2[i])] = True\n",
        "\n",
        "\t\t\t# Store mapping of current characters\n",
        "\t\t\tmap[ord(string1[i])] = string2[i]\n",
        "\n",
        "\t\t# If this is not first appearance of current\n",
        "\t\t# character in str1, then check if previous\n",
        "\t\t# appearance mapped to same character of str2\n",
        "\t\telif map[ord(string1[i])] != string2[i]:\n",
        "\t\t\treturn False\n",
        "\n",
        "\treturn True\n",
        "\n",
        "\n",
        "# Driver program\n",
        "print(areIsomorphic(\"egg\", \"add\"))\n",
        "\n"
      ]
    },
    {
      "cell_type": "markdown",
      "source": [
        "<aside>\n",
        "💡 **Question 2**\n",
        "\n",
        "Given a string num which represents an integer, return true *if* num *is a **strobogrammatic number***.\n",
        "\n",
        "A **strobogrammatic number** is a number that looks the same when rotated 180 degrees (looked at upside down).\n",
        "\n",
        "**Example 1:**\n",
        "\n",
        "**Input:** num = \"69\"\n",
        "\n",
        "**Output:**\n",
        "\n",
        "true\n",
        "\n",
        "</aside>"
      ],
      "metadata": {
        "id": "CHSGsvcbK4QX"
      }
    },
    {
      "cell_type": "code",
      "source": [
        "def isStrobogrammatic(num):\n",
        "\n",
        "  maps = {(\"0\", \"0\"), (\"1\", \"1\"), (\"6\", \"9\"), (\"8\", \"8\"), (\"9\", \"6\")}\n",
        "  i,j = 0, len(num) - 1\n",
        "  while i <= j:\n",
        "      if (num[i], num[j]) not in maps:\n",
        "          return False\n",
        "      i += 1\n",
        "      j -= 1\n",
        "  return True\n",
        "\n",
        "isStrobogrammatic('69')"
      ],
      "metadata": {
        "colab": {
          "base_uri": "https://localhost:8080/"
        },
        "id": "iwjdv3PiK42n",
        "outputId": "4635331f-cfe5-4efa-f689-79071c6df5bb"
      },
      "execution_count": 5,
      "outputs": [
        {
          "output_type": "execute_result",
          "data": {
            "text/plain": [
              "True"
            ]
          },
          "metadata": {},
          "execution_count": 5
        }
      ]
    },
    {
      "cell_type": "markdown",
      "source": [
        "<aside>\n",
        "💡 **Question 3**\n",
        "\n",
        "Given two non-negative integers, num1 and num2 represented as string, return *the sum of* num1 *and* num2 *as a string*.\n",
        "\n",
        "You must solve the problem without using any built-in library for handling large integers (such as BigInteger). You must also not convert the inputs to integers directly.\n",
        "\n",
        "**Example 1:**\n",
        "\n",
        "**Input:** num1 = \"11\", num2 = \"123\"\n",
        "\n",
        "**Output:**\n",
        "\n",
        "\"134\"\n",
        "\n",
        "</aside>"
      ],
      "metadata": {
        "id": "PJJVBSnLMEH7"
      }
    },
    {
      "cell_type": "code",
      "source": [
        "def addStrings(num1, num2):\n",
        "        result = \"\"\n",
        "        carry = 0\n",
        "\n",
        "        def equalizeNumberOfCharacters(num1, num2):\n",
        "            if len(num1) < len(num2):\n",
        "                while len(num1) != len(num2):\n",
        "                    num1 = \"0\" + num1\n",
        "            else:\n",
        "                while len(num2) != len(num1):\n",
        "                    num2 = \"0\" + num2\n",
        "            return [num1,num2]\n",
        "        \n",
        "        num1, num2 = equalizeNumberOfCharacters(num1, num2)\n",
        "        \n",
        "        num1Array = list(num1)\n",
        "        num2Array = list(num2)\n",
        "        \n",
        "        while len(num1Array) != 0:\n",
        "            add = int(num1Array.pop()) + int(num2Array.pop()) + int(carry)\n",
        "            carry = add // 10\n",
        "            result = str(add % 10) + result\n",
        "        \n",
        "        if carry != 0:\n",
        "            result = str(carry) + result\n",
        "        return result"
      ],
      "metadata": {
        "id": "DHv9oKCmMEqX"
      },
      "execution_count": 8,
      "outputs": []
    },
    {
      "cell_type": "code",
      "source": [
        "addStrings(num1 = \"11\", num2 = \"123\")"
      ],
      "metadata": {
        "colab": {
          "base_uri": "https://localhost:8080/",
          "height": 36
        },
        "id": "cUm8RHbSMQOW",
        "outputId": "638e83b2-d16b-47de-c7b4-ef3654e5214e"
      },
      "execution_count": 9,
      "outputs": [
        {
          "output_type": "execute_result",
          "data": {
            "text/plain": [
              "'134'"
            ],
            "application/vnd.google.colaboratory.intrinsic+json": {
              "type": "string"
            }
          },
          "metadata": {},
          "execution_count": 9
        }
      ]
    },
    {
      "cell_type": "markdown",
      "source": [
        "<aside>\n",
        "💡 **Question 4**\n",
        "\n",
        "Given a string s, reverse the order of characters in each word within a sentence while still preserving whitespace and initial word order.\n",
        "\n",
        "**Example 1:**\n",
        "\n",
        "**Input:** s = \"Let's take LeetCode contest\"\n",
        "\n",
        "**Output:** \"s'teL ekat edoCteeL tsetnoc\"\n",
        "\n",
        "</aside>"
      ],
      "metadata": {
        "id": "fIXcOjHqMqTj"
      }
    },
    {
      "cell_type": "code",
      "source": [
        "# Python3 program to reverse individual words\n",
        "# in a given string using STL list\n",
        "\n",
        "# reverses individual words of a string\n",
        "\n",
        "\n",
        "def reverseWords(string):\n",
        "\tst = list()\n",
        "\n",
        "\t# Traverse given string and push all characters\n",
        "\t# to stack until we see a space.\n",
        "\tfor i in range(len(string)):\n",
        "\t\tif string[i] != \" \":\n",
        "\t\t\tst.append(string[i])\n",
        "\n",
        "\t\t# When we see a space, we print\n",
        "\t\t# contents of stack.\n",
        "\t\telse:\n",
        "\t\t\twhile len(st) > 0:\n",
        "\t\t\t\tprint(st[-1], end=\"\")\n",
        "\t\t\t\tst.pop()\n",
        "\t\t\tprint(end=\" \")\n",
        "\n",
        "\t# Since there may not be space after\n",
        "\t# last word.\n",
        "\twhile len(st) > 0:\n",
        "\t\tprint(st[-1], end=\"\")\n",
        "\t\tst.pop()\n",
        "\n",
        "\n",
        "# Driver Code\n",
        "if __name__ == \"__main__\":\n",
        "\tstring = \"Let's take LeetCode contest\"\n",
        "\treverseWords(string)\n",
        "\n"
      ],
      "metadata": {
        "colab": {
          "base_uri": "https://localhost:8080/"
        },
        "id": "2pQc5ZGJMq8i",
        "outputId": "dc9e34d2-fbbe-4041-cd89-7501f08cd01c"
      },
      "execution_count": 11,
      "outputs": [
        {
          "output_type": "stream",
          "name": "stdout",
          "text": [
            "s'teL ekat edoCteeL tsetnoc"
          ]
        }
      ]
    },
    {
      "cell_type": "markdown",
      "source": [
        "<aside>\n",
        "💡 **Question 5**\n",
        "\n",
        "Given a string s and an integer k, reverse the first k characters for every 2k characters counting from the start of the string.\n",
        "\n",
        "If there are fewer than k characters left, reverse all of them. If there are less than 2k but greater than or equal to k characters, then reverse the first k characters and leave the other as original.\n",
        "\n",
        "**Example 1:**\n",
        "\n",
        "**Input:** s = \"abcdefg\", k = 2\n",
        "\n",
        "**Output:**\n",
        "\n",
        "\"bacdfeg\"\n",
        "\n",
        "</aside>"
      ],
      "metadata": {
        "id": "0QvDbZgGNCZy"
      }
    },
    {
      "cell_type": "code",
      "source": [
        "# Python3 implementation of the approach\n",
        "\n",
        "# Function to return the string after\n",
        "# reversing the alternate k characters\n",
        "def revAlternateK(s, k, Len):\n",
        "\ti = 0\n",
        "\t\n",
        "\twhile(i < len(s)):\n",
        "\n",
        "\t\t# If there are less than k characters\n",
        "\t\t# starting from the current position\n",
        "\t\tif (i + k > Len):\n",
        "\t\t\tbreak\n",
        "\n",
        "\t\t# Reverse first k characters\n",
        "\t\tss = s[i:i + k]\n",
        "\t\ts = s[:i]+ss[::-1]+s[i + k:]\n",
        "\t\t\n",
        "\t\t# Skip the next k characters\n",
        "\t\ti += 2 * k\n",
        "\t\n",
        "\treturn s;\n",
        "\n",
        "\n",
        "# Driver code\n",
        "\n",
        "s = \"abcdefg\"\n",
        "Len = len(s)\n",
        "k = 2\n",
        "print(revAlternateK(s, k, Len))\n",
        "\n"
      ],
      "metadata": {
        "colab": {
          "base_uri": "https://localhost:8080/"
        },
        "id": "mz-4oyTcM4z_",
        "outputId": "cd41444a-c868-4774-f2e9-9abc14f9d343"
      },
      "execution_count": 12,
      "outputs": [
        {
          "output_type": "stream",
          "name": "stdout",
          "text": [
            "bacdfeg\n"
          ]
        }
      ]
    },
    {
      "cell_type": "markdown",
      "source": [
        "<aside>\n",
        "💡 **Question 6**\n",
        "\n",
        "Given two strings s and goal, return true *if and only if* s *can become* goal *after some number of **shifts** on* s.\n",
        "\n",
        "A **shift** on s consists of moving the leftmost character of s to the rightmost position.\n",
        "\n",
        "- For example, if s = \"abcde\", then it will be \"bcdea\" after one shift.\n",
        "\n",
        "**Example 1:**\n",
        "\n",
        "**Input:** s = \"abcde\", goal = \"cdeab\"\n",
        "\n",
        "**Output:**\n",
        "\n",
        "true\n",
        "\n",
        "</aside>"
      ],
      "metadata": {
        "id": "qy4kq0kHNT5-"
      }
    },
    {
      "cell_type": "code",
      "source": [
        "# Python3 program for the above approach\n",
        "\n",
        "\n",
        "def checkString(s1, s2, indexFound, Size):\n",
        "\tfor i in range(Size):\n",
        "\n",
        "\t\t# check whether the character is equal or not\n",
        "\t\tif(s1[i] != s2[(indexFound + i) % Size]):\n",
        "\t\t\treturn False\n",
        "\n",
        "\t\t# %Size keeps (indexFound+i) in bounds,\n",
        "\t\t# since it ensures it's value is always less than Size\n",
        "\treturn True\n",
        "\n",
        "\n",
        "# driver code\n",
        "s1 = \"abcde\"\n",
        "s2 = \"cdeab\"\n",
        "\n",
        "if(len(s1) != len(s2)):\n",
        "\tprint(\"s2 is not a rotation on s1\")\n",
        "\n",
        "else:\n",
        "\n",
        "\tindexes = [] # store occurrences of the first character of s1\n",
        "\tSize = len(s1)\n",
        "\tfirstChar = s1[0]\n",
        "\tfor i in range(Size):\n",
        "\t\tif(s2[i] == firstChar):\n",
        "\t\t\tindexes.append(i)\n",
        "\n",
        "\tisRotation = False\n",
        "\n",
        "\t# check if the strings are rotation of each other\n",
        "\t# for every occurrence of firstChar in s2\n",
        "\tfor idx in indexes:\n",
        "\n",
        "\t\tisRotation = checkString(s1, s2, idx, Size)\n",
        "\n",
        "\t\tif(isRotation):\n",
        "\t\t\tbreak\n",
        "\n",
        "\tif(isRotation):\n",
        "\t\tprint(\"True\")\n",
        "\telse:\n",
        "\t\tprint(\"False\")\n",
        "\n"
      ],
      "metadata": {
        "colab": {
          "base_uri": "https://localhost:8080/"
        },
        "id": "lpXo4vZENQUY",
        "outputId": "dff357ad-0c7a-46e8-c55d-853280cc85f7"
      },
      "execution_count": 13,
      "outputs": [
        {
          "output_type": "stream",
          "name": "stdout",
          "text": [
            "True\n"
          ]
        }
      ]
    },
    {
      "cell_type": "markdown",
      "source": [
        "<aside>\n",
        "💡 **Question 7**\n",
        "\n",
        "Given two strings s and t, return true *if they are equal when both are typed into empty text editors*. '#' means a backspace character.\n",
        "\n",
        "Note that after backspacing an empty text, the text will continue empty.\n",
        "\n",
        "**Example 1:**\n",
        "\n",
        "**Input:** s = \"ab#c\", t = \"ad#c\"\n",
        "\n",
        "**Output:** true\n",
        "\n",
        "**Explanation:**\n",
        "\n",
        "Both s and t become \"ac\".\n",
        "\n",
        "</aside>"
      ],
      "metadata": {
        "id": "uMuFPYvtNxbX"
      }
    },
    {
      "cell_type": "code",
      "source": [
        "# Python implementation to Check if two strings after processing backspace character are equal or not\n",
        "\n",
        "# function to compare the two strings\n",
        "def removeBackspace(s) -> str:\n",
        "\tn = len(s)\n",
        "\t# To point at position after considering the backspaces\n",
        "\tidx = 0\n",
        "\tfor i in range(0, n):\n",
        "\t\tif(s[i] != '#'):\n",
        "\t\t\ts = s[:idx] + s[i] + s[idx+1:]\n",
        "\t\t\tidx += 1\n",
        "\t\telif(s[i] == '#' and idx >= 0):\n",
        "\t\t\tidx -= 1\n",
        "\t\t# This idx can never point at negative index position\n",
        "\t\tif(idx < 0):\n",
        "\t\t\tidx = 0\n",
        "\tans = \"\"\n",
        "\tfor i in range(0, idx):\n",
        "\t\tans += s[i]\n",
        "\treturn ans\n",
        "\n",
        "\n",
        "# Driver code\n",
        "s = \"ab#c\"\n",
        "t = \"ad#c\"\n",
        "if(removeBackspace(s) == removeBackspace(t)):\n",
        "\tprint(\"TRUE\")\n",
        "else:\n",
        "\tprint(\"FALSE\")\n"
      ],
      "metadata": {
        "colab": {
          "base_uri": "https://localhost:8080/"
        },
        "id": "GEAFHhO0Nsag",
        "outputId": "78365450-7920-43bf-b2d9-6116137eebb6"
      },
      "execution_count": 15,
      "outputs": [
        {
          "output_type": "stream",
          "name": "stdout",
          "text": [
            "TRUE\n"
          ]
        }
      ]
    },
    {
      "cell_type": "markdown",
      "source": [
        "<aside>\n",
        "💡 **Question 8**\n",
        "\n",
        "You are given an array coordinates, coordinates[i] = [x, y], where [x, y] represents the coordinate of a point. Check if these points make a straight line in the XY plane.\n",
        "\n",
        "**Example 1:**\n",
        "\n",
        "</aside>\n",
        "**Input:** coordinates = [[1,2],[2,3],[3,4],[4,5],[5,6],[6,7]]\n",
        "\n",
        "**Output:** true"
      ],
      "metadata": {
        "id": "Vv7lfp5WOC5e"
      }
    },
    {
      "cell_type": "code",
      "source": [
        "# Python3 implementation to check\n",
        "# if a straight line can be formed\n",
        "# using N points\n",
        "\n",
        "# Function to check if a straight line\n",
        "# can be formed using N points\n",
        "def isStraightLinePossible(arr, n):\n",
        "\t\n",
        "\t# First pair of point (x0, y0)\n",
        "\tx0 = arr[0][0]\n",
        "\ty0 = arr[0][1]\n",
        "\n",
        "\t# Second pair of point (x1, y1)\n",
        "\tx1 = arr[1][0]\n",
        "\ty1 = arr[1][1]\n",
        "\n",
        "\tdx = x1 - x0\n",
        "\tdy = y1 - y0\n",
        "\t\n",
        "\t# Loop to iterate over the points\n",
        "\tfor i in range(n):\n",
        "\t\tx = arr[i][0]\n",
        "\t\ty = arr[i][1]\n",
        "\t\t\n",
        "\t\tif (dx * (y - y1) != dy * (x - x1)):\n",
        "\t\t\t#print(\"NO\", end = \"\")\n",
        "\t\t\treturn False\n",
        "\n",
        "\t#print(\"YES\", end = \"\")\n",
        "\treturn True\n",
        "\n",
        "# Driver code\n",
        "\n",
        "# Array of points\n",
        "arr = [[1,2],[2,3],[3,4],[4,5],[5,6],[6,7]]\n",
        "n = 4\n",
        "\n",
        "# Function Call\n",
        "isStraightLinePossible(arr, n)\n",
        "\n",
        "\n"
      ],
      "metadata": {
        "colab": {
          "base_uri": "https://localhost:8080/"
        },
        "id": "H5GLmiDkOJFA",
        "outputId": "0b4675cb-101c-4f9b-e234-5d8d7283342b"
      },
      "execution_count": 17,
      "outputs": [
        {
          "output_type": "execute_result",
          "data": {
            "text/plain": [
              "True"
            ]
          },
          "metadata": {},
          "execution_count": 17
        }
      ]
    }
  ]
}