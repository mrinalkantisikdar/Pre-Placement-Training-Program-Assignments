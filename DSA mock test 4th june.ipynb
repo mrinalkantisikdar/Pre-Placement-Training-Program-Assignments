{
  "nbformat": 4,
  "nbformat_minor": 0,
  "metadata": {
    "colab": {
      "provenance": []
    },
    "kernelspec": {
      "name": "python3",
      "display_name": "Python 3"
    },
    "language_info": {
      "name": "python"
    }
  },
  "cells": [
    {
      "cell_type": "markdown",
      "source": [
        "Move Zeroes\n",
        "Given an integer array nums, move all 0's to the end of it while maintaining the relative order of the non-zero elements.\n",
        "\n",
        "Note that you must do this in-place without making a copy of the array.\n",
        "\n",
        "Example 1:\n",
        "Input: nums = [0,1,0,3,12]\n",
        "Output: [1,3,12,0,0]\n",
        "\n",
        "Example 2:\n",
        "Input: nums = [0]\n",
        "Output: [0]\n",
        "\n",
        "Constraints:\n",
        "a. 1 <= nums.length <= 10^4\n",
        "b. -2^31 <= nums[i] <= 2^31 - 1\n",
        "\n",
        "Note: Create a GitHub file for the solution and add the file link the the answer section below."
      ],
      "metadata": {
        "id": "FLSKfNFmi1AA"
      }
    },
    {
      "cell_type": "code",
      "execution_count": null,
      "metadata": {
        "id": "X9dxAkyYfrQF"
      },
      "outputs": [],
      "source": [
        "# Python3 code to move all zeroes\n",
        "# at the end of array\n",
        "\n",
        "# Function which pushes all\n",
        "# zeros to end of an array.\n",
        "def pushZerosToEnd(arr, n):\n",
        "\tcount = 0 # Count of non-zero elements\n",
        "\t\n",
        "\t# Traverse the array. If element\n",
        "\t# encountered is non-zero, then\n",
        "\t# replace the element at index\n",
        "\t# 'count' with this element\n",
        "\tfor i in range(n):\n",
        "\t\tif arr[i] != 0:\n",
        "\t\t\t\n",
        "\t\t\t# here count is incremented\n",
        "\t\t\tarr[count] = arr[i]\n",
        "\t\t\tcount+=1\n",
        "\t\n",
        "\t# Now all non-zero elements have been\n",
        "\t# shifted to front and 'count' is set\n",
        "\t# as index of first 0. Make all\n",
        "\t# elements 0 from count to end.\n",
        "\twhile count < n:\n",
        "\t\tarr[count] = 0\n",
        "\t\tcount += 1\n",
        "\t\t"
      ]
    },
    {
      "cell_type": "code",
      "source": [
        "# Driver code\n",
        "arr = [1, 9, 8, 4, 0, 0, 2, 7, 0, 6, 0, 9]\n",
        "n = len(arr)\n",
        "pushZerosToEnd(arr, n)\n",
        "print(\"Array after pushing all zeros to end of array:\")\n",
        "print(arr)"
      ],
      "metadata": {
        "colab": {
          "base_uri": "https://localhost:8080/"
        },
        "id": "r5QEZfa9mCcG",
        "outputId": "e722c3db-c067-4242-83e9-df6a77c6a961"
      },
      "execution_count": 32,
      "outputs": [
        {
          "output_type": "stream",
          "name": "stdout",
          "text": [
            "Array after pushing all zeros to end of array:\n",
            "[1, 9, 8, 4, 2, 7, 6, 9, 0, 0, 0, 0]\n"
          ]
        }
      ]
    },
    {
      "cell_type": "code",
      "source": [
        "# Driver code\n",
        "arr = [0]\n",
        "n = len(arr)\n",
        "pushZerosToEnd(arr, n)\n",
        "print(\"Array after pushing all zeros to end of array:\")\n",
        "print(arr)"
      ],
      "metadata": {
        "colab": {
          "base_uri": "https://localhost:8080/"
        },
        "id": "R9pNCA8EmEF6",
        "outputId": "252ef88e-6a71-4b75-c114-5200248efdec"
      },
      "execution_count": 33,
      "outputs": [
        {
          "output_type": "stream",
          "name": "stdout",
          "text": [
            "Array after pushing all zeros to end of array:\n",
            "[0]\n"
          ]
        }
      ]
    },
    {
      "cell_type": "markdown",
      "source": [
        "First Unique Character in a String\n",
        "\n",
        "Given a string s, find the first non-repeating character in it and return its index. If it does not exist, return -1.\n",
        "\n",
        "Example 1:\n",
        "Input: s = \"leetcode\"\n",
        "Output: 0\n",
        "\n",
        "Example 2:\n",
        "Input: s = \"loveleetcode\"\n",
        "Output: 2\n",
        "\n",
        "Example 3:\n",
        "Input: s = \"aabb\"\n",
        "Output: -1\n",
        "\n",
        "Constraints:\n",
        "a. 1 <= s.length <= 10^5\n",
        "b. s consists of only lowercase English letters.\n",
        "\n",
        "Note: Create a GitHub file for the solution and add the file link the the answer section below."
      ],
      "metadata": {
        "id": "83nGufZAmKE-"
      }
    },
    {
      "cell_type": "code",
      "source": [
        "def fn(s):\n",
        "  order = []\n",
        "  counts = {}\n",
        "  for x in s:\n",
        "    if x in counts:\n",
        "      counts[x] += 1\n",
        "    else:\n",
        "      counts[x] = 1 \n",
        "      order.append(x)\n",
        "  for x in order:\n",
        "    if counts[x] == 1:\n",
        "      return s.index(x)\n",
        "  return -1"
      ],
      "metadata": {
        "id": "lze-bx20gBaJ"
      },
      "execution_count": 28,
      "outputs": []
    },
    {
      "cell_type": "code",
      "source": [
        "s = \"leetcode\"\n",
        "fn(s)"
      ],
      "metadata": {
        "colab": {
          "base_uri": "https://localhost:8080/"
        },
        "id": "wLPqekQXkdSC",
        "outputId": "fad3097e-bbde-445d-9dec-f569f8399cc0"
      },
      "execution_count": 29,
      "outputs": [
        {
          "output_type": "execute_result",
          "data": {
            "text/plain": [
              "0"
            ]
          },
          "metadata": {},
          "execution_count": 29
        }
      ]
    },
    {
      "cell_type": "code",
      "source": [
        "s = \"loveleetcode\"\n",
        "fn(s)"
      ],
      "metadata": {
        "colab": {
          "base_uri": "https://localhost:8080/"
        },
        "id": "AUUd80mukmee",
        "outputId": "289d7b39-47fe-443f-fdb9-ce4b11f9c201"
      },
      "execution_count": 30,
      "outputs": [
        {
          "output_type": "execute_result",
          "data": {
            "text/plain": [
              "2"
            ]
          },
          "metadata": {},
          "execution_count": 30
        }
      ]
    },
    {
      "cell_type": "code",
      "source": [
        "s = \"aabb\"\n",
        "fn(s)"
      ],
      "metadata": {
        "colab": {
          "base_uri": "https://localhost:8080/"
        },
        "id": "xnMd4qkTk7MH",
        "outputId": "bf04d6ad-fae9-452f-f517-b5435fca1c70"
      },
      "execution_count": 31,
      "outputs": [
        {
          "output_type": "execute_result",
          "data": {
            "text/plain": [
              "-1"
            ]
          },
          "metadata": {},
          "execution_count": 31
        }
      ]
    }
  ]
}